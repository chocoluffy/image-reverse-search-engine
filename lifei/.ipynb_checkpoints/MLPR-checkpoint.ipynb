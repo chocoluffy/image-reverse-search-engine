{
 "cells": [
  {
   "cell_type": "code",
   "execution_count": 1,
   "metadata": {},
   "outputs": [],
   "source": [
    "import numpy as np\n",
    "import pandas as pd\n",
    "from sklearn.neural_network import MLPRegressor"
   ]
  },
  {
   "cell_type": "code",
   "execution_count": 2,
   "metadata": {},
   "outputs": [],
   "source": [
    "des_concat_train = np.load('./features/descriptions_train_concat_embed_vectors.npy')\n",
    "des_concat_test = np.load('./features/descriptions_test_concat_embed_vectors.npy')\n",
    "des_long_train = np.load('./features/descriptions_train_long_embed_vectors.npy')\n",
    "des_long_test = np.load('./features/descriptions_test_long_embed_vectors.npy')\n",
    "image_1000_train = np.load('./features/image_features_1000_train.npy')\n",
    "image_1000_test = np.load('./features/image_features_1000_test.npy')\n",
    "image_2048_train = np.load('./features/image_features_2048_train.npy')\n",
    "image_2048_test = np.load('./features/image_features_2048_test.npy')\n",
    "des_BOW_noun_train = np.load('features/descriptions_train_BOW_noun_5452.npy')\n",
    "des_BOW_noun_test = np.load('features/descriptions_test_BOW_noun_5452.npy')\n",
    "tags_BOW_80_train = np.load('./features/tags_BOW_80_train.npy')\n",
    "tags_BOW_80_test = np.load('./features/tags_BOW_80_test.npy')\n",
    "des_BOW_all_train = np.load('features/descriptions_all_BOW_train.npy')\n",
    "des_BOW_all_test = np.load('features/descriptions_all_BOW_test.npy')"
   ]
  },
  {
   "cell_type": "code",
   "execution_count": 3,
   "metadata": {},
   "outputs": [],
   "source": [
    "def get_nearest_20(vec, vec_set):\n",
    "    dis = [np.linalg.norm(np.array(vec) - np.array(x)) for x in vec_set]\n",
    "    return np.argsort(dis)[:20]\n",
    "\n",
    "def map20score(y, pred):\n",
    "    if y in pred:\n",
    "        return (20 - pred.tolist().index(y)) / 20.0\n",
    "    else:\n",
    "        return 0\n",
    "\n",
    "def map20eval(pls, des_vectors, image_vectors):\n",
    "    image_pred = pls.predict(des_vectors)\n",
    "    top_20 = [get_nearest_20(vec, image_vectors) for vec in image_pred]\n",
    "    print(len(top_20))\n",
    "    scores = [map20score(i, top_20[i]) for i in range(len(top_20))]\n",
    "    print \"score: %f\" % np.mean(scores)\n",
    "    return scores"
   ]
  },
  {
   "cell_type": "code",
   "execution_count": 4,
   "metadata": {},
   "outputs": [],
   "source": [
    "def output_submission(top_20, output_path):\n",
    "    top_20_image_IDs = map(lambda x: ' '.join(map(lambda xx: str(xx) + '.jpg', x)), top_20)\n",
    "    description_ID = map(lambda x: str(x) + '.txt', range(len(top_20)))\n",
    "    submission_df = pd.DataFrame({'Descritpion_ID': description_ID, 'Top_20_Image_IDs': top_20_image_IDs})\n",
    "    submission_df.to_csv(output_path, index=False)\n"
   ]
  },
  {
   "cell_type": "code",
   "execution_count": null,
   "metadata": {},
   "outputs": [],
   "source": [
    "mlp_des_BOW_all_5816_tags_80 = MLPRegressor(hidden_layer_sizes=(2048, 512, 128, 80),\n",
    "                                            activation-'relu',\n",
    "                                            solver='adam',\n",
    "                                            learning_rate='constant',\n",
    "                                            learning_rate_init=0.001,\n",
    "                                            max_iter=500,\n",
    "                                            tol=1e-4,\n",
    "                                            verbose=True,\n",
    "                                            early_stopping=True,\n",
    "                                            validation_fraction=0.2,\n",
    "                                            n_iter_no_change=10,\n",
    "                                            )"
   ]
  }
 ],
 "metadata": {
  "kernelspec": {
   "display_name": "Python 2",
   "language": "python",
   "name": "python2"
  },
  "language_info": {
   "codemirror_mode": {
    "name": "ipython",
    "version": 2
   },
   "file_extension": ".py",
   "mimetype": "text/x-python",
   "name": "python",
   "nbconvert_exporter": "python",
   "pygments_lexer": "ipython2",
   "version": "2.7.15"
  }
 },
 "nbformat": 4,
 "nbformat_minor": 2
}
