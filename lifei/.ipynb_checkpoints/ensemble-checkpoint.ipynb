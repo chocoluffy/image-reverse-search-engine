{
 "cells": [
  {
   "cell_type": "code",
   "execution_count": 151,
   "metadata": {},
   "outputs": [],
   "source": [
    "import pandas as pd\n",
    "import numpy as np\n",
    "import operator"
   ]
  },
  {
   "cell_type": "code",
   "execution_count": 152,
   "metadata": {},
   "outputs": [],
   "source": [
    "submission_file_list = ['submissions/submission_PLSR_100_BOW_all_pca_2048_tags_0.24021.csv', 'submissions/0.35_plsr_600_pool5_to_bow_all_pca_1024.csv', 'submissions/submission_boa_23.csv']"
   ]
  },
  {
   "cell_type": "code",
   "execution_count": 153,
   "metadata": {},
   "outputs": [],
   "source": [
    "submission_weight = [0.24021, 0.35258, 0.23788]"
   ]
  },
  {
   "cell_type": "code",
   "execution_count": 154,
   "metadata": {},
   "outputs": [],
   "source": [
    "def calc_single(pred_list):\n",
    "    score_dict = {}\n",
    "    for i in range(len(pred_list)):\n",
    "        for j in range(len(pred_list[i])):\n",
    "            if pred_list[i][j] not in score_dict:\n",
    "                score_dict[pred_list[i][j]] = 0.0\n",
    "            score_dict[pred_list[i][j]] += float(len(pred_list[i]) - j) / len(pred_list[i]) * submission_weight[i]\n",
    "    sorted_score = sorted(score_dict.items(), key=operator.itemgetter(1), reverse=True)\n",
    "    return map(lambda x: x[0], sorted_score[:20])"
   ]
  },
  {
   "cell_type": "code",
   "execution_count": 155,
   "metadata": {},
   "outputs": [],
   "source": [
    "def ensemble():\n",
    "    res = []\n",
    "    dfs = [pd.read_csv(file_path, encoding='utf-8') for file_path in submission_file_list]\n",
    "    for i in range(dfs[0].shape[0]):\n",
    "        pred_list = [df.iloc[i]['Top_20_Image_IDs'].split(' ') for df in dfs]\n",
    "        res.append(' '.join(calc_single(pred_list)))\n",
    "    print len(res)\n",
    "    return pd.DataFrame({'Descritpion_ID': dfs[0]['Descritpion_ID'].tolist(), 'Top_20_Image_IDs': res})"
   ]
  },
  {
   "cell_type": "code",
   "execution_count": 156,
   "metadata": {},
   "outputs": [
    {
     "name": "stdout",
     "output_type": "stream",
     "text": [
      "2000\n"
     ]
    }
   ],
   "source": [
    "df_ensembled = ensemble()"
   ]
  },
  {
   "cell_type": "code",
   "execution_count": 157,
   "metadata": {},
   "outputs": [
    {
     "name": "stdout",
     "output_type": "stream",
     "text": [
      "     Descritpion_ID                                   Top_20_Image_IDs\n",
      "0             0.txt  105.jpg 1105.jpg 292.jpg 1480.jpg 942.jpg 46.j...\n",
      "1             1.txt  833.jpg 818.jpg 80.jpg 314.jpg 589.jpg 107.jpg...\n",
      "2             2.txt  1183.jpg 838.jpg 445.jpg 1724.jpg 1471.jpg 186...\n",
      "3             3.txt  1514.jpg 469.jpg 26.jpg 1765.jpg 770.jpg 1215....\n",
      "4             4.txt  742.jpg 1231.jpg 292.jpg 1243.jpg 199.jpg 1180...\n",
      "5             5.txt  492.jpg 1335.jpg 330.jpg 1693.jpg 771.jpg 814....\n",
      "6             6.txt  1855.jpg 1701.jpg 1216.jpg 1275.jpg 1815.jpg 1...\n",
      "7             7.txt  448.jpg 689.jpg 975.jpg 168.jpg 1488.jpg 627.j...\n",
      "8             8.txt  419.jpg 719.jpg 1283.jpg 103.jpg 1004.jpg 1847...\n",
      "9             9.txt  614.jpg 1700.jpg 51.jpg 570.jpg 1446.jpg 549.j...\n",
      "10           10.txt  696.jpg 1482.jpg 42.jpg 634.jpg 1242.jpg 765.j...\n",
      "11           11.txt  51.jpg 814.jpg 1426.jpg 1693.jpg 1292.jpg 771....\n",
      "12           12.txt  1656.jpg 1057.jpg 837.jpg 1023.jpg 221.jpg 165...\n",
      "13           13.txt  1584.jpg 1020.jpg 996.jpg 712.jpg 1855.jpg 146...\n",
      "14           14.txt  156.jpg 217.jpg 414.jpg 1289.jpg 1151.jpg 555....\n",
      "15           15.txt  247.jpg 644.jpg 1999.jpg 482.jpg 1334.jpg 1839...\n",
      "16           16.txt  1236.jpg 1746.jpg 1127.jpg 37.jpg 52.jpg 880.j...\n",
      "17           17.txt  445.jpg 838.jpg 322.jpg 1713.jpg 1144.jpg 141....\n",
      "18           18.txt  1463.jpg 779.jpg 1279.jpg 1450.jpg 605.jpg 59....\n",
      "19           19.txt  1128.jpg 933.jpg 1301.jpg 145.jpg 824.jpg 1357...\n",
      "20           20.txt  1570.jpg 1031.jpg 1656.jpg 109.jpg 1499.jpg 48...\n",
      "21           21.txt  1921.jpg 1070.jpg 817.jpg 960.jpg 148.jpg 1598...\n",
      "22           22.txt  1814.jpg 590.jpg 1988.jpg 666.jpg 1138.jpg 164...\n",
      "23           23.txt  385.jpg 707.jpg 759.jpg 1554.jpg 499.jpg 1545....\n",
      "24           24.txt  1633.jpg 1074.jpg 1681.jpg 1870.jpg 1445.jpg 1...\n",
      "25           25.txt  471.jpg 26.jpg 1215.jpg 1207.jpg 1889.jpg 731....\n",
      "26           26.txt  1141.jpg 738.jpg 1839.jpg 668.jpg 1999.jpg 136...\n",
      "27           27.txt  708.jpg 64.jpg 1012.jpg 777.jpg 439.jpg 1364.j...\n",
      "28           28.txt  738.jpg 1141.jpg 1184.jpg 1102.jpg 1369.jpg 19...\n",
      "29           29.txt  998.jpg 656.jpg 216.jpg 1218.jpg 1176.jpg 1821...\n",
      "...             ...                                                ...\n",
      "1970       1970.txt  1644.jpg 982.jpg 1611.jpg 1690.jpg 1013.jpg 84...\n",
      "1971       1971.txt  1802.jpg 731.jpg 728.jpg 1889.jpg 951.jpg 1614...\n",
      "1972       1972.txt  385.jpg 499.jpg 1356.jpg 1422.jpg 1805.jpg 578...\n",
      "1973       1973.txt  545.jpg 1651.jpg 254.jpg 97.jpg 993.jpg 303.jp...\n",
      "1974       1974.txt  988.jpg 746.jpg 1951.jpg 548.jpg 1549.jpg 1578...\n",
      "1975       1975.txt  1633.jpg 1870.jpg 1520.jpg 1036.jpg 522.jpg 16...\n",
      "1976       1976.txt  582.jpg 414.jpg 1377.jpg 262.jpg 1311.jpg 899....\n",
      "1977       1977.txt  988.jpg 746.jpg 470.jpg 963.jpg 298.jpg 713.jp...\n",
      "1978       1978.txt  897.jpg 535.jpg 1275.jpg 1758.jpg 910.jpg 1940...\n",
      "1979       1979.txt  1782.jpg 2.jpg 808.jpg 1510.jpg 1161.jpg 1466....\n",
      "1980       1980.txt  1632.jpg 325.jpg 1767.jpg 618.jpg 1511.jpg 547...\n",
      "1981       1981.txt  733.jpg 854.jpg 491.jpg 1356.jpg 578.jpg 780.j...\n",
      "1982       1982.txt  1890.jpg 1449.jpg 857.jpg 822.jpg 1932.jpg 168...\n",
      "1983       1983.txt  63.jpg 180.jpg 646.jpg 1008.jpg 1739.jpg 1605....\n",
      "1984       1984.txt  1636.jpg 247.jpg 1375.jpg 1643.jpg 645.jpg 131...\n",
      "1985       1985.txt  1919.jpg 1547.jpg 1960.jpg 1553.jpg 981.jpg 55...\n",
      "1986       1986.txt  1497.jpg 1304.jpg 83.jpg 1182.jpg 926.jpg 961....\n",
      "1987       1987.txt  143.jpg 1491.jpg 1932.jpg 1841.jpg 624.jpg 168...\n",
      "1988       1988.txt  1621.jpg 544.jpg 128.jpg 1364.jpg 268.jpg 1376...\n",
      "1989       1989.txt  1422.jpg 1554.jpg 1356.jpg 1805.jpg 1019.jpg 9...\n",
      "1990       1990.txt  187.jpg 1648.jpg 1437.jpg 991.jpg 1331.jpg 19....\n",
      "1991       1991.txt  1049.jpg 1639.jpg 1916.jpg 355.jpg 365.jpg 159...\n",
      "1992       1992.txt  489.jpg 1139.jpg 655.jpg 1885.jpg 718.jpg 217....\n",
      "1993       1993.txt  1784.jpg 1590.jpg 1619.jpg 875.jpg 65.jpg 1697...\n",
      "1994       1994.txt  561.jpg 111.jpg 1618.jpg 1556.jpg 1674.jpg 193...\n",
      "1995       1995.txt  1183.jpg 42.jpg 765.jpg 159.jpg 1033.jpg 117.j...\n",
      "1996       1996.txt  1853.jpg 748.jpg 1164.jpg 398.jpg 1027.jpg 319...\n",
      "1997       1997.txt  104.jpg 657.jpg 293.jpg 1564.jpg 782.jpg 1958....\n",
      "1998       1998.txt  912.jpg 985.jpg 1510.jpg 922.jpg 1451.jpg 861....\n",
      "1999       1999.txt  1342.jpg 405.jpg 1106.jpg 68.jpg 308.jpg 1284....\n",
      "\n",
      "[2000 rows x 2 columns]\n"
     ]
    }
   ],
   "source": [
    "print df_ensembled"
   ]
  },
  {
   "cell_type": "code",
   "execution_count": 158,
   "metadata": {},
   "outputs": [],
   "source": [
    "df_ensembled.to_csv('submissions/ensembled_0.35_0.24_0.23_score_weighted.csv', index=False)"
   ]
  },
  {
   "cell_type": "code",
   "execution_count": null,
   "metadata": {},
   "outputs": [],
   "source": []
  }
 ],
 "metadata": {
  "kernelspec": {
   "display_name": "Python 2",
   "language": "python",
   "name": "python2"
  },
  "language_info": {
   "codemirror_mode": {
    "name": "ipython",
    "version": 2
   },
   "file_extension": ".py",
   "mimetype": "text/x-python",
   "name": "python",
   "nbconvert_exporter": "python",
   "pygments_lexer": "ipython2",
   "version": "2.7.15"
  }
 },
 "nbformat": 4,
 "nbformat_minor": 2
}
