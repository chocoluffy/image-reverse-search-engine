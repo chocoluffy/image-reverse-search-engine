{
 "cells": [
  {
   "cell_type": "code",
   "execution_count": 37,
   "metadata": {},
   "outputs": [],
   "source": [
    "import pandas as pd\n",
    "import numpy as np\n",
    "import operator"
   ]
  },
  {
   "cell_type": "code",
   "execution_count": 38,
   "metadata": {},
   "outputs": [],
   "source": [
    "submission_file_list = ['submissions/PLSR_256_concat_1000_1000iter.csv', 'submissions/PLSR_256_BOW_noun_1000.csv', 'submissions/submission_v2_013.csv', 'submissions/submission_KNN.csv', 'submissions/PLSR_200_top_20_BOW_noun_pca_512_tags.csv', 'submissions/PLSR_100_top_20_BOW_all_pca_2048_tags.csv', 'submissions/PLSR_200_top_20_BOW_all_pca_512_image_1000.csv']"
   ]
  },
  {
   "cell_type": "code",
   "execution_count": 39,
   "metadata": {},
   "outputs": [],
   "source": [
    "submission_weight = [0.16860, 0.14397, 0.13756, 0.12678, 0.16146, 0.24021, 0.17098]"
   ]
  },
  {
   "cell_type": "code",
   "execution_count": 40,
   "metadata": {},
   "outputs": [],
   "source": [
    "def calc_single(pred_list):\n",
    "    score_dict = {}\n",
    "    for i in range(len(pred_list)):\n",
    "        for j in range(len(pred_list[i])):\n",
    "            if pred_list[i][j] not in score_dict:\n",
    "                score_dict[pred_list[i][j]] = 0.0\n",
    "            score_dict[pred_list[i][j]] += float(len(pred_list[i]) - j) / len(pred_list[i]) * submission_weight[i]\n",
    "    sorted_score = sorted(score_dict.items(), key=operator.itemgetter(1), reverse=True)\n",
    "    return map(lambda x: x[0], sorted_score[:20])"
   ]
  },
  {
   "cell_type": "code",
   "execution_count": 41,
   "metadata": {},
   "outputs": [],
   "source": [
    "def ensemble():\n",
    "    res = []\n",
    "    dfs = [pd.read_csv(file_path, encoding='utf-8') for file_path in submission_file_list]\n",
    "    for i in range(dfs[0].shape[0]):\n",
    "        pred_list = [df.iloc[i]['Top_20_Image_IDs'].split(' ') for df in dfs]\n",
    "        res.append(' '.join(calc_single(pred_list)))\n",
    "    print len(res)\n",
    "    return pd.DataFrame({'Descritpion_ID': dfs[0]['Descritpion_ID'].tolist(), 'Top_20_Image_IDs': res})"
   ]
  },
  {
   "cell_type": "code",
   "execution_count": 42,
   "metadata": {},
   "outputs": [
    {
     "name": "stdout",
     "output_type": "stream",
     "text": [
      "2000\n"
     ]
    }
   ],
   "source": [
    "df_ensembled = ensemble()"
   ]
  },
  {
   "cell_type": "code",
   "execution_count": 43,
   "metadata": {},
   "outputs": [
    {
     "name": "stdout",
     "output_type": "stream",
     "text": [
      "     Descritpion_ID                                   Top_20_Image_IDs\n",
      "0             0.txt  93.jpg 124.jpg 1131.jpg 742.jpg 1011.jpg 1980....\n",
      "1             1.txt  1199.jpg 1880.jpg 1741.jpg 80.jpg 495.jpg 1714...\n",
      "2             2.txt  838.jpg 1183.jpg 1471.jpg 1651.jpg 445.jpg 511...\n",
      "3             3.txt  1748.jpg 1052.jpg 1620.jpg 71.jpg 305.jpg 1187...\n",
      "4             4.txt  292.jpg 1231.jpg 68.jpg 942.jpg 912.jpg 1394.j...\n",
      "5             5.txt  1335.jpg 51.jpg 1594.jpg 1088.jpg 846.jpg 1693...\n",
      "6             6.txt  1151.jpg 1265.jpg 1768.jpg 1790.jpg 1885.jpg 1...\n",
      "7             7.txt  975.jpg 1249.jpg 136.jpg 1488.jpg 1270.jpg 136...\n",
      "8             8.txt  1570.jpg 781.jpg 537.jpg 1283.jpg 991.jpg 1037...\n",
      "9             9.txt  872.jpg 554.jpg 133.jpg 1088.jpg 1700.jpg 1594...\n",
      "10           10.txt  838.jpg 42.jpg 634.jpg 696.jpg 1272.jpg 1665.j...\n",
      "11           11.txt  1913.jpg 1693.jpg 1292.jpg 1402.jpg 51.jpg 108...\n",
      "12           12.txt  1630.jpg 1031.jpg 1918.jpg 1656.jpg 393.jpg 10...\n",
      "13           13.txt  1020.jpg 458.jpg 262.jpg 1151.jpg 1758.jpg 137...\n",
      "14           14.txt  1151.jpg 1265.jpg 555.jpg 262.jpg 1289.jpg 899...\n",
      "15           15.txt  668.jpg 1369.jpg 738.jpg 1158.jpg 1959.jpg 118...\n",
      "16           16.txt  1434.jpg 1127.jpg 914.jpg 880.jpg 1798.jpg 122...\n",
      "17           17.txt  106.jpg 1183.jpg 476.jpg 883.jpg 696.jpg 338.j...\n",
      "18           18.txt  1279.jpg 1450.jpg 677.jpg 1463.jpg 239.jpg 59....\n",
      "19           19.txt  1189.jpg 817.jpg 824.jpg 258.jpg 884.jpg 1301....\n",
      "20           20.txt  1197.jpg 431.jpg 539.jpg 3.jpg 633.jpg 781.jpg...\n",
      "21           21.txt  1215.jpg 1661.jpg 960.jpg 471.jpg 85.jpg 731.j...\n",
      "22           22.txt  1814.jpg 666.jpg 1988.jpg 701.jpg 1704.jpg 113...\n",
      "23           23.txt  1356.jpg 780.jpg 1554.jpg 1422.jpg 1873.jpg 15...\n",
      "24           24.txt  1633.jpg 584.jpg 1445.jpg 74.jpg 101.jpg 1870....\n",
      "25           25.txt  1207.jpg 1215.jpg 471.jpg 960.jpg 834.jpg 1889...\n",
      "26           26.txt  738.jpg 1141.jpg 482.jpg 1369.jpg 1184.jpg 107...\n",
      "27           27.txt  673.jpg 268.jpg 1339.jpg 439.jpg 1970.jpg 1154...\n",
      "28           28.txt  738.jpg 1369.jpg 482.jpg 107.jpg 529.jpg 1141....\n",
      "29           29.txt  570.jpg 1461.jpg 554.jpg 1379.jpg 19.jpg 174.j...\n",
      "...             ...                                                ...\n",
      "1970       1970.txt  848.jpg 873.jpg 1272.jpg 1644.jpg 844.jpg 420....\n",
      "1971       1971.txt  1802.jpg 1614.jpg 951.jpg 1903.jpg 52.jpg 728....\n",
      "1972       1972.txt  1964.jpg 780.jpg 1554.jpg 278.jpg 1356.jpg 578...\n",
      "1973       1973.txt  1906.jpg 1464.jpg 928.jpg 1752.jpg 1067.jpg 16...\n",
      "1974       1974.txt  466.jpg 1182.jpg 988.jpg 548.jpg 216.jpg 1868....\n",
      "1975       1975.txt  522.jpg 1870.jpg 536.jpg 1445.jpg 1633.jpg 74....\n",
      "1976       1976.txt  458.jpg 1289.jpg 1151.jpg 1377.jpg 414.jpg 188...\n",
      "1977       1977.txt  1587.jpg 963.jpg 1977.jpg 1200.jpg 1975.jpg 47...\n",
      "1978       1978.txt  1940.jpg 996.jpg 1275.jpg 910.jpg 262.jpg 1151...\n",
      "1979       1979.txt  2.jpg 132.jpg 525.jpg 1384.jpg 912.jpg 849.jpg...\n",
      "1980       1980.txt  547.jpg 1767.jpg 474.jpg 218.jpg 925.jpg 618.j...\n",
      "1981       1981.txt  1356.jpg 39.jpg 780.jpg 278.jpg 1422.jpg 491.j...\n",
      "1982       1982.txt  1449.jpg 798.jpg 1121.jpg 1764.jpg 1457.jpg 41...\n",
      "1983       1983.txt  1211.jpg 1853.jpg 938.jpg 1460.jpg 1605.jpg 68...\n",
      "1984       1984.txt  191.jpg 1636.jpg 645.jpg 1451.jpg 198.jpg 1477...\n",
      "1985       1985.txt  1919.jpg 1553.jpg 1547.jpg 1788.jpg 1720.jpg 7...\n",
      "1986       1986.txt  83.jpg 1271.jpg 423.jpg 1509.jpg 961.jpg 596.j...\n",
      "1987       1987.txt  624.jpg 1932.jpg 1491.jpg 143.jpg 1905.jpg 109...\n",
      "1988       1988.txt  673.jpg 439.jpg 1012.jpg 1551.jpg 87.jpg 1376....\n",
      "1989       1989.txt  780.jpg 1964.jpg 1019.jpg 1058.jpg 1422.jpg 13...\n",
      "1990       1990.txt  332.jpg 785.jpg 991.jpg 352.jpg 19.jpg 452.jpg...\n",
      "1991       1991.txt  1806.jpg 5.jpg 1639.jpg 1049.jpg 1313.jpg 1742...\n",
      "1992       1992.txt  1815.jpg 1607.jpg 1151.jpg 1377.jpg 897.jpg 18...\n",
      "1993       1993.txt  924.jpg 1784.jpg 1908.jpg 839.jpg 1474.jpg 635...\n",
      "1994       1994.txt  561.jpg 338.jpg 476.jpg 714.jpg 696.jpg 1253.j...\n",
      "1995       1995.txt  117.jpg 873.jpg 505.jpg 765.jpg 539.jpg 1183.j...\n",
      "1996       1996.txt  1962.jpg 1027.jpg 1460.jpg 748.jpg 1853.jpg 12...\n",
      "1997       1997.txt  1958.jpg 782.jpg 657.jpg 533.jpg 312.jpg 424.j...\n",
      "1998       1998.txt  1466.jpg 597.jpg 1510.jpg 959.jpg 922.jpg 112....\n",
      "1999       1999.txt  588.jpg 68.jpg 153.jpg 305.jpg 273.jpg 1776.jp...\n",
      "\n",
      "[2000 rows x 2 columns]\n"
     ]
    }
   ],
   "source": [
    "print df_ensembled"
   ]
  },
  {
   "cell_type": "code",
   "execution_count": 44,
   "metadata": {},
   "outputs": [],
   "source": [
    "df_ensembled.to_csv('submissions/ensembled_PLSR_concat_BOW_caption_KNN.csv', index=False)"
   ]
  },
  {
   "cell_type": "code",
   "execution_count": null,
   "metadata": {},
   "outputs": [],
   "source": []
  }
 ],
 "metadata": {
  "kernelspec": {
   "display_name": "Python 2",
   "language": "python",
   "name": "python2"
  },
  "language_info": {
   "codemirror_mode": {
    "name": "ipython",
    "version": 2
   },
   "file_extension": ".py",
   "mimetype": "text/x-python",
   "name": "python",
   "nbconvert_exporter": "python",
   "pygments_lexer": "ipython2",
   "version": "2.7.15"
  }
 },
 "nbformat": 4,
 "nbformat_minor": 2
}
