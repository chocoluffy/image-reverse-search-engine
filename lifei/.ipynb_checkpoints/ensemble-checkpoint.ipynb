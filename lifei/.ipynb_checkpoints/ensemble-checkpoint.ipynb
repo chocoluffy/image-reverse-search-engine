{
 "cells": [
  {
   "cell_type": "code",
   "execution_count": 215,
   "metadata": {},
   "outputs": [],
   "source": [
    "import pandas as pd\n",
    "import numpy as np\n",
    "import operator"
   ]
  },
  {
   "cell_type": "code",
   "execution_count": 216,
   "metadata": {},
   "outputs": [],
   "source": [
    "submission_file_list = ['submissions/reverse_count_weight_canary_word_count_with_tag_2048_no_caption_0.40498.csv',\n",
    "                        'submissions/0.352_plsr_800_pool5_to_bow_all_pca_2048.csv',\n",
    "                        'submissions/0.31_submission_plsr_800_pool5_to_word2vec_n_v_ajd_300.csv',\n",
    "                        'submissions/PLSR_100_BOW_all_pca_2048_tags_80_cos_0.26727.csv',\n",
    "                        'submissions/MLPR_image_1000_des_BOW_all_23.csv',\n",
    "                        'submissions/PLSR_256_concat_1000_1000iter_cos_0.19557.csv',\n",
    "                        'submissions/submission_v2_013_0.13756.csv',\n",
    "                        'submissions/test_submission_new_0.24732.csv',\n",
    "                        'submissions/reverse_with_captions_in_desc_0.31181.csv']"
   ]
  },
  {
   "cell_type": "code",
   "execution_count": 217,
   "metadata": {},
   "outputs": [],
   "source": [
    "submission_weight = [0.40498, 0.352, 0.31, 0.26727, 0.23, 0.19557, 0.13756, 0.24732, 0.31181]\n",
    "\n",
    "# submission_weight = [1] * len(submission_file_list)\n",
    "\n",
    "output_name = 'submissions/ensembled_0.40498_0.352_0.31_0.26727_0.23_0.19557_0.13756_0.24732_0.31181_score_weight.csv'"
   ]
  },
  {
   "cell_type": "code",
   "execution_count": 218,
   "metadata": {},
   "outputs": [],
   "source": [
    "def calc_single(pred_list):\n",
    "    score_dict = {}\n",
    "    for i in range(len(pred_list)):\n",
    "        for j in range(len(pred_list[i])):\n",
    "            if pred_list[i][j] not in score_dict:\n",
    "                score_dict[pred_list[i][j]] = 0.0\n",
    "            score_dict[pred_list[i][j]] += float(len(pred_list[i]) - j) / len(pred_list[i]) * submission_weight[i]\n",
    "    sorted_score = sorted(score_dict.items(), key=operator.itemgetter(1), reverse=True)\n",
    "    return map(lambda x: x[0], sorted_score[:20])"
   ]
  },
  {
   "cell_type": "code",
   "execution_count": 219,
   "metadata": {},
   "outputs": [],
   "source": [
    "def ensemble():\n",
    "    res = []\n",
    "    dfs = [pd.read_csv(file_path, encoding='utf-8') for file_path in submission_file_list]\n",
    "    for i in range(dfs[0].shape[0]):\n",
    "        pred_list = [df.iloc[i]['Top_20_Image_IDs'].split(' ') for df in dfs]\n",
    "        res.append(' '.join(calc_single(pred_list)))\n",
    "    print len(res)\n",
    "    return pd.DataFrame({'Descritpion_ID': dfs[0]['Descritpion_ID'].tolist(), 'Top_20_Image_IDs': res})"
   ]
  },
  {
   "cell_type": "code",
   "execution_count": 220,
   "metadata": {},
   "outputs": [
    {
     "name": "stdout",
     "output_type": "stream",
     "text": [
      "2000\n"
     ]
    }
   ],
   "source": [
    "df_ensembled = ensemble()"
   ]
  },
  {
   "cell_type": "code",
   "execution_count": 221,
   "metadata": {},
   "outputs": [
    {
     "name": "stdout",
     "output_type": "stream",
     "text": [
      "     Descritpion_ID                                   Top_20_Image_IDs\n",
      "0             0.txt  124.jpg 93.jpg 292.jpg 1105.jpg 1131.jpg 942.j...\n",
      "1             1.txt  833.jpg 589.jpg 1742.jpg 80.jpg 818.jpg 457.jp...\n",
      "2             2.txt  838.jpg 159.jpg 1724.jpg 598.jpg 445.jpg 1840....\n",
      "3             3.txt  1765.jpg 1514.jpg 770.jpg 26.jpg 1215.jpg 1035...\n",
      "4             4.txt  1231.jpg 742.jpg 292.jpg 942.jpg 1816.jpg 922....\n",
      "5             5.txt  771.jpg 51.jpg 492.jpg 1335.jpg 1693.jpg 846.j...\n",
      "6             6.txt  1216.jpg 1855.jpg 1815.jpg 1660.jpg 429.jpg 13...\n",
      "7             7.txt  987.jpg 409.jpg 448.jpg 1285.jpg 689.jpg 685.j...\n",
      "8             8.txt  419.jpg 719.jpg 531.jpg 103.jpg 727.jpg 1283.j...\n",
      "9             9.txt  614.jpg 554.jpg 549.jpg 770.jpg 1795.jpg 1335....\n",
      "10           10.txt  1421.jpg 904.jpg 1471.jpg 1665.jpg 1840.jpg 14...\n",
      "11           11.txt  814.jpg 1693.jpg 492.jpg 51.jpg 771.jpg 1426.j...\n",
      "12           12.txt  1653.jpg 1031.jpg 1171.jpg 1656.jpg 464.jpg 40...\n",
      "13           13.txt  1584.jpg 1289.jpg 1020.jpg 414.jpg 899.jpg 712...\n",
      "14           14.txt  217.jpg 156.jpg 414.jpg 1289.jpg 1151.jpg 1758...\n",
      "15           15.txt  247.jpg 644.jpg 1334.jpg 668.jpg 1999.jpg 482....\n",
      "16           16.txt  37.jpg 1127.jpg 1236.jpg 880.jpg 1385.jpg 1746...\n",
      "17           17.txt  322.jpg 445.jpg 838.jpg 1665.jpg 1724.jpg 1499...\n",
      "18           18.txt  779.jpg 1463.jpg 59.jpg 677.jpg 1450.jpg 1953....\n",
      "19           19.txt  1301.jpg 145.jpg 824.jpg 1128.jpg 1357.jpg 884...\n",
      "20           20.txt  1031.jpg 676.jpg 828.jpg 1656.jpg 1919.jpg 724...\n",
      "21           21.txt  1921.jpg 148.jpg 915.jpg 1661.jpg 1767.jpg 190...\n",
      "22           22.txt  1814.jpg 590.jpg 1642.jpg 1138.jpg 326.jpg 198...\n",
      "23           23.txt  385.jpg 499.jpg 578.jpg 1019.jpg 759.jpg 707.j...\n",
      "24           24.txt  1633.jpg 684.jpg 1722.jpg 1681.jpg 536.jpg 107...\n",
      "25           25.txt  1215.jpg 1207.jpg 26.jpg 1889.jpg 471.jpg 1097...\n",
      "26           26.txt  1141.jpg 668.jpg 1369.jpg 247.jpg 738.jpg 1507...\n",
      "27           27.txt  64.jpg 269.jpg 1364.jpg 194.jpg 1012.jpg 777.j...\n",
      "28           28.txt  738.jpg 1999.jpg 1141.jpg 1369.jpg 668.jpg 118...\n",
      "29           29.txt  1149.jpg 1176.jpg 45.jpg 1296.jpg 772.jpg 656....\n",
      "...             ...                                                ...\n",
      "1970       1970.txt  1611.jpg 982.jpg 1644.jpg 1690.jpg 1365.jpg 42...\n",
      "1971       1971.txt  1802.jpg 951.jpg 728.jpg 1903.jpg 1889.jpg 731...\n",
      "1972       1972.txt  499.jpg 385.jpg 1805.jpg 578.jpg 1019.jpg 707....\n",
      "1973       1973.txt  303.jpg 993.jpg 1405.jpg 1909.jpg 43.jpg 980.j...\n",
      "1974       1974.txt  470.jpg 713.jpg 746.jpg 1951.jpg 988.jpg 1252....\n",
      "1975       1975.txt  1722.jpg 1870.jpg 1633.jpg 684.jpg 1445.jpg 15...\n",
      "1976       1976.txt  414.jpg 262.jpg 712.jpg 489.jpg 1377.jpg 1655....\n",
      "1977       1977.txt  963.jpg 746.jpg 988.jpg 470.jpg 713.jpg 1951.j...\n",
      "1978       1978.txt  1758.jpg 535.jpg 1275.jpg 908.jpg 1655.jpg 897...\n",
      "1979       1979.txt  79.jpg 1782.jpg 2.jpg 1384.jpg 1050.jpg 1535.j...\n",
      "1980       1980.txt  1632.jpg 1767.jpg 1511.jpg 325.jpg 148.jpg 618...\n",
      "1981       1981.txt  780.jpg 1058.jpg 578.jpg 827.jpg 733.jpg 1964....\n",
      "1982       1982.txt  1890.jpg 1449.jpg 1932.jpg 822.jpg 1438.jpg 85...\n",
      "1983       1983.txt  63.jpg 1853.jpg 1739.jpg 1211.jpg 180.jpg 748....\n",
      "1984       1984.txt  1636.jpg 967.jpg 1643.jpg 645.jpg 1477.jpg 191...\n",
      "1985       1985.txt  1547.jpg 1024.jpg 153.jpg 1960.jpg 739.jpg 55....\n",
      "1986       1986.txt  83.jpg 1497.jpg 1106.jpg 1304.jpg 405.jpg 466....\n",
      "1987       1987.txt  1491.jpg 143.jpg 624.jpg 1905.jpg 1841.jpg 193...\n",
      "1988       1988.txt  1621.jpg 439.jpg 1012.jpg 544.jpg 1235.jpg 181...\n",
      "1989       1989.txt  1422.jpg 578.jpg 1805.jpg 707.jpg 1554.jpg 129...\n",
      "1990       1990.txt  187.jpg 1652.jpg 1027.jpg 991.jpg 1543.jpg 154...\n",
      "1991       1991.txt  1916.jpg 1639.jpg 927.jpg 1049.jpg 1742.jpg 36...\n",
      "1992       1992.txt  489.jpg 718.jpg 1151.jpg 535.jpg 217.jpg 897.j...\n",
      "1993       1993.txt  1784.jpg 65.jpg 751.jpg 851.jpg 1590.jpg 1091....\n",
      "1994       1994.txt  561.jpg 1556.jpg 1618.jpg 1864.jpg 1987.jpg 19...\n",
      "1995       1995.txt  1713.jpg 445.jpg 159.jpg 1033.jpg 953.jpg 634....\n",
      "1996       1996.txt  748.jpg 1853.jpg 319.jpg 180.jpg 398.jpg 1164....\n",
      "1997       1997.txt  104.jpg 657.jpg 293.jpg 1266.jpg 1564.jpg 58.j...\n",
      "1998       1998.txt  861.jpg 597.jpg 483.jpg 959.jpg 206.jpg 922.jp...\n",
      "1999       1999.txt  1342.jpg 729.jpg 1827.jpg 405.jpg 1106.jpg 653...\n",
      "\n",
      "[2000 rows x 2 columns]\n"
     ]
    }
   ],
   "source": [
    "print df_ensembled"
   ]
  },
  {
   "cell_type": "code",
   "execution_count": 222,
   "metadata": {},
   "outputs": [],
   "source": [
    "df_ensembled.to_csv(output_name, index=False)"
   ]
  },
  {
   "cell_type": "code",
   "execution_count": null,
   "metadata": {},
   "outputs": [],
   "source": []
  }
 ],
 "metadata": {
  "kernelspec": {
   "display_name": "Python 2",
   "language": "python",
   "name": "python2"
  },
  "language_info": {
   "codemirror_mode": {
    "name": "ipython",
    "version": 2
   },
   "file_extension": ".py",
   "mimetype": "text/x-python",
   "name": "python",
   "nbconvert_exporter": "python",
   "pygments_lexer": "ipython2",
   "version": "2.7.15"
  }
 },
 "nbformat": 4,
 "nbformat_minor": 2
}
