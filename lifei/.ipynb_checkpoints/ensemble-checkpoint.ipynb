{
 "cells": [
  {
   "cell_type": "code",
   "execution_count": 192,
   "metadata": {},
   "outputs": [],
   "source": [
    "import pandas as pd\n",
    "import numpy as np\n",
    "import operator"
   ]
  },
  {
   "cell_type": "code",
   "execution_count": 193,
   "metadata": {},
   "outputs": [],
   "source": [
    "submission_file_list = ['submissions/PLSR_100_BOW_all_pca_2048_tags_80_cos_0.26727.csv', 'submissions/0.35_plsr_600_pool5_to_bow_all_pca_1024.csv', 'submissions/PLSR_image_1000_des_BOW_all_32.csv']"
   ]
  },
  {
   "cell_type": "code",
   "execution_count": 194,
   "metadata": {},
   "outputs": [],
   "source": [
    "submission_weight = [1.0, 1.0, 1.0, 1.0, 1.0]"
   ]
  },
  {
   "cell_type": "code",
   "execution_count": 195,
   "metadata": {},
   "outputs": [],
   "source": [
    "def calc_single(pred_list):\n",
    "    score_dict = {}\n",
    "    for i in range(len(pred_list)):\n",
    "        for j in range(len(pred_list[i])):\n",
    "            if pred_list[i][j] not in score_dict:\n",
    "                score_dict[pred_list[i][j]] = 0.0\n",
    "            score_dict[pred_list[i][j]] += float(len(pred_list[i]) - j) / len(pred_list[i]) * submission_weight[i]\n",
    "    sorted_score = sorted(score_dict.items(), key=operator.itemgetter(1), reverse=True)\n",
    "    return map(lambda x: x[0], sorted_score[:20])"
   ]
  },
  {
   "cell_type": "code",
   "execution_count": 196,
   "metadata": {},
   "outputs": [],
   "source": [
    "def ensemble():\n",
    "    res = []\n",
    "    dfs = [pd.read_csv(file_path, encoding='utf-8') for file_path in submission_file_list]\n",
    "    for i in range(dfs[0].shape[0]):\n",
    "        pred_list = [df.iloc[i]['Top_20_Image_IDs'].split(' ') for df in dfs]\n",
    "        res.append(' '.join(calc_single(pred_list)))\n",
    "    print len(res)\n",
    "    return pd.DataFrame({'Descritpion_ID': dfs[0]['Descritpion_ID'].tolist(), 'Top_20_Image_IDs': res})"
   ]
  },
  {
   "cell_type": "code",
   "execution_count": 197,
   "metadata": {},
   "outputs": [
    {
     "name": "stdout",
     "output_type": "stream",
     "text": [
      "2000\n"
     ]
    }
   ],
   "source": [
    "df_ensembled = ensemble()"
   ]
  },
  {
   "cell_type": "code",
   "execution_count": 198,
   "metadata": {},
   "outputs": [
    {
     "name": "stdout",
     "output_type": "stream",
     "text": [
      "     Descritpion_ID                                   Top_20_Image_IDs\n",
      "0             0.txt  105.jpg 1980.jpg 124.jpg 760.jpg 1011.jpg 338....\n",
      "1             1.txt  833.jpg 818.jpg 80.jpg 589.jpg 314.jpg 1714.jp...\n",
      "2             2.txt  838.jpg 1471.jpg 1183.jpg 159.jpg 634.jpg 445....\n",
      "3             3.txt  1514.jpg 469.jpg 26.jpg 770.jpg 1765.jpg 799.j...\n",
      "4             4.txt  742.jpg 1231.jpg 1243.jpg 985.jpg 1462.jpg 126...\n",
      "5             5.txt  814.jpg 1335.jpg 1693.jpg 771.jpg 846.jpg 51.j...\n",
      "6             6.txt  1855.jpg 1815.jpg 1216.jpg 1701.jpg 1151.jpg 1...\n",
      "7             7.txt  689.jpg 975.jpg 448.jpg 987.jpg 1961.jpg 409.j...\n",
      "8             8.txt  1283.jpg 419.jpg 103.jpg 1847.jpg 719.jpg 1031...\n",
      "9             9.txt  1700.jpg 1886.jpg 614.jpg 1446.jpg 549.jpg 570...\n",
      "10           10.txt  696.jpg 634.jpg 1482.jpg 1471.jpg 979.jpg 838....\n",
      "11           11.txt  814.jpg 1693.jpg 1292.jpg 846.jpg 492.jpg 1943...\n",
      "12           12.txt  1656.jpg 1653.jpg 393.jpg 221.jpg 1031.jpg 845...\n",
      "13           13.txt  996.jpg 1289.jpg 1020.jpg 1584.jpg 1855.jpg 13...\n",
      "14           14.txt  217.jpg 1289.jpg 414.jpg 1151.jpg 156.jpg 655....\n",
      "15           15.txt  247.jpg 1999.jpg 482.jpg 644.jpg 1369.jpg 1839...\n",
      "16           16.txt  1127.jpg 37.jpg 1236.jpg 52.jpg 31.jpg 1577.jp...\n",
      "17           17.txt  322.jpg 838.jpg 1144.jpg 511.jpg 781.jpg 1883....\n",
      "18           18.txt  1463.jpg 1279.jpg 779.jpg 239.jpg 59.jpg 677.j...\n",
      "19           19.txt  1301.jpg 933.jpg 824.jpg 145.jpg 1189.jpg 1128...\n",
      "20           20.txt  1570.jpg 1919.jpg 1031.jpg 1847.jpg 1656.jpg 5...\n",
      "21           21.txt  1921.jpg 1070.jpg 817.jpg 1207.jpg 960.jpg 471...\n",
      "22           22.txt  1814.jpg 590.jpg 1642.jpg 1138.jpg 1704.jpg 19...\n",
      "23           23.txt  385.jpg 578.jpg 499.jpg 707.jpg 1554.jpg 1964....\n",
      "24           24.txt  1633.jpg 1870.jpg 1681.jpg 74.jpg 1445.jpg 197...\n",
      "25           25.txt  1215.jpg 471.jpg 1207.jpg 26.jpg 1889.jpg 731....\n",
      "26           26.txt  1141.jpg 1999.jpg 1839.jpg 1369.jpg 1184.jpg 1...\n",
      "27           27.txt  439.jpg 708.jpg 777.jpg 1339.jpg 269.jpg 1364....\n",
      "28           28.txt  1184.jpg 1141.jpg 1369.jpg 1999.jpg 738.jpg 18...\n",
      "29           29.txt  1296.jpg 1505.jpg 998.jpg 772.jpg 1913.jpg 116...\n",
      "...             ...                                                ...\n",
      "1970       1970.txt  1644.jpg 982.jpg 1611.jpg 1365.jpg 1013.jpg 84...\n",
      "1971       1971.txt  728.jpg 1889.jpg 1802.jpg 951.jpg 731.jpg 1903...\n",
      "1972       1972.txt  1356.jpg 499.jpg 385.jpg 578.jpg 1422.jpg 780....\n",
      "1973       1973.txt  545.jpg 993.jpg 523.jpg 303.jpg 1493.jpg 117.j...\n",
      "1974       1974.txt  1182.jpg 548.jpg 622.jpg 988.jpg 9.jpg 746.jpg...\n",
      "1975       1975.txt  1870.jpg 1633.jpg 1722.jpg 684.jpg 536.jpg 168...\n",
      "1976       1976.txt  414.jpg 1311.jpg 262.jpg 1377.jpg 899.jpg 582....\n",
      "1977       1977.txt  963.jpg 988.jpg 746.jpg 470.jpg 298.jpg 1257.j...\n",
      "1978       1978.txt  1289.jpg 535.jpg 996.jpg 910.jpg 655.jpg 897.j...\n",
      "1979       1979.txt  1384.jpg 1510.jpg 112.jpg 2.jpg 808.jpg 1915.j...\n",
      "1980       1980.txt  1632.jpg 618.jpg 1767.jpg 474.jpg 325.jpg 1511...\n",
      "1981       1981.txt  780.jpg 1356.jpg 578.jpg 733.jpg 1964.jpg 1169...\n",
      "1982       1982.txt  1890.jpg 1449.jpg 857.jpg 1932.jpg 1686.jpg 41...\n",
      "1983       1983.txt  63.jpg 646.jpg 1853.jpg 1739.jpg 1605.jpg 180....\n",
      "1984       1984.txt  1636.jpg 1643.jpg 1316.jpg 1375.jpg 76.jpg 182...\n",
      "1985       1985.txt  1919.jpg 1547.jpg 55.jpg 1553.jpg 843.jpg 192....\n",
      "1986       1986.txt  1182.jpg 83.jpg 1221.jpg 1304.jpg 1497.jpg 242...\n",
      "1987       1987.txt  143.jpg 1491.jpg 1932.jpg 624.jpg 410.jpg 1095...\n",
      "1988       1988.txt  1621.jpg 1012.jpg 1364.jpg 1813.jpg 1235.jpg 4...\n",
      "1989       1989.txt  1422.jpg 1356.jpg 578.jpg 1554.jpg 1019.jpg 70...\n",
      "1990       1990.txt  1543.jpg 1548.jpg 187.jpg 991.jpg 1331.jpg 19....\n",
      "1991       1991.txt  1639.jpg 1806.jpg 355.jpg 1049.jpg 1742.jpg 19...\n",
      "1992       1992.txt  489.jpg 718.jpg 1151.jpg 897.jpg 1139.jpg 535....\n",
      "1993       1993.txt  1784.jpg 1985.jpg 851.jpg 635.jpg 1091.jpg 147...\n",
      "1994       1994.txt  561.jpg 1556.jpg 1987.jpg 1931.jpg 114.jpg 111...\n",
      "1995       1995.txt  765.jpg 117.jpg 1183.jpg 634.jpg 445.jpg 42.jp...\n",
      "1996       1996.txt  1853.jpg 319.jpg 748.jpg 180.jpg 1164.jpg 398....\n",
      "1997       1997.txt  657.jpg 104.jpg 1564.jpg 293.jpg 1266.jpg 1958...\n",
      "1998       1998.txt  1510.jpg 1273.jpg 483.jpg 912.jpg 1466.jpg 959...\n",
      "1999       1999.txt  1342.jpg 405.jpg 153.jpg 68.jpg 1106.jpg 729.j...\n",
      "\n",
      "[2000 rows x 2 columns]\n"
     ]
    }
   ],
   "source": [
    "print df_ensembled"
   ]
  },
  {
   "cell_type": "code",
   "execution_count": 199,
   "metadata": {},
   "outputs": [],
   "source": [
    "df_ensembled.to_csv('submissions/ensembled_0.35_0.26_0.23_0.20_models_average.csv', index=False)"
   ]
  },
  {
   "cell_type": "code",
   "execution_count": null,
   "metadata": {},
   "outputs": [],
   "source": []
  }
 ],
 "metadata": {
  "kernelspec": {
   "display_name": "Python 2",
   "language": "python",
   "name": "python2"
  },
  "language_info": {
   "codemirror_mode": {
    "name": "ipython",
    "version": 2
   },
   "file_extension": ".py",
   "mimetype": "text/x-python",
   "name": "python",
   "nbconvert_exporter": "python",
   "pygments_lexer": "ipython2",
   "version": "2.7.15"
  }
 },
 "nbformat": 4,
 "nbformat_minor": 2
}
