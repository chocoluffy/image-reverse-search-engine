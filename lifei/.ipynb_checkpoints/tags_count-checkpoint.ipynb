{
 "cells": [
  {
   "cell_type": "code",
   "execution_count": 1,
   "metadata": {},
   "outputs": [],
   "source": [
    "import pandas as pd\n",
    "import numpy as np"
   ]
  },
  {
   "cell_type": "code",
   "execution_count": null,
   "metadata": {},
   "outputs": [],
   "source": [
    "tags_list = []\n",
    "for i in range(2000):\n",
    "    des_input_path = './all/data/descriptions_test/%d.txt' % i\n",
    "    with open(tags_input_path, 'r') as f:\n",
    "        des = f.read()\n",
    "    tags_input_path = './all/data/tags_test/%d.txt' % i\n",
    "    with open(tags_input_path, 'r') as f:\n",
    "        tags = map(lambda x: x.split(':')[1], f.read().split('\\n'))\n",
    "        for tag in tags:\n",
    "            "
   ]
  }
 ],
 "metadata": {
  "kernelspec": {
   "display_name": "Python 2",
   "language": "python",
   "name": "python2"
  },
  "language_info": {
   "codemirror_mode": {
    "name": "ipython",
    "version": 2
   },
   "file_extension": ".py",
   "mimetype": "text/x-python",
   "name": "python",
   "nbconvert_exporter": "python",
   "pygments_lexer": "ipython2",
   "version": "2.7.15"
  }
 },
 "nbformat": 4,
 "nbformat_minor": 2
}
