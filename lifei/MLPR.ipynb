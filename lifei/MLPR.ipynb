{
 "cells": [
  {
   "cell_type": "code",
   "execution_count": 1,
   "metadata": {},
   "outputs": [],
   "source": [
    "import numpy as np\n",
    "import pandas as pd\n",
    "from sklearn.neural_network import MLPRegressor"
   ]
  },
  {
   "cell_type": "code",
   "execution_count": 2,
   "metadata": {},
   "outputs": [],
   "source": [
    "des_concat_train = np.load('./features/descriptions_train_concat_embed_vectors.npy')\n",
    "des_concat_test = np.load('./features/descriptions_test_concat_embed_vectors.npy')\n",
    "des_long_train = np.load('./features/descriptions_train_long_embed_vectors.npy')\n",
    "des_long_test = np.load('./features/descriptions_test_long_embed_vectors.npy')\n",
    "image_1000_train = np.load('./features/image_features_1000_train.npy')\n",
    "image_1000_test = np.load('./features/image_features_1000_test.npy')\n",
    "image_2048_train = np.load('./features/image_features_2048_train.npy')\n",
    "image_2048_test = np.load('./features/image_features_2048_test.npy')\n",
    "des_BOW_noun_train = np.load('features/descriptions_train_BOW_noun_5452.npy')\n",
    "des_BOW_noun_test = np.load('features/descriptions_test_BOW_noun_5452.npy')\n",
    "tags_BOW_80_train = np.load('./features/tags_BOW_80_train.npy')\n",
    "tags_BOW_80_test = np.load('./features/tags_BOW_80_test.npy')\n",
    "des_BOW_all_train = np.load('features/descriptions_all_BOW_train.npy')\n",
    "des_BOW_all_test = np.load('features/descriptions_all_BOW_test.npy')"
   ]
  },
  {
   "cell_type": "code",
   "execution_count": 3,
   "metadata": {},
   "outputs": [],
   "source": [
    "def get_nearest_20(vec, vec_set):\n",
    "    dis = [np.linalg.norm(np.array(vec) - np.array(x)) for x in vec_set]\n",
    "    return np.argsort(dis)[:20]\n",
    "\n",
    "def map20score(y, pred):\n",
    "    if y in pred:\n",
    "        return (20 - pred.tolist().index(y)) / 20.0\n",
    "    else:\n",
    "        return 0\n",
    "\n",
    "def map20eval(pls, des_vectors, image_vectors):\n",
    "    image_pred = pls.predict(des_vectors)\n",
    "    top_20 = [get_nearest_20(vec, image_vectors) for vec in image_pred]\n",
    "    print(len(top_20))\n",
    "    scores = [map20score(i, top_20[i]) for i in range(len(top_20))]\n",
    "    print \"score: %f\" % np.mean(scores)\n",
    "    return scores"
   ]
  },
  {
   "cell_type": "code",
   "execution_count": 4,
   "metadata": {},
   "outputs": [],
   "source": [
    "def output_submission(top_20, output_path):\n",
    "    top_20_image_IDs = map(lambda x: ' '.join(map(lambda xx: str(xx) + '.jpg', x)), top_20)\n",
    "    description_ID = map(lambda x: str(x) + '.txt', range(len(top_20)))\n",
    "    submission_df = pd.DataFrame({'Descritpion_ID': description_ID, 'Top_20_Image_IDs': top_20_image_IDs})\n",
    "    submission_df.to_csv(output_path, index=False)\n"
   ]
  },
  {
   "cell_type": "code",
   "execution_count": 10,
   "metadata": {},
   "outputs": [
    {
     "name": "stdout",
     "output_type": "stream",
     "text": [
      "Iteration 1, loss = 0.01681829\n",
      "Validation score: 0.175521\n",
      "Iteration 2, loss = 0.01202035\n",
      "Validation score: 0.298749\n",
      "Iteration 3, loss = 0.00970142\n",
      "Validation score: 0.346972\n",
      "Iteration 4, loss = 0.00826222\n",
      "Validation score: 0.371356\n",
      "Iteration 5, loss = 0.00727910\n",
      "Validation score: 0.391982\n",
      "Iteration 6, loss = 0.00658011\n",
      "Validation score: 0.401185\n",
      "Iteration 7, loss = 0.00605475\n",
      "Validation score: 0.408758\n",
      "Iteration 8, loss = 0.00566014\n",
      "Validation score: 0.412442\n",
      "Iteration 9, loss = 0.00533291\n",
      "Validation score: 0.421008\n",
      "Iteration 10, loss = 0.00508764\n",
      "Validation score: 0.422303\n",
      "Iteration 11, loss = 0.00489294\n",
      "Validation score: 0.425408\n",
      "Iteration 12, loss = 0.00474295\n",
      "Validation score: 0.428042\n",
      "Iteration 13, loss = 0.00462369\n",
      "Validation score: 0.428456\n",
      "Iteration 14, loss = 0.00453065\n",
      "Validation score: 0.429002\n",
      "Iteration 15, loss = 0.00444703\n",
      "Validation score: 0.432144\n",
      "Iteration 16, loss = 0.00436946\n",
      "Validation score: 0.435629\n",
      "Iteration 17, loss = 0.00430804\n",
      "Validation score: 0.436733\n",
      "Iteration 18, loss = 0.00425427\n",
      "Validation score: 0.437196\n",
      "Iteration 19, loss = 0.00421269\n",
      "Validation score: 0.439256\n",
      "Iteration 20, loss = 0.00416936\n",
      "Validation score: 0.439301\n",
      "Iteration 21, loss = 0.00413784\n",
      "Validation score: 0.442614\n",
      "Iteration 22, loss = 0.00409449\n",
      "Validation score: 0.443511\n",
      "Iteration 23, loss = 0.00405919\n",
      "Validation score: 0.444135\n",
      "Iteration 24, loss = 0.00401942\n",
      "Validation score: 0.447047\n",
      "Iteration 25, loss = 0.00399265\n",
      "Validation score: 0.447317\n",
      "Iteration 26, loss = 0.00396994\n",
      "Validation score: 0.447398\n",
      "Iteration 27, loss = 0.00395040\n",
      "Validation score: 0.449918\n",
      "Iteration 28, loss = 0.00392867\n",
      "Validation score: 0.449813\n",
      "Iteration 29, loss = 0.00391219\n",
      "Validation score: 0.451396\n",
      "Iteration 30, loss = 0.00390471\n",
      "Validation score: 0.452201\n",
      "Iteration 31, loss = 0.00389497\n",
      "Validation score: 0.451299\n",
      "Iteration 32, loss = 0.00388817\n",
      "Validation score: 0.453107\n",
      "Iteration 33, loss = 0.00387685\n",
      "Validation score: 0.452995\n",
      "Iteration 34, loss = 0.00386663\n",
      "Validation score: 0.455671\n",
      "Iteration 35, loss = 0.00386249\n",
      "Validation score: 0.454088\n",
      "Iteration 36, loss = 0.00386899\n",
      "Validation score: 0.454864\n",
      "Iteration 37, loss = 0.00386894\n",
      "Validation score: 0.454993\n",
      "Validation score did not improve more than tol=0.000100 for two consecutive epochs. Stopping.\n"
     ]
    },
    {
     "data": {
      "text/plain": [
       "MLPRegressor(activation='relu', alpha=0.0001, batch_size='auto', beta_1=0.9,\n",
       "       beta_2=0.999, early_stopping=True, epsilon=1e-08,\n",
       "       hidden_layer_sizes=(2048, 512, 256, 80), learning_rate='constant',\n",
       "       learning_rate_init=0.001, max_iter=300, momentum=0.9,\n",
       "       nesterovs_momentum=True, power_t=0.5, random_state=None,\n",
       "       shuffle=True, solver='adam', tol=0.0001, validation_fraction=0.2,\n",
       "       verbose=True, warm_start=False)"
      ]
     },
     "execution_count": 10,
     "metadata": {},
     "output_type": "execute_result"
    }
   ],
   "source": [
    "mlp_des_BOW_all_5816_tags_80 = MLPRegressor(hidden_layer_sizes=(2048, 512, 256, 80),\n",
    "                                            activation='relu',\n",
    "                                            solver='adam',\n",
    "                                            learning_rate='constant',\n",
    "                                            learning_rate_init=0.001,\n",
    "                                            max_iter=300,\n",
    "                                            tol=1e-4,\n",
    "                                            verbose=True,\n",
    "                                            early_stopping=True,\n",
    "                                            validation_fraction=0.2,\n",
    "                                            )\n",
    "mlp_des_BOW_all_5816_tags_80.fit(des_BOW_all_train, tags_BOW_80_train)"
   ]
  },
  {
   "cell_type": "code",
   "execution_count": 16,
   "metadata": {},
   "outputs": [],
   "source": [
    "pred_mlp_des_BOW_all_5816_tags_80 = mlp_des_BOW_all_5816_tags_80.predict(des_BOW_all_test)\n",
    "top_20_mlp_des_BOW_all_5816_tags_80 = [get_nearest_20(vec, tags_BOW_80_test) for vec in pred_mlp_des_BOW_all_5816_tags_80]\n",
    "output_submission(top_20_mlp_des_BOW_all_5816_tags_80, 'submissions/submission_mlp_des_BOW_all_5816_tags_80.csv')"
   ]
  },
  {
   "cell_type": "code",
   "execution_count": 11,
   "metadata": {},
   "outputs": [
    {
     "name": "stdout",
     "output_type": "stream",
     "text": [
      "Iteration 1, loss = 1.94199949\n",
      "Validation score: 0.240164\n",
      "Iteration 2, loss = 1.34122508\n",
      "Validation score: 0.386053\n",
      "Iteration 3, loss = 1.06862503\n",
      "Validation score: 0.432823\n",
      "Iteration 4, loss = 0.90176051\n",
      "Validation score: 0.453479\n",
      "Iteration 5, loss = 0.78175826\n",
      "Validation score: 0.463825\n",
      "Iteration 6, loss = 0.69200898\n",
      "Validation score: 0.467411\n",
      "Iteration 7, loss = 0.62044124\n",
      "Validation score: 0.471030\n",
      "Iteration 8, loss = 0.56096669\n",
      "Validation score: 0.471715\n",
      "Iteration 9, loss = 0.51058664\n",
      "Validation score: 0.470116\n",
      "Iteration 10, loss = 0.46755826\n",
      "Validation score: 0.467897\n",
      "Iteration 11, loss = 0.43053808\n",
      "Validation score: 0.468546\n",
      "Validation score did not improve more than tol=0.000100 for two consecutive epochs. Stopping.\n"
     ]
    },
    {
     "data": {
      "text/plain": [
       "MLPRegressor(activation='relu', alpha=0.0001, batch_size='auto', beta_1=0.9,\n",
       "       beta_2=0.999, early_stopping=True, epsilon=1e-08,\n",
       "       hidden_layer_sizes=(4096, 2048, 1000), learning_rate='constant',\n",
       "       learning_rate_init=0.001, max_iter=300, momentum=0.9,\n",
       "       nesterovs_momentum=True, power_t=0.5, random_state=None,\n",
       "       shuffle=True, solver='adam', tol=0.0001, validation_fraction=0.2,\n",
       "       verbose=True, warm_start=False)"
      ]
     },
     "execution_count": 11,
     "metadata": {},
     "output_type": "execute_result"
    }
   ],
   "source": [
    "mlp_des_BOW_all_5816_image_1000 = MLPRegressor(hidden_layer_sizes=(4096, 2048, 1000),\n",
    "                                               activation='relu',\n",
    "                                               solver='adam',\n",
    "                                               learning_rate='constant',\n",
    "                                               learning_rate_init=0.001,\n",
    "                                               max_iter=300,\n",
    "                                               tol=1e-4,\n",
    "                                               verbose=True,\n",
    "                                               early_stopping=True,\n",
    "                                               validation_fraction=0.2,\n",
    "                                               )\n",
    "mlp_des_BOW_all_5816_image_1000.fit(des_BOW_all_train, image_1000_train)"
   ]
  },
  {
   "cell_type": "code",
   "execution_count": 18,
   "metadata": {},
   "outputs": [],
   "source": [
    "pred_mlp_des_BOW_all_5816_image_1000 = mlp_des_BOW_all_5816_image_1000.predict(des_BOW_all_test)\n",
    "top_20_mlp_des_BOW_all_5816_image_1000 = [get_nearest_20(vec, image_1000_test) for vec in pred_mlp_des_BOW_all_5816_image_1000]\n",
    "output_submission(top_20_mlp_des_BOW_all_5816_image_1000, 'submissions/submission_mlp_des_BOW_all_5816_image_1000.csv')"
   ]
  },
  {
   "cell_type": "code",
   "execution_count": 12,
   "metadata": {},
   "outputs": [
    {
     "name": "stdout",
     "output_type": "stream",
     "text": [
      "Iteration 1, loss = 0.09477346\n",
      "Validation score: 0.130579\n",
      "Iteration 2, loss = 0.07001477\n",
      "Validation score: 0.258695\n",
      "Iteration 3, loss = 0.05884325\n",
      "Validation score: 0.310840\n",
      "Iteration 4, loss = 0.05124156\n",
      "Validation score: 0.326089\n",
      "Iteration 5, loss = 0.04527282\n",
      "Validation score: 0.324554\n",
      "Iteration 6, loss = 0.04023566\n",
      "Validation score: 0.319173\n",
      "Iteration 7, loss = 0.03594309\n",
      "Validation score: 0.310914\n",
      "Validation score did not improve more than tol=0.000100 for two consecutive epochs. Stopping.\n"
     ]
    },
    {
     "data": {
      "text/plain": [
       "MLPRegressor(activation='relu', alpha=0.0001, batch_size='auto', beta_1=0.9,\n",
       "       beta_2=0.999, early_stopping=True, epsilon=1e-08,\n",
       "       hidden_layer_sizes=(4096, 2048), learning_rate='constant',\n",
       "       learning_rate_init=0.001, max_iter=300, momentum=0.9,\n",
       "       nesterovs_momentum=True, power_t=0.5, random_state=None,\n",
       "       shuffle=True, solver='adam', tol=0.0001, validation_fraction=0.2,\n",
       "       verbose=True, warm_start=False)"
      ]
     },
     "execution_count": 12,
     "metadata": {},
     "output_type": "execute_result"
    }
   ],
   "source": [
    "mlp_des_BOW_all_5816_image_2048 = MLPRegressor(hidden_layer_sizes=(4096, 2048),\n",
    "                                               activation='relu',\n",
    "                                               solver='adam',\n",
    "                                               learning_rate='constant',\n",
    "                                               learning_rate_init=0.001,\n",
    "                                               max_iter=300,\n",
    "                                               tol=1e-4,\n",
    "                                               verbose=True,\n",
    "                                               early_stopping=True,\n",
    "                                               validation_fraction=0.2,\n",
    "                                               )\n",
    "mlp_des_BOW_all_5816_image_2048.fit(des_BOW_all_train, image_2048_train)"
   ]
  },
  {
   "cell_type": "code",
   "execution_count": 19,
   "metadata": {},
   "outputs": [],
   "source": [
    "pred_mlp_des_BOW_all_5816_image_2048 = mlp_des_BOW_all_5816_image_2048.predict(des_BOW_all_test)\n",
    "top_20_mlp_des_BOW_all_5816_image_2048 = [get_nearest_20(vec, image_2048_test) for vec in pred_mlp_des_BOW_all_5816_image_2048]\n",
    "output_submission(top_20_mlp_des_BOW_all_5816_image_2048, 'submissions/submission_mlp_des_BOW_all_5816_image_2048.csv')"
   ]
  },
  {
   "cell_type": "code",
   "execution_count": 13,
   "metadata": {},
   "outputs": [
    {
     "name": "stdout",
     "output_type": "stream",
     "text": [
      "Iteration 1, loss = 0.01746508\n",
      "Validation score: 0.122068\n",
      "Iteration 2, loss = 0.01285117\n",
      "Validation score: 0.241330\n",
      "Iteration 3, loss = 0.01141453\n",
      "Validation score: 0.304083\n",
      "Iteration 4, loss = 0.01054084\n",
      "Validation score: 0.345994\n",
      "Iteration 5, loss = 0.00993230\n",
      "Validation score: 0.376976\n",
      "Iteration 6, loss = 0.00950013\n",
      "Validation score: 0.399177\n",
      "Iteration 7, loss = 0.00913650\n",
      "Validation score: 0.415125\n",
      "Iteration 8, loss = 0.00886502\n",
      "Validation score: 0.423340\n",
      "Iteration 9, loss = 0.00864146\n",
      "Validation score: 0.436150\n",
      "Iteration 10, loss = 0.00842310\n",
      "Validation score: 0.445445\n",
      "Iteration 11, loss = 0.00823210\n",
      "Validation score: 0.451033\n",
      "Iteration 12, loss = 0.00809413\n",
      "Validation score: 0.459088\n",
      "Iteration 13, loss = 0.00793259\n",
      "Validation score: 0.465103\n",
      "Iteration 14, loss = 0.00778817\n",
      "Validation score: 0.468800\n",
      "Iteration 15, loss = 0.00766606\n",
      "Validation score: 0.471832\n",
      "Iteration 16, loss = 0.00754477\n",
      "Validation score: 0.475911\n",
      "Iteration 17, loss = 0.00742932\n",
      "Validation score: 0.477564\n",
      "Iteration 18, loss = 0.00734688\n",
      "Validation score: 0.477926\n",
      "Iteration 19, loss = 0.00723369\n",
      "Validation score: 0.482318\n",
      "Iteration 20, loss = 0.00714475\n",
      "Validation score: 0.477939\n",
      "Iteration 21, loss = 0.00707035\n",
      "Validation score: 0.481684\n",
      "Iteration 22, loss = 0.00698585\n",
      "Validation score: 0.481599\n",
      "Validation score did not improve more than tol=0.000100 for two consecutive epochs. Stopping.\n"
     ]
    },
    {
     "data": {
      "text/plain": [
       "MLPRegressor(activation='relu', alpha=0.0001, batch_size='auto', beta_1=0.9,\n",
       "       beta_2=0.999, early_stopping=True, epsilon=1e-08,\n",
       "       hidden_layer_sizes=(512, 256, 128, 80), learning_rate='constant',\n",
       "       learning_rate_init=0.001, max_iter=300, momentum=0.9,\n",
       "       nesterovs_momentum=True, power_t=0.5, random_state=None,\n",
       "       shuffle=True, solver='adam', tol=0.0001, validation_fraction=0.2,\n",
       "       verbose=True, warm_start=False)"
      ]
     },
     "execution_count": 13,
     "metadata": {},
     "output_type": "execute_result"
    }
   ],
   "source": [
    "mlp_des_concat_512_tags_80 = MLPRegressor(hidden_layer_sizes=(512, 256, 128, 80),\n",
    "                                               activation='relu',\n",
    "                                               solver='adam',\n",
    "                                               learning_rate='constant',\n",
    "                                               learning_rate_init=0.001,\n",
    "                                               max_iter=300,\n",
    "                                               tol=1e-4,\n",
    "                                               verbose=True,\n",
    "                                               early_stopping=True,\n",
    "                                               validation_fraction=0.2,\n",
    "                                               )\n",
    "mlp_des_concat_512_tags_80.fit(des_concat_train, tags_BOW_80_train)"
   ]
  },
  {
   "cell_type": "code",
   "execution_count": 20,
   "metadata": {},
   "outputs": [],
   "source": [
    "pred_mlp_des_concat_512_tags_80 = mlp_des_concat_512_tags_80.predict(des_concat_test)\n",
    "top_20_mlp_des_concat_512_tags_80 = [get_nearest_20(vec, tags_BOW_80_test) for vec in pred_mlp_des_concat_512_tags_80]\n",
    "output_submission(top_20_mlp_des_concat_512_tags_80, 'submissions/submission_mlp_des_concat_512_tags_80.csv')"
   ]
  },
  {
   "cell_type": "code",
   "execution_count": 14,
   "metadata": {},
   "outputs": [
    {
     "name": "stdout",
     "output_type": "stream",
     "text": [
      "Iteration 1, loss = 1.97391810\n",
      "Validation score: 0.218316\n",
      "Iteration 2, loss = 1.43068962\n",
      "Validation score: 0.367731\n",
      "Iteration 3, loss = 1.24789410\n",
      "Validation score: 0.416070\n",
      "Iteration 4, loss = 1.17145555\n",
      "Validation score: 0.440529\n",
      "Iteration 5, loss = 1.11406352\n",
      "Validation score: 0.466474\n",
      "Iteration 6, loss = 1.06863634\n",
      "Validation score: 0.479913\n",
      "Iteration 7, loss = 1.03765530\n",
      "Validation score: 0.491314\n",
      "Iteration 8, loss = 1.01199971\n",
      "Validation score: 0.501571\n",
      "Iteration 9, loss = 0.99194399\n",
      "Validation score: 0.505823\n",
      "Iteration 10, loss = 0.97261939\n",
      "Validation score: 0.511978\n",
      "Iteration 11, loss = 0.95760539\n",
      "Validation score: 0.513537\n",
      "Iteration 12, loss = 0.94521853\n",
      "Validation score: 0.512204\n",
      "Iteration 13, loss = 0.93375923\n",
      "Validation score: 0.518325\n",
      "Iteration 14, loss = 0.92041091\n",
      "Validation score: 0.521677\n",
      "Iteration 15, loss = 0.91038303\n",
      "Validation score: 0.524057\n",
      "Iteration 16, loss = 0.90125069\n",
      "Validation score: 0.524267\n",
      "Iteration 17, loss = 0.89227073\n",
      "Validation score: 0.526301\n",
      "Iteration 18, loss = 0.88315434\n",
      "Validation score: 0.526623\n",
      "Iteration 19, loss = 0.87629935\n",
      "Validation score: 0.524688\n",
      "Iteration 20, loss = 0.86907778\n",
      "Validation score: 0.526608\n",
      "Iteration 21, loss = 0.86249423\n",
      "Validation score: 0.527500\n",
      "Iteration 22, loss = 0.85315983\n",
      "Validation score: 0.530713\n",
      "Iteration 23, loss = 0.84301812\n",
      "Validation score: 0.528012\n",
      "Iteration 24, loss = 0.83807237\n",
      "Validation score: 0.526741\n",
      "Iteration 25, loss = 0.83219505\n",
      "Validation score: 0.522024\n",
      "Validation score did not improve more than tol=0.000100 for two consecutive epochs. Stopping.\n"
     ]
    },
    {
     "data": {
      "text/plain": [
       "MLPRegressor(activation='relu', alpha=0.0001, batch_size='auto', beta_1=0.9,\n",
       "       beta_2=0.999, early_stopping=True, epsilon=1e-08,\n",
       "       hidden_layer_sizes=(512, 768, 1000), learning_rate='constant',\n",
       "       learning_rate_init=0.001, max_iter=300, momentum=0.9,\n",
       "       nesterovs_momentum=True, power_t=0.5, random_state=None,\n",
       "       shuffle=True, solver='adam', tol=0.0001, validation_fraction=0.2,\n",
       "       verbose=True, warm_start=False)"
      ]
     },
     "execution_count": 14,
     "metadata": {},
     "output_type": "execute_result"
    }
   ],
   "source": [
    "mlp_des_concat_512_image_1000 = MLPRegressor(hidden_layer_sizes=(512, 768, 1000),\n",
    "                                               activation='relu',\n",
    "                                               solver='adam',\n",
    "                                               learning_rate='constant',\n",
    "                                               learning_rate_init=0.001,\n",
    "                                               max_iter=300,\n",
    "                                               tol=1e-4,\n",
    "                                               verbose=True,\n",
    "                                               early_stopping=True,\n",
    "                                               validation_fraction=0.2,\n",
    "                                               )\n",
    "mlp_des_concat_512_image_1000.fit(des_concat_train, image_1000_train)"
   ]
  },
  {
   "cell_type": "code",
   "execution_count": 22,
   "metadata": {},
   "outputs": [],
   "source": [
    "pred_mlp_des_concat_512_image_1000 = mlp_des_concat_512_image_1000.predict(des_concat_test)\n",
    "top_20_mlp_des_concat_512_image_1000 = [get_nearest_20(vec, image_1000_test) for vec in pred_mlp_des_concat_512_image_1000]\n",
    "output_submission(top_20_mlp_des_concat_512_image_1000, 'submissions/submission_mlp_des_concat_512_image_1000.csv')"
   ]
  },
  {
   "cell_type": "code",
   "execution_count": 15,
   "metadata": {},
   "outputs": [
    {
     "name": "stdout",
     "output_type": "stream",
     "text": [
      "Iteration 1, loss = 0.10049069\n",
      "Validation score: 0.030962\n",
      "Iteration 2, loss = 0.07960554\n",
      "Validation score: 0.163039\n",
      "Iteration 3, loss = 0.07070230\n",
      "Validation score: 0.227090\n",
      "Iteration 4, loss = 0.06627991\n",
      "Validation score: 0.269825\n",
      "Iteration 5, loss = 0.06301445\n",
      "Validation score: 0.299210\n",
      "Iteration 6, loss = 0.06077618\n",
      "Validation score: 0.317418\n",
      "Iteration 7, loss = 0.05916433\n",
      "Validation score: 0.330511\n",
      "Iteration 8, loss = 0.05778962\n",
      "Validation score: 0.339260\n",
      "Iteration 9, loss = 0.05682839\n",
      "Validation score: 0.347836\n",
      "Iteration 10, loss = 0.05609286\n",
      "Validation score: 0.353131\n",
      "Iteration 11, loss = 0.05535359\n",
      "Validation score: 0.354110\n",
      "Iteration 12, loss = 0.05485952\n",
      "Validation score: 0.359356\n",
      "Iteration 13, loss = 0.05423392\n",
      "Validation score: 0.362193\n",
      "Iteration 14, loss = 0.05366967\n",
      "Validation score: 0.363786\n",
      "Iteration 15, loss = 0.05315357\n",
      "Validation score: 0.364356\n",
      "Iteration 16, loss = 0.05263778\n",
      "Validation score: 0.361223\n",
      "Iteration 17, loss = 0.05217543\n",
      "Validation score: 0.366508\n",
      "Iteration 18, loss = 0.05163775\n",
      "Validation score: 0.361804\n",
      "Iteration 19, loss = 0.05126721\n",
      "Validation score: 0.367224\n",
      "Iteration 20, loss = 0.05074444\n",
      "Validation score: 0.364180\n",
      "Iteration 21, loss = 0.05030702\n",
      "Validation score: 0.364964\n",
      "Iteration 22, loss = 0.04989632\n",
      "Validation score: 0.366648\n",
      "Validation score did not improve more than tol=0.000100 for two consecutive epochs. Stopping.\n"
     ]
    },
    {
     "data": {
      "text/plain": [
       "MLPRegressor(activation='relu', alpha=0.0001, batch_size='auto', beta_1=0.9,\n",
       "       beta_2=0.999, early_stopping=True, epsilon=1e-08,\n",
       "       hidden_layer_sizes=(512, 1024, 2048), learning_rate='constant',\n",
       "       learning_rate_init=0.001, max_iter=300, momentum=0.9,\n",
       "       nesterovs_momentum=True, power_t=0.5, random_state=None,\n",
       "       shuffle=True, solver='adam', tol=0.0001, validation_fraction=0.2,\n",
       "       verbose=True, warm_start=False)"
      ]
     },
     "execution_count": 15,
     "metadata": {},
     "output_type": "execute_result"
    }
   ],
   "source": [
    "mlp_des_concat_512_image_2048 = MLPRegressor(hidden_layer_sizes=(512, 1024, 2048),\n",
    "                                               activation='relu',\n",
    "                                               solver='adam',\n",
    "                                               learning_rate='constant',\n",
    "                                               learning_rate_init=0.001,\n",
    "                                               max_iter=300,\n",
    "                                               tol=1e-4,\n",
    "                                               verbose=True,\n",
    "                                               early_stopping=True,\n",
    "                                               validation_fraction=0.2,\n",
    "                                               )\n",
    "mlp_des_concat_512_image_2048.fit(des_concat_train, image_2048_train)"
   ]
  },
  {
   "cell_type": "code",
   "execution_count": 23,
   "metadata": {},
   "outputs": [],
   "source": [
    "pred_mlp_des_concat_512_image_2048 = mlp_des_concat_512_image_2048.predict(des_concat_test)\n",
    "top_20_mlp_des_concat_512_image_2048 = [get_nearest_20(vec, image_2048_test) for vec in pred_mlp_des_concat_512_image_2048]\n",
    "output_submission(top_20_mlp_des_concat_512_image_2048, 'submissions/submission_mlp_des_concat_512_image_2048.csv')"
   ]
  },
  {
   "cell_type": "code",
   "execution_count": null,
   "metadata": {},
   "outputs": [],
   "source": []
  }
 ],
 "metadata": {
  "kernelspec": {
   "display_name": "Python 2",
   "language": "python",
   "name": "python2"
  },
  "language_info": {
   "codemirror_mode": {
    "name": "ipython",
    "version": 2
   },
   "file_extension": ".py",
   "mimetype": "text/x-python",
   "name": "python",
   "nbconvert_exporter": "python",
   "pygments_lexer": "ipython2",
   "version": "2.7.15"
  }
 },
 "nbformat": 4,
 "nbformat_minor": 2
}
