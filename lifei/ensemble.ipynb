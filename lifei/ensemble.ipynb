{
 "cells": [
  {
   "cell_type": "code",
   "execution_count": 110,
   "metadata": {},
   "outputs": [],
   "source": [
    "import pandas as pd\n",
    "import numpy as np\n",
    "import operator"
   ]
  },
  {
   "cell_type": "code",
   "execution_count": 111,
   "metadata": {},
   "outputs": [],
   "source": [
    "submission_file_list = ['submissions/PLSR_256_concat_1000_1000iter.csv', 'submissions/submission_v2_013.csv', 'submissions/submission_KNN.csv', 'submissions/PLSR_100_top_20_BOW_all_pca_2048_tags.csv', 'submissions/PLSR_200_top_20_BOW_all_pca_512_image_1000.csv']"
   ]
  },
  {
   "cell_type": "code",
   "execution_count": 112,
   "metadata": {},
   "outputs": [],
   "source": [
    "submission_weight = [0.16860, 0.13756, 0.12678, 0.24021, 0.17098]"
   ]
  },
  {
   "cell_type": "code",
   "execution_count": 113,
   "metadata": {},
   "outputs": [],
   "source": [
    "def calc_single(pred_list):\n",
    "    score_dict = {}\n",
    "    for i in range(len(pred_list)):\n",
    "        for j in range(len(pred_list[i])):\n",
    "            if pred_list[i][j] not in score_dict:\n",
    "                score_dict[pred_list[i][j]] = 0.0\n",
    "            score_dict[pred_list[i][j]] += float(len(pred_list[i]) - j) / len(pred_list[i]) * submission_weight[i]\n",
    "    sorted_score = sorted(score_dict.items(), key=operator.itemgetter(1), reverse=True)\n",
    "    return map(lambda x: x[0], sorted_score[:20])"
   ]
  },
  {
   "cell_type": "code",
   "execution_count": 114,
   "metadata": {},
   "outputs": [],
   "source": [
    "def ensemble():\n",
    "    res = []\n",
    "    dfs = [pd.read_csv(file_path, encoding='utf-8') for file_path in submission_file_list]\n",
    "    for i in range(dfs[0].shape[0]):\n",
    "        pred_list = [df.iloc[i]['Top_20_Image_IDs'].split(' ') for df in dfs]\n",
    "        res.append(' '.join(calc_single(pred_list)))\n",
    "    print len(res)\n",
    "    return pd.DataFrame({'Descritpion_ID': dfs[0]['Descritpion_ID'].tolist(), 'Top_20_Image_IDs': res})"
   ]
  },
  {
   "cell_type": "code",
   "execution_count": 115,
   "metadata": {},
   "outputs": [
    {
     "name": "stdout",
     "output_type": "stream",
     "text": [
      "2000\n"
     ]
    }
   ],
   "source": [
    "df_ensembled = ensemble()"
   ]
  },
  {
   "cell_type": "code",
   "execution_count": 116,
   "metadata": {},
   "outputs": [
    {
     "name": "stdout",
     "output_type": "stream",
     "text": [
      "     Descritpion_ID                                   Top_20_Image_IDs\n",
      "0             0.txt  124.jpg 1131.jpg 93.jpg 36.jpg 1231.jpg 1011.j...\n",
      "1             1.txt  1199.jpg 758.jpg 80.jpg 1880.jpg 589.jpg 1714....\n",
      "2             2.txt  445.jpg 838.jpg 159.jpg 184.jpg 1471.jpg 1183....\n",
      "3             3.txt  770.jpg 1215.jpg 1850.jpg 1318.jpg 1748.jpg 15...\n",
      "4             4.txt  1231.jpg 292.jpg 942.jpg 68.jpg 1862.jpg 912.j...\n",
      "5             5.txt  1335.jpg 492.jpg 51.jpg 1594.jpg 1693.jpg 1088...\n",
      "6             6.txt  1768.jpg 1265.jpg 1151.jpg 1275.jpg 33.jpg 179...\n",
      "7             7.txt  1488.jpg 1249.jpg 136.jpg 448.jpg 975.jpg 1270...\n",
      "8             8.txt  1570.jpg 781.jpg 1048.jpg 1031.jpg 1283.jpg 41...\n",
      "9             9.txt  614.jpg 46.jpg 1913.jpg 1088.jpg 554.jpg 51.jp...\n",
      "10           10.txt  838.jpg 42.jpg 3.jpg 511.jpg 1471.jpg 696.jpg ...\n",
      "11           11.txt  1913.jpg 51.jpg 1693.jpg 1426.jpg 1830.jpg 887...\n",
      "12           12.txt  1031.jpg 1918.jpg 1656.jpg 393.jpg 1035.jpg 15...\n",
      "13           13.txt  402.jpg 1020.jpg 1885.jpg 996.jpg 1151.jpg 262...\n",
      "14           14.txt  1151.jpg 996.jpg 1265.jpg 1289.jpg 33.jpg 655....\n",
      "15           15.txt  668.jpg 247.jpg 1369.jpg 1999.jpg 644.jpg 738....\n",
      "16           16.txt  914.jpg 1746.jpg 1236.jpg 1434.jpg 620.jpg 880...\n",
      "17           17.txt  1183.jpg 106.jpg 1366.jpg 338.jpg 476.jpg 1033...\n",
      "18           18.txt  1450.jpg 1279.jpg 677.jpg 59.jpg 239.jpg 432.j...\n",
      "19           19.txt  207.jpg 824.jpg 122.jpg 884.jpg 1595.jpg 258.j...\n",
      "20           20.txt  633.jpg 676.jpg 781.jpg 3.jpg 1499.jpg 696.jpg...\n",
      "21           21.txt  1921.jpg 1661.jpg 1215.jpg 960.jpg 1930.jpg 47...\n",
      "22           22.txt  1814.jpg 666.jpg 1988.jpg 590.jpg 701.jpg 1138...\n",
      "23           23.txt  1554.jpg 707.jpg 1241.jpg 1873.jpg 1356.jpg 15...\n",
      "24           24.txt  1633.jpg 101.jpg 1974.jpg 584.jpg 684.jpg 522....\n",
      "25           25.txt  471.jpg 1207.jpg 1215.jpg 267.jpg 1889.jpg 26....\n",
      "26           26.txt  738.jpg 482.jpg 1141.jpg 1147.jpg 107.jpg 668....\n",
      "27           27.txt  87.jpg 673.jpg 1012.jpg 708.jpg 1364.jpg 64.jp...\n",
      "28           28.txt  738.jpg 1102.jpg 1141.jpg 1369.jpg 107.jpg 149...\n",
      "29           29.txt  1461.jpg 570.jpg 1218.jpg 19.jpg 656.jpg 604.j...\n",
      "...             ...                                                ...\n",
      "1970       1970.txt  1611.jpg 982.jpg 1644.jpg 848.jpg 420.jpg 1896...\n",
      "1971       1971.txt  1802.jpg 1517.jpg 1903.jpg 1614.jpg 951.jpg 18...\n",
      "1972       1972.txt  780.jpg 1964.jpg 1873.jpg 578.jpg 385.jpg 1422...\n",
      "1973       1973.txt  1464.jpg 1651.jpg 1906.jpg 545.jpg 254.jpg 408...\n",
      "1974       1974.txt  988.jpg 466.jpg 1951.jpg 1182.jpg 548.jpg 1578...\n",
      "1975       1975.txt  522.jpg 1520.jpg 1633.jpg 1722.jpg 1870.jpg 19...\n",
      "1976       1976.txt  262.jpg 458.jpg 899.jpg 1151.jpg 1790.jpg 1944...\n",
      "1977       1977.txt  963.jpg 470.jpg 988.jpg 1587.jpg 1977.jpg 1578...\n",
      "1978       1978.txt  1940.jpg 1275.jpg 897.jpg 910.jpg 1218.jpg 262...\n",
      "1979       1979.txt  1161.jpg 132.jpg 525.jpg 922.jpg 2.jpg 1384.jp...\n",
      "1980       1980.txt  1767.jpg 474.jpg 1632.jpg 1930.jpg 618.jpg 199...\n",
      "1981       1981.txt  733.jpg 780.jpg 491.jpg 1058.jpg 39.jpg 1545.j...\n",
      "1982       1982.txt  1890.jpg 798.jpg 1438.jpg 1449.jpg 1457.jpg 85...\n",
      "1983       1983.txt  1211.jpg 938.jpg 1605.jpg 1853.jpg 1008.jpg 14...\n",
      "1984       1984.txt  645.jpg 1636.jpg 191.jpg 1158.jpg 198.jpg 1735...\n",
      "1985       1985.txt  1919.jpg 1547.jpg 1553.jpg 1720.jpg 739.jpg 15...\n",
      "1986       1986.txt  83.jpg 1497.jpg 1271.jpg 423.jpg 961.jpg 596.j...\n",
      "1987       1987.txt  624.jpg 143.jpg 1905.jpg 1491.jpg 410.jpg 1932...\n",
      "1988       1988.txt  439.jpg 673.jpg 268.jpg 1376.jpg 1551.jpg 1012...\n",
      "1989       1989.txt  1422.jpg 1019.jpg 780.jpg 1873.jpg 1964.jpg 10...\n",
      "1990       1990.txt  785.jpg 452.jpg 991.jpg 332.jpg 352.jpg 19.jpg...\n",
      "1991       1991.txt  1639.jpg 1806.jpg 635.jpg 1559.jpg 5.jpg 1601....\n",
      "1992       1992.txt  1885.jpg 655.jpg 1607.jpg 259.jpg 718.jpg 414....\n",
      "1993       1993.txt  1784.jpg 1590.jpg 851.jpg 1485.jpg 924.jpg 147...\n",
      "1994       1994.txt  561.jpg 338.jpg 1618.jpg 1717.jpg 476.jpg 372....\n",
      "1995       1995.txt  117.jpg 765.jpg 1713.jpg 1183.jpg 505.jpg 445....\n",
      "1996       1996.txt  1460.jpg 1211.jpg 938.jpg 1853.jpg 1164.jpg 68...\n",
      "1997       1997.txt  293.jpg 104.jpg 657.jpg 1958.jpg 1163.jpg 312....\n",
      "1998       1998.txt  1466.jpg 1510.jpg 959.jpg 597.jpg 112.jpg 922....\n",
      "1999       1999.txt  308.jpg 68.jpg 1106.jpg 153.jpg 305.jpg 588.jp...\n",
      "\n",
      "[2000 rows x 2 columns]\n"
     ]
    }
   ],
   "source": [
    "print df_ensembled"
   ]
  },
  {
   "cell_type": "code",
   "execution_count": 117,
   "metadata": {},
   "outputs": [],
   "source": [
    "df_ensembled.to_csv('submissions/ensembled_5_models.csv', index=False)"
   ]
  },
  {
   "cell_type": "code",
   "execution_count": null,
   "metadata": {},
   "outputs": [],
   "source": []
  }
 ],
 "metadata": {
  "kernelspec": {
   "display_name": "Python 2",
   "language": "python",
   "name": "python2"
  },
  "language_info": {
   "codemirror_mode": {
    "name": "ipython",
    "version": 2
   },
   "file_extension": ".py",
   "mimetype": "text/x-python",
   "name": "python",
   "nbconvert_exporter": "python",
   "pygments_lexer": "ipython2",
   "version": "2.7.15"
  }
 },
 "nbformat": 4,
 "nbformat_minor": 2
}
