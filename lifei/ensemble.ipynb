{
 "cells": [
  {
   "cell_type": "code",
   "execution_count": 25,
   "metadata": {},
   "outputs": [],
   "source": [
    "import pandas as pd\n",
    "import numpy as np\n",
    "import operator"
   ]
  },
  {
   "cell_type": "code",
   "execution_count": 26,
   "metadata": {},
   "outputs": [],
   "source": [
    "submission_file_list = ['submissions/MLPR_image_1000_des_BOW_all_23.csv',\n",
    "                        'submissions/PLSR_100_BOW_all_pca_2048_tags_80_cos_0.26727.csv',\n",
    "                        'submissions/0.352_plsr_800_pool5_to_bow_all_pca_2048.csv',\n",
    "                        'submissions/reverse_count_weight_canary_word_count_with_tag_2048_no_caption_0.40498.csv']"
   ]
  },
  {
   "cell_type": "code",
   "execution_count": 27,
   "metadata": {},
   "outputs": [],
   "source": [
    "submission_weight = [0.23, 0.26727, 0.352, 0.40498]\n",
    "\n",
    "output_name = 'submissions/ensembled_0.40498_0.352_0.26727_0.23_models_weight.csv'"
   ]
  },
  {
   "cell_type": "code",
   "execution_count": 28,
   "metadata": {},
   "outputs": [],
   "source": [
    "def calc_single(pred_list):\n",
    "    score_dict = {}\n",
    "    for i in range(len(pred_list)):\n",
    "        for j in range(len(pred_list[i])):\n",
    "            if pred_list[i][j] not in score_dict:\n",
    "                score_dict[pred_list[i][j]] = 0.0\n",
    "            score_dict[pred_list[i][j]] += float(len(pred_list[i]) - j) / len(pred_list[i]) * submission_weight[i]\n",
    "    sorted_score = sorted(score_dict.items(), key=operator.itemgetter(1), reverse=True)\n",
    "    return map(lambda x: x[0], sorted_score[:20])"
   ]
  },
  {
   "cell_type": "code",
   "execution_count": 29,
   "metadata": {},
   "outputs": [],
   "source": [
    "def ensemble():\n",
    "    res = []\n",
    "    dfs = [pd.read_csv(file_path, encoding='utf-8') for file_path in submission_file_list]\n",
    "    for i in range(dfs[0].shape[0]):\n",
    "        pred_list = [df.iloc[i]['Top_20_Image_IDs'].split(' ') for df in dfs]\n",
    "        res.append(' '.join(calc_single(pred_list)))\n",
    "    print len(res)\n",
    "    return pd.DataFrame({'Descritpion_ID': dfs[0]['Descritpion_ID'].tolist(), 'Top_20_Image_IDs': res})"
   ]
  },
  {
   "cell_type": "code",
   "execution_count": 30,
   "metadata": {},
   "outputs": [
    {
     "name": "stdout",
     "output_type": "stream",
     "text": [
      "2000\n"
     ]
    }
   ],
   "source": [
    "df_ensembled = ensemble()"
   ]
  },
  {
   "cell_type": "code",
   "execution_count": 31,
   "metadata": {},
   "outputs": [
    {
     "name": "stdout",
     "output_type": "stream",
     "text": [
      "     Descritpion_ID                                   Top_20_Image_IDs\n",
      "0             0.txt  1105.jpg 1480.jpg 338.jpg 105.jpg 1344.jpg 170...\n",
      "1             1.txt  833.jpg 818.jpg 457.jpg 589.jpg 80.jpg 314.jpg...\n",
      "2             2.txt  838.jpg 1724.jpg 159.jpg 1471.jpg 1840.jpg 118...\n",
      "3             3.txt  1514.jpg 26.jpg 1024.jpg 1215.jpg 1765.jpg 177...\n",
      "4             4.txt  742.jpg 1231.jpg 922.jpg 594.jpg 292.jpg 1269....\n",
      "5             5.txt  771.jpg 814.jpg 51.jpg 492.jpg 1335.jpg 1693.j...\n",
      "6             6.txt  1855.jpg 1216.jpg 1815.jpg 1660.jpg 1701.jpg 1...\n",
      "7             7.txt  689.jpg 448.jpg 627.jpg 168.jpg 409.jpg 1285.j...\n",
      "8             8.txt  419.jpg 719.jpg 531.jpg 103.jpg 1283.jpg 1847....\n",
      "9             9.txt  614.jpg 549.jpg 770.jpg 1886.jpg 899.jpg 1795....\n",
      "10           10.txt  634.jpg 1840.jpg 1366.jpg 42.jpg 696.jpg 1421....\n",
      "11           11.txt  814.jpg 492.jpg 771.jpg 1693.jpg 51.jpg 846.jp...\n",
      "12           12.txt  1653.jpg 837.jpg 1950.jpg 1656.jpg 1031.jpg 67...\n",
      "13           13.txt  1020.jpg 712.jpg 1584.jpg 1758.jpg 414.jpg 133...\n",
      "14           14.txt  156.jpg 1289.jpg 217.jpg 414.jpg 555.jpg 1151....\n",
      "15           15.txt  247.jpg 644.jpg 1334.jpg 482.jpg 1999.jpg 463....\n",
      "16           16.txt  37.jpg 1127.jpg 1236.jpg 1746.jpg 1646.jpg 157...\n",
      "17           17.txt  838.jpg 445.jpg 322.jpg 1724.jpg 1713.jpg 1471...\n",
      "18           18.txt  1463.jpg 779.jpg 432.jpg 1125.jpg 605.jpg 1819...\n",
      "19           19.txt  1301.jpg 145.jpg 1357.jpg 824.jpg 1128.jpg 715...\n",
      "20           20.txt  1031.jpg 1950.jpg 1656.jpg 828.jpg 1919.jpg 16...\n",
      "21           21.txt  1921.jpg 148.jpg 915.jpg 1767.jpg 85.jpg 1598....\n",
      "22           22.txt  1814.jpg 590.jpg 1642.jpg 1138.jpg 1988.jpg 66...\n",
      "23           23.txt  385.jpg 578.jpg 499.jpg 707.jpg 1169.jpg 759.j...\n",
      "24           24.txt  1722.jpg 1681.jpg 1074.jpg 1633.jpg 1445.jpg 1...\n",
      "25           25.txt  1215.jpg 26.jpg 1207.jpg 471.jpg 1889.jpg 731....\n",
      "26           26.txt  1141.jpg 668.jpg 1369.jpg 1507.jpg 1999.jpg 24...\n",
      "27           27.txt  269.jpg 777.jpg 64.jpg 708.jpg 1364.jpg 439.jp...\n",
      "28           28.txt  738.jpg 482.jpg 1184.jpg 1141.jpg 1999.jpg 136...\n",
      "29           29.txt  772.jpg 1821.jpg 1296.jpg 1505.jpg 1176.jpg 21...\n",
      "...             ...                                                ...\n",
      "1970       1970.txt  1611.jpg 982.jpg 1365.jpg 1644.jpg 1690.jpg 11...\n",
      "1971       1971.txt  1802.jpg 728.jpg 731.jpg 951.jpg 1890.jpg 857....\n",
      "1972       1972.txt  385.jpg 499.jpg 1805.jpg 707.jpg 1378.jpg 578....\n",
      "1973       1973.txt  993.jpg 303.jpg 545.jpg 1493.jpg 1405.jpg 1909...\n",
      "1974       1974.txt  988.jpg 9.jpg 470.jpg 1951.jpg 890.jpg 746.jpg...\n",
      "1975       1975.txt  1870.jpg 1722.jpg 684.jpg 1681.jpg 1633.jpg 10...\n",
      "1976       1976.txt  414.jpg 1377.jpg 712.jpg 1655.jpg 217.jpg 582....\n",
      "1977       1977.txt  746.jpg 988.jpg 963.jpg 470.jpg 298.jpg 713.jp...\n",
      "1978       1978.txt  1758.jpg 535.jpg 1275.jpg 897.jpg 908.jpg 1458...\n",
      "1979       1979.txt  1782.jpg 79.jpg 2.jpg 1050.jpg 1510.jpg 1384.j...\n",
      "1980       1980.txt  1632.jpg 325.jpg 1511.jpg 1767.jpg 148.jpg 547...\n",
      "1981       1981.txt  1169.jpg 733.jpg 780.jpg 854.jpg 385.jpg 759.j...\n",
      "1982       1982.txt  1890.jpg 1449.jpg 857.jpg 1932.jpg 822.jpg 807...\n",
      "1983       1983.txt  63.jpg 180.jpg 1853.jpg 1164.jpg 1008.jpg 680....\n",
      "1984       1984.txt  1636.jpg 645.jpg 1477.jpg 1643.jpg 247.jpg 131...\n",
      "1985       1985.txt  1547.jpg 1024.jpg 843.jpg 192.jpg 1330.jpg 196...\n",
      "1986       1986.txt  1304.jpg 83.jpg 1497.jpg 926.jpg 466.jpg 787.j...\n",
      "1987       1987.txt  143.jpg 1491.jpg 1905.jpg 624.jpg 1932.jpg 109...\n",
      "1988       1988.txt  1621.jpg 1235.jpg 1364.jpg 544.jpg 1012.jpg 18...\n",
      "1989       1989.txt  1422.jpg 1554.jpg 707.jpg 578.jpg 1805.jpg 129...\n",
      "1990       1990.txt  1543.jpg 632.jpg 1997.jpg 1331.jpg 187.jpg 173...\n",
      "1991       1991.txt  1916.jpg 1639.jpg 1049.jpg 1742.jpg 1806.jpg 3...\n",
      "1992       1992.txt  489.jpg 718.jpg 897.jpg 156.jpg 910.jpg 535.jp...\n",
      "1993       1993.txt  1784.jpg 851.jpg 751.jpg 1091.jpg 875.jpg 801....\n",
      "1994       1994.txt  1556.jpg 561.jpg 1864.jpg 714.jpg 111.jpg 1618...\n",
      "1995       1995.txt  445.jpg 1033.jpg 42.jpg 634.jpg 159.jpg 1724.j...\n",
      "1996       1996.txt  319.jpg 1164.jpg 748.jpg 1853.jpg 1739.jpg 398...\n",
      "1997       1997.txt  657.jpg 104.jpg 293.jpg 1564.jpg 1266.jpg 1026...\n",
      "1998       1998.txt  483.jpg 912.jpg 1273.jpg 597.jpg 206.jpg 861.j...\n",
      "1999       1999.txt  1342.jpg 405.jpg 1106.jpg 729.jpg 1827.jpg 243...\n",
      "\n",
      "[2000 rows x 2 columns]\n"
     ]
    }
   ],
   "source": [
    "print df_ensembled"
   ]
  },
  {
   "cell_type": "code",
   "execution_count": 32,
   "metadata": {},
   "outputs": [],
   "source": [
    "df_ensembled.to_csv(output_name, index=False)"
   ]
  },
  {
   "cell_type": "code",
   "execution_count": null,
   "metadata": {},
   "outputs": [],
   "source": []
  }
 ],
 "metadata": {
  "kernelspec": {
   "display_name": "Python 2",
   "language": "python",
   "name": "python2"
  },
  "language_info": {
   "codemirror_mode": {
    "name": "ipython",
    "version": 2
   },
   "file_extension": ".py",
   "mimetype": "text/x-python",
   "name": "python",
   "nbconvert_exporter": "python",
   "pygments_lexer": "ipython2",
   "version": "2.7.15"
  }
 },
 "nbformat": 4,
 "nbformat_minor": 2
}
