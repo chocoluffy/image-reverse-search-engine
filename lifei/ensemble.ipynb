{
 "cells": [
  {
   "cell_type": "code",
   "execution_count": 216,
   "metadata": {},
   "outputs": [],
   "source": [
    "import pandas as pd\n",
    "import numpy as np\n",
    "import operator"
   ]
  },
  {
   "cell_type": "code",
   "execution_count": 217,
   "metadata": {},
   "outputs": [],
   "source": [
    "submission_file_list = ['submissions/PLSR_100_BOW_all_pca_2048_tags_80_cos_0.26727.csv', 'submissions/0.352_plsr_800_pool5_to_bow_all_pca_2048.csv', 'submissions/PLSR_image_1000_des_BOW_all_count_1_0.341.csv']"
   ]
  },
  {
   "cell_type": "code",
   "execution_count": 218,
   "metadata": {},
   "outputs": [],
   "source": [
    "submission_weight = [1.0, 1.0, 1.0]"
   ]
  },
  {
   "cell_type": "code",
   "execution_count": 219,
   "metadata": {},
   "outputs": [],
   "source": [
    "def calc_single(pred_list):\n",
    "    score_dict = {}\n",
    "    for i in range(len(pred_list)):\n",
    "        for j in range(len(pred_list[i])):\n",
    "            if pred_list[i][j] not in score_dict:\n",
    "                score_dict[pred_list[i][j]] = 0.0\n",
    "            score_dict[pred_list[i][j]] += float(len(pred_list[i]) - j) / len(pred_list[i]) * submission_weight[i]\n",
    "    sorted_score = sorted(score_dict.items(), key=operator.itemgetter(1), reverse=True)\n",
    "    return map(lambda x: x[0], sorted_score[:20])"
   ]
  },
  {
   "cell_type": "code",
   "execution_count": 220,
   "metadata": {},
   "outputs": [],
   "source": [
    "def ensemble():\n",
    "    res = []\n",
    "    dfs = [pd.read_csv(file_path, encoding='utf-8') for file_path in submission_file_list]\n",
    "    for i in range(dfs[0].shape[0]):\n",
    "        pred_list = [df.iloc[i]['Top_20_Image_IDs'].split(' ') for df in dfs]\n",
    "        res.append(' '.join(calc_single(pred_list)))\n",
    "    print len(res)\n",
    "    return pd.DataFrame({'Descritpion_ID': dfs[0]['Descritpion_ID'].tolist(), 'Top_20_Image_IDs': res})"
   ]
  },
  {
   "cell_type": "code",
   "execution_count": 221,
   "metadata": {},
   "outputs": [
    {
     "name": "stdout",
     "output_type": "stream",
     "text": [
      "2000\n"
     ]
    }
   ],
   "source": [
    "df_ensembled = ensemble()"
   ]
  },
  {
   "cell_type": "code",
   "execution_count": 222,
   "metadata": {},
   "outputs": [
    {
     "name": "stdout",
     "output_type": "stream",
     "text": [
      "     Descritpion_ID                                   Top_20_Image_IDs\n",
      "0             0.txt  1105.jpg 1480.jpg 292.jpg 105.jpg 1344.jpg 188...\n",
      "1             1.txt  833.jpg 80.jpg 818.jpg 314.jpg 1820.jpg 457.jp...\n",
      "2             2.txt  838.jpg 1724.jpg 159.jpg 1471.jpg 1183.jpg 136...\n",
      "3             3.txt  1514.jpg 1778.jpg 26.jpg 469.jpg 1765.jpg 1215...\n",
      "4             4.txt  922.jpg 742.jpg 985.jpg 1462.jpg 687.jpg 292.j...\n",
      "5             5.txt  771.jpg 51.jpg 492.jpg 814.jpg 1874.jpg 846.jp...\n",
      "6             6.txt  1855.jpg 1660.jpg 1815.jpg 1216.jpg 429.jpg 17...\n",
      "7             7.txt  689.jpg 168.jpg 1285.jpg 409.jpg 627.jpg 975.j...\n",
      "8             8.txt  419.jpg 531.jpg 719.jpg 1283.jpg 103.jpg 1847....\n",
      "9             9.txt  549.jpg 570.jpg 1886.jpg 770.jpg 614.jpg 899.j...\n",
      "10           10.txt  634.jpg 979.jpg 1366.jpg 42.jpg 1482.jpg 696.j...\n",
      "11           11.txt  492.jpg 814.jpg 771.jpg 51.jpg 1943.jpg 1693.j...\n",
      "12           12.txt  1653.jpg 845.jpg 1804.jpg 1656.jpg 676.jpg 190...\n",
      "13           13.txt  712.jpg 1020.jpg 1758.jpg 414.jpg 1584.jpg 165...\n",
      "14           14.txt  156.jpg 217.jpg 1289.jpg 414.jpg 1096.jpg 1584...\n",
      "15           15.txt  247.jpg 1334.jpg 482.jpg 1177.jpg 644.jpg 1999...\n",
      "16           16.txt  37.jpg 1127.jpg 1236.jpg 1577.jpg 1746.jpg 973...\n",
      "17           17.txt  838.jpg 322.jpg 445.jpg 1471.jpg 1713.jpg 883....\n",
      "18           18.txt  1463.jpg 432.jpg 779.jpg 1819.jpg 549.jpg 1965...\n",
      "19           19.txt  1301.jpg 824.jpg 145.jpg 1357.jpg 715.jpg 1128...\n",
      "20           20.txt  1567.jpg 109.jpg 1656.jpg 392.jpg 1950.jpg 724...\n",
      "21           21.txt  1921.jpg 148.jpg 915.jpg 85.jpg 1767.jpg 1661....\n",
      "22           22.txt  1814.jpg 1642.jpg 590.jpg 1138.jpg 1065.jpg 17...\n",
      "23           23.txt  385.jpg 578.jpg 499.jpg 1169.jpg 454.jpg 707.j...\n",
      "24           24.txt  1722.jpg 1633.jpg 1520.jpg 1681.jpg 1074.jpg 1...\n",
      "25           25.txt  1215.jpg 26.jpg 471.jpg 1207.jpg 1889.jpg 731....\n",
      "26           26.txt  1141.jpg 1369.jpg 1184.jpg 1839.jpg 1999.jpg 1...\n",
      "27           27.txt  269.jpg 777.jpg 1364.jpg 64.jpg 194.jpg 1813.j...\n",
      "28           28.txt  1184.jpg 1141.jpg 1999.jpg 738.jpg 482.jpg 195...\n",
      "29           29.txt  772.jpg 1505.jpg 998.jpg 1821.jpg 45.jpg 1931....\n",
      "...             ...                                                ...\n",
      "1970       1970.txt  1611.jpg 1365.jpg 982.jpg 1644.jpg 1179.jpg 10...\n",
      "1971       1971.txt  1802.jpg 951.jpg 155.jpg 1614.jpg 728.jpg 1517...\n",
      "1972       1972.txt  385.jpg 1805.jpg 499.jpg 1019.jpg 707.jpg 1378...\n",
      "1973       1973.txt  993.jpg 303.jpg 545.jpg 1906.jpg 456.jpg 1493....\n",
      "1974       1974.txt  9.jpg 622.jpg 746.jpg 890.jpg 1252.jpg 1527.jp...\n",
      "1975       1975.txt  1722.jpg 1036.jpg 1870.jpg 684.jpg 1206.jpg 16...\n",
      "1976       1976.txt  414.jpg 1377.jpg 899.jpg 1311.jpg 1655.jpg 712...\n",
      "1977       1977.txt  746.jpg 713.jpg 988.jpg 1299.jpg 963.jpg 1108....\n",
      "1978       1978.txt  1458.jpg 897.jpg 1275.jpg 535.jpg 1655.jpg 391...\n",
      "1979       1979.txt  1782.jpg 832.jpg 1050.jpg 1510.jpg 20.jpg 1136...\n",
      "1980       1980.txt  1632.jpg 1511.jpg 325.jpg 1767.jpg 148.jpg 547...\n",
      "1981       1981.txt  1169.jpg 780.jpg 759.jpg 578.jpg 733.jpg 1019....\n",
      "1982       1982.txt  1890.jpg 1449.jpg 857.jpg 822.jpg 1932.jpg 168...\n",
      "1983       1983.txt  63.jpg 646.jpg 1164.jpg 1605.jpg 180.jpg 1853....\n",
      "1984       1984.txt  1636.jpg 645.jpg 1477.jpg 1316.jpg 1452.jpg 16...\n",
      "1985       1985.txt  843.jpg 1547.jpg 1024.jpg 1919.jpg 192.jpg 196...\n",
      "1986       1986.txt  1497.jpg 926.jpg 1304.jpg 295.jpg 1106.jpg 83....\n",
      "1987       1987.txt  1491.jpg 143.jpg 1905.jpg 1932.jpg 624.jpg 109...\n",
      "1988       1988.txt  1621.jpg 1235.jpg 1813.jpg 1364.jpg 544.jpg 92...\n",
      "1989       1989.txt  1422.jpg 578.jpg 1554.jpg 707.jpg 291.jpg 363....\n",
      "1990       1990.txt  1543.jpg 1331.jpg 632.jpg 1548.jpg 1997.jpg 0....\n",
      "1991       1991.txt  1916.jpg 1806.jpg 1742.jpg 1639.jpg 365.jpg 10...\n",
      "1992       1992.txt  489.jpg 897.jpg 1275.jpg 156.jpg 1444.jpg 718....\n",
      "1993       1993.txt  851.jpg 1784.jpg 751.jpg 875.jpg 1675.jpg 635....\n",
      "1994       1994.txt  561.jpg 1556.jpg 1987.jpg 1864.jpg 114.jpg 714...\n",
      "1995       1995.txt  634.jpg 42.jpg 838.jpg 511.jpg 117.jpg 1183.jp...\n",
      "1996       1996.txt  1164.jpg 748.jpg 399.jpg 319.jpg 1853.jpg 398....\n",
      "1997       1997.txt  104.jpg 657.jpg 1266.jpg 1564.jpg 533.jpg 816....\n",
      "1998       1998.txt  1451.jpg 483.jpg 473.jpg 1273.jpg 912.jpg 562....\n",
      "1999       1999.txt  1106.jpg 1284.jpg 1342.jpg 243.jpg 772.jpg 653...\n",
      "\n",
      "[2000 rows x 2 columns]\n"
     ]
    }
   ],
   "source": [
    "print df_ensembled"
   ]
  },
  {
   "cell_type": "code",
   "execution_count": 223,
   "metadata": {},
   "outputs": [],
   "source": [
    "df_ensembled.to_csv('submissions/ensembled_0.35_0.34_0.26_models_average.csv', index=False)"
   ]
  },
  {
   "cell_type": "code",
   "execution_count": null,
   "metadata": {},
   "outputs": [],
   "source": []
  }
 ],
 "metadata": {
  "kernelspec": {
   "display_name": "Python 2",
   "language": "python",
   "name": "python2"
  },
  "language_info": {
   "codemirror_mode": {
    "name": "ipython",
    "version": 2
   },
   "file_extension": ".py",
   "mimetype": "text/x-python",
   "name": "python",
   "nbconvert_exporter": "python",
   "pygments_lexer": "ipython2",
   "version": "2.7.15"
  }
 },
 "nbformat": 4,
 "nbformat_minor": 2
}
