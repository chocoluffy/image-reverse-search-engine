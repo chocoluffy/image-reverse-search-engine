{
 "cells": [
  {
   "cell_type": "code",
   "execution_count": 161,
   "metadata": {},
   "outputs": [],
   "source": [
    "import pandas as pd\n",
    "import numpy as np\n",
    "import operator"
   ]
  },
  {
   "cell_type": "code",
   "execution_count": 162,
   "metadata": {},
   "outputs": [],
   "source": [
    "submission_file_list = ['submissions/submission_PLSR_100_BOW_all_pca_2048_tags_0.24021.csv', 'submissions/0.35_plsr_600_pool5_to_bow_all_pca_1024.csv', 'submissions/submission_boa_23.csv']"
   ]
  },
  {
   "cell_type": "code",
   "execution_count": 163,
   "metadata": {},
   "outputs": [],
   "source": [
    "submission_weight = [0.24021, 0.35258, 0.23788]"
   ]
  },
  {
   "cell_type": "code",
   "execution_count": 164,
   "metadata": {},
   "outputs": [],
   "source": [
    "def calc_single(pred_list):\n",
    "    score_dict = {}\n",
    "    for i in range(len(pred_list)):\n",
    "        for j in range(len(pred_list[i])):\n",
    "            if pred_list[i][j] not in score_dict:\n",
    "                score_dict[pred_list[i][j]] = 0.0\n",
    "            score_dict[pred_list[i][j]] += float(len(pred_list[i]) - j) / len(pred_list[i]) * submission_weight[i]\n",
    "    sorted_score = sorted(score_dict.items(), key=operator.itemgetter(1), reverse=True)\n",
    "    return map(lambda x: x[0], sorted_score[:20])"
   ]
  },
  {
   "cell_type": "code",
   "execution_count": 165,
   "metadata": {},
   "outputs": [],
   "source": [
    "def ensemble():\n",
    "    res = []\n",
    "    dfs = [pd.read_csv(file_path, encoding='utf-8') for file_path in submission_file_list]\n",
    "    for i in range(dfs[0].shape[0]):\n",
    "        pred_list = [df.iloc[i]['Top_20_Image_IDs'].split(' ') for df in dfs]\n",
    "        res.append(' '.join(calc_single(pred_list)))\n",
    "    print len(res)\n",
    "    return pd.DataFrame({'Descritpion_ID': dfs[0]['Descritpion_ID'].tolist(), 'Top_20_Image_IDs': res})"
   ]
  },
  {
   "cell_type": "code",
   "execution_count": 166,
   "metadata": {},
   "outputs": [
    {
     "name": "stdout",
     "output_type": "stream",
     "text": [
      "2000\n"
     ]
    }
   ],
   "source": [
    "df_ensembled = ensemble()"
   ]
  },
  {
   "cell_type": "code",
   "execution_count": 167,
   "metadata": {},
   "outputs": [
    {
     "name": "stdout",
     "output_type": "stream",
     "text": [
      "     Descritpion_ID                                   Top_20_Image_IDs\n",
      "0             0.txt  105.jpg 1105.jpg 1480.jpg 338.jpg 1344.jpg 104...\n",
      "1             1.txt  833.jpg 818.jpg 80.jpg 314.jpg 107.jpg 589.jpg...\n",
      "2             2.txt  1183.jpg 838.jpg 1724.jpg 1471.jpg 1840.jpg 44...\n",
      "3             3.txt  1514.jpg 469.jpg 26.jpg 1765.jpg 770.jpg 1215....\n",
      "4             4.txt  742.jpg 292.jpg 1231.jpg 1243.jpg 985.jpg 922....\n",
      "5             5.txt  492.jpg 1335.jpg 330.jpg 771.jpg 814.jpg 1693....\n",
      "6             6.txt  1855.jpg 1701.jpg 1216.jpg 1275.jpg 1815.jpg 1...\n",
      "7             7.txt  448.jpg 689.jpg 975.jpg 168.jpg 627.jpg 1488.j...\n",
      "8             8.txt  419.jpg 1283.jpg 719.jpg 103.jpg 1004.jpg 1847...\n",
      "9             9.txt  614.jpg 570.jpg 549.jpg 1700.jpg 1886.jpg 1795...\n",
      "10           10.txt  696.jpg 1482.jpg 42.jpg 634.jpg 883.jpg 765.jp...\n",
      "11           11.txt  51.jpg 814.jpg 1693.jpg 771.jpg 1426.jpg 1292....\n",
      "12           12.txt  1656.jpg 837.jpg 1057.jpg 1653.jpg 1567.jpg 18...\n",
      "13           13.txt  1584.jpg 1020.jpg 996.jpg 712.jpg 1333.jpg 165...\n",
      "14           14.txt  156.jpg 217.jpg 414.jpg 1289.jpg 1151.jpg 555....\n",
      "15           15.txt  247.jpg 644.jpg 1999.jpg 482.jpg 1334.jpg 1839...\n",
      "16           16.txt  1236.jpg 1746.jpg 1127.jpg 37.jpg 52.jpg 880.j...\n",
      "17           17.txt  445.jpg 838.jpg 322.jpg 1713.jpg 159.jpg 279.j...\n",
      "18           18.txt  1463.jpg 779.jpg 1279.jpg 1450.jpg 605.jpg 102...\n",
      "19           19.txt  1128.jpg 1301.jpg 933.jpg 145.jpg 824.jpg 1357...\n",
      "20           20.txt  1570.jpg 1031.jpg 109.jpg 1656.jpg 480.jpg 392...\n",
      "21           21.txt  1921.jpg 1070.jpg 148.jpg 85.jpg 817.jpg 915.j...\n",
      "22           22.txt  1814.jpg 590.jpg 1988.jpg 1138.jpg 1642.jpg 66...\n",
      "23           23.txt  385.jpg 759.jpg 707.jpg 499.jpg 1554.jpg 1274....\n",
      "24           24.txt  1633.jpg 1681.jpg 1074.jpg 1870.jpg 1445.jpg 1...\n",
      "25           25.txt  471.jpg 26.jpg 1215.jpg 1207.jpg 1889.jpg 731....\n",
      "26           26.txt  1141.jpg 1839.jpg 738.jpg 1999.jpg 1369.jpg 66...\n",
      "27           27.txt  708.jpg 1012.jpg 777.jpg 64.jpg 439.jpg 1364.j...\n",
      "28           28.txt  738.jpg 1141.jpg 1184.jpg 1369.jpg 1102.jpg 19...\n",
      "29           29.txt  998.jpg 1821.jpg 1505.jpg 1931.jpg 772.jpg 114...\n",
      "...             ...                                                ...\n",
      "1970       1970.txt  1644.jpg 982.jpg 1611.jpg 1690.jpg 1013.jpg 13...\n",
      "1971       1971.txt  1802.jpg 731.jpg 728.jpg 951.jpg 1614.jpg 1517...\n",
      "1972       1972.txt  385.jpg 499.jpg 1356.jpg 1805.jpg 1422.jpg 707...\n",
      "1973       1973.txt  545.jpg 993.jpg 97.jpg 303.jpg 1906.jpg 456.jp...\n",
      "1974       1974.txt  988.jpg 746.jpg 622.jpg 365.jpg 1549.jpg 9.jpg...\n",
      "1975       1975.txt  1633.jpg 1870.jpg 1681.jpg 1520.jpg 1036.jpg 6...\n",
      "1976       1976.txt  414.jpg 582.jpg 1377.jpg 1311.jpg 262.jpg 899....\n",
      "1977       1977.txt  988.jpg 746.jpg 470.jpg 963.jpg 298.jpg 713.jp...\n",
      "1978       1978.txt  897.jpg 535.jpg 1275.jpg 1758.jpg 910.jpg 1940...\n",
      "1979       1979.txt  1782.jpg 2.jpg 808.jpg 1510.jpg 832.jpg 525.jp...\n",
      "1980       1980.txt  325.jpg 1632.jpg 1767.jpg 1511.jpg 618.jpg 547...\n",
      "1981       1981.txt  733.jpg 854.jpg 578.jpg 1356.jpg 1169.jpg 491....\n",
      "1982       1982.txt  1890.jpg 1449.jpg 857.jpg 822.jpg 1932.jpg 168...\n",
      "1983       1983.txt  63.jpg 180.jpg 646.jpg 1008.jpg 1605.jpg 680.j...\n",
      "1984       1984.txt  1636.jpg 247.jpg 1375.jpg 1643.jpg 1316.jpg 64...\n",
      "1985       1985.txt  1919.jpg 1547.jpg 192.jpg 1960.jpg 1024.jpg 84...\n",
      "1986       1986.txt  1497.jpg 1304.jpg 1182.jpg 926.jpg 83.jpg 787....\n",
      "1987       1987.txt  143.jpg 1932.jpg 1491.jpg 1905.jpg 1686.jpg 62...\n",
      "1988       1988.txt  1621.jpg 544.jpg 1364.jpg 128.jpg 1235.jpg 853...\n",
      "1989       1989.txt  1422.jpg 1554.jpg 1356.jpg 924.jpg 1019.jpg 18...\n",
      "1990       1990.txt  187.jpg 1331.jpg 1543.jpg 1229.jpg 1997.jpg 16...\n",
      "1991       1991.txt  1049.jpg 1639.jpg 1916.jpg 355.jpg 365.jpg 174...\n",
      "1992       1992.txt  489.jpg 1139.jpg 718.jpg 655.jpg 1885.jpg 897....\n",
      "1993       1993.txt  1784.jpg 1590.jpg 875.jpg 1619.jpg 801.jpg 65....\n",
      "1994       1994.txt  561.jpg 1556.jpg 111.jpg 1674.jpg 714.jpg 1618...\n",
      "1995       1995.txt  1183.jpg 42.jpg 765.jpg 1033.jpg 117.jpg 159.j...\n",
      "1996       1996.txt  748.jpg 1853.jpg 1164.jpg 398.jpg 319.jpg 1027...\n",
      "1997       1997.txt  104.jpg 657.jpg 1564.jpg 293.jpg 533.jpg 782.j...\n",
      "1998       1998.txt  912.jpg 985.jpg 1451.jpg 1510.jpg 1092.jpg 473...\n",
      "1999       1999.txt  1342.jpg 405.jpg 1106.jpg 68.jpg 1284.jpg 813....\n",
      "\n",
      "[2000 rows x 2 columns]\n"
     ]
    }
   ],
   "source": [
    "print df_ensembled"
   ]
  },
  {
   "cell_type": "code",
   "execution_count": 168,
   "metadata": {},
   "outputs": [],
   "source": [
    "df_ensembled.to_csv('submissions/ensembled_0.35_0.24_0.23_score_weighted.csv', index=False)"
   ]
  },
  {
   "cell_type": "code",
   "execution_count": null,
   "metadata": {},
   "outputs": [],
   "source": []
  }
 ],
 "metadata": {
  "kernelspec": {
   "display_name": "Python 2",
   "language": "python",
   "name": "python2"
  },
  "language_info": {
   "codemirror_mode": {
    "name": "ipython",
    "version": 2
   },
   "file_extension": ".py",
   "mimetype": "text/x-python",
   "name": "python",
   "nbconvert_exporter": "python",
   "pygments_lexer": "ipython2",
   "version": "2.7.15"
  }
 },
 "nbformat": 4,
 "nbformat_minor": 2
}
