{
 "cells": [
  {
   "cell_type": "code",
   "execution_count": 1,
   "metadata": {},
   "outputs": [],
   "source": [
    "import pandas as pd\n",
    "import tensorflow as tf\n",
    "import tensorflow_hub as hub\n",
    "import numpy as np\n",
    "import time"
   ]
  },
  {
   "cell_type": "code",
   "execution_count": 2,
   "metadata": {},
   "outputs": [],
   "source": [
    "SENTENCE_ENCODER_MODEL_URL = \"https://tfhub.dev/google/universal-sentence-encoder-large/3\""
   ]
  },
  {
   "cell_type": "code",
   "execution_count": 3,
   "metadata": {
    "scrolled": true
   },
   "outputs": [
    {
     "name": "stdout",
     "output_type": "stream",
     "text": [
      "INFO:tensorflow:Using /var/folders/hv/0_f4rdrj4bb8dtcl_mfyvnyr0000gn/T/tfhub_modules to cache modules.\n"
     ]
    }
   ],
   "source": [
    "embed = hub.Module(SENTENCE_ENCODER_MODEL_URL)"
   ]
  },
  {
   "cell_type": "code",
   "execution_count": 4,
   "metadata": {},
   "outputs": [],
   "source": [
    "des_train = []"
   ]
  },
  {
   "cell_type": "code",
   "execution_count": 5,
   "metadata": {},
   "outputs": [],
   "source": [
    "for i in range(10000):\n",
    "    input_path = './all/data/descriptions_train/%d.txt' % i\n",
    "    with open(input_path, 'r') as f:\n",
    "        des = map(lambda x: x.strip(), f.read().strip().split('\\n'))\n",
    "        des = [x for x in des if x]\n",
    "        des_train.append(' '.join(des))"
   ]
  },
  {
   "cell_type": "code",
   "execution_count": 6,
   "metadata": {},
   "outputs": [
    {
     "name": "stdout",
     "output_type": "stream",
     "text": [
      "10000\n"
     ]
    }
   ],
   "source": [
    "print len(des_train)"
   ]
  },
  {
   "cell_type": "code",
   "execution_count": 7,
   "metadata": {},
   "outputs": [
    {
     "name": "stdout",
     "output_type": "stream",
     "text": [
      "INFO:tensorflow:Saver not created because there are no variables in the graph to restore\n",
      "355.079916954\n"
     ]
    }
   ],
   "source": [
    "t1 = time.time()\n",
    "with tf.Graph().as_default():\n",
    "    embed = hub.Module(SENTENCE_ENCODER_MODEL_URL)\n",
    "    output = embed(des_train)\n",
    "    with tf.Session() as session:\n",
    "        session.run([tf.global_variables_initializer(), tf.tables_initializer()])\n",
    "        des_train_embed = session.run(output)\n",
    "        print(time.time() - t1)\n"
   ]
  },
  {
   "cell_type": "code",
   "execution_count": 8,
   "metadata": {
    "scrolled": true
   },
   "outputs": [
    {
     "name": "stdout",
     "output_type": "stream",
     "text": [
      "[[-0.05993493  0.08986613 -0.02964332 ... -0.02029346 -0.04356527\n",
      "   0.00561971]\n",
      " [-0.04029061 -0.03724816 -0.02106855 ... -0.03773858  0.08062818\n",
      "  -0.04963331]\n",
      " [-0.08444877  0.04668603  0.02259668 ... -0.02765764 -0.02720225\n",
      "   0.01592935]\n",
      " ...\n",
      " [ 0.0173774   0.06250323 -0.07105897 ... -0.0017985   0.00833903\n",
      "  -0.06803309]\n",
      " [-0.03273238  0.02980736  0.02755554 ... -0.01402539 -0.03743176\n",
      "  -0.06600456]\n",
      " [-0.04247576  0.05136945  0.01769555 ...  0.02488364  0.02419117\n",
      "   0.04015592]]\n"
     ]
    }
   ],
   "source": [
    "print des_train_embed"
   ]
  },
  {
   "cell_type": "code",
   "execution_count": 9,
   "metadata": {},
   "outputs": [],
   "source": [
    "des_test = []"
   ]
  },
  {
   "cell_type": "code",
   "execution_count": 11,
   "metadata": {},
   "outputs": [],
   "source": [
    "for i in range(2000):\n",
    "    input_path = './all/data/descriptions_test/%d.txt' % i\n",
    "    with open(input_path, 'r') as f:\n",
    "        des = map(lambda x: x.strip(), f.read().strip().split('\\n'))\n",
    "        des = [x for x in des if x]\n",
    "        des_test.append(' '.join(des))"
   ]
  },
  {
   "cell_type": "code",
   "execution_count": 12,
   "metadata": {},
   "outputs": [
    {
     "name": "stdout",
     "output_type": "stream",
     "text": [
      "2000\n"
     ]
    }
   ],
   "source": [
    "print len(des_testst)"
   ]
  },
  {
   "cell_type": "code",
   "execution_count": 13,
   "metadata": {},
   "outputs": [
    {
     "name": "stdout",
     "output_type": "stream",
     "text": [
      "INFO:tensorflow:Saver not created because there are no variables in the graph to restore\n",
      "51.8778650761\n"
     ]
    }
   ],
   "source": [
    "t1 = time.time()\n",
    "with tf.Graph().as_default():\n",
    "    embed = hub.Module(SENTENCE_ENCODER_MODEL_URL)\n",
    "    output = embed(des_test)\n",
    "    with tf.Session() as session:\n",
    "        session.run([tf.global_variables_initializer(), tf.tables_initializer()])\n",
    "        des_test_embed = session.run(output)\n",
    "        print(time.time() - t1)"
   ]
  },
  {
   "cell_type": "code",
   "execution_count": 19,
   "metadata": {},
   "outputs": [
    {
     "name": "stdout",
     "output_type": "stream",
     "text": [
      "10000\n"
     ]
    }
   ],
   "source": [
    "print len(des_train_embed)"
   ]
  },
  {
   "cell_type": "code",
   "execution_count": 20,
   "metadata": {},
   "outputs": [
    {
     "name": "stdout",
     "output_type": "stream",
     "text": [
      "2000\n"
     ]
    }
   ],
   "source": [
    "print len(des_test_embed)"
   ]
  },
  {
   "cell_type": "code",
   "execution_count": 21,
   "metadata": {},
   "outputs": [],
   "source": [
    "np.save('./features/descriptions_train_concat_embed_vectors.npy', des_train_embed)"
   ]
  },
  {
   "cell_type": "code",
   "execution_count": 22,
   "metadata": {},
   "outputs": [],
   "source": [
    "np.save('./features/descriptions_test_concat_embed_vectors.npy', des_test_embed)"
   ]
  },
  {
   "cell_type": "code",
   "execution_count": 23,
   "metadata": {},
   "outputs": [],
   "source": [
    "des_train_long = []"
   ]
  },
  {
   "cell_type": "code",
   "execution_count": 24,
   "metadata": {},
   "outputs": [],
   "source": [
    "for i in range(10000):\n",
    "    input_path = './all/data/descriptions_train/%d.txt' % i\n",
    "    with open(input_path, 'r') as f:\n",
    "        des = map(lambda x: x.strip(), f.read().strip().split('\\n'))\n",
    "        des_len = map(len, des)\n",
    "        des_train_long.append(des[des_len.index(max(des_len))])"
   ]
  },
  {
   "cell_type": "code",
   "execution_count": 26,
   "metadata": {},
   "outputs": [
    {
     "name": "stdout",
     "output_type": "stream",
     "text": [
      "10000\n"
     ]
    }
   ],
   "source": [
    "print len(des_train_long)"
   ]
  },
  {
   "cell_type": "code",
   "execution_count": 27,
   "metadata": {},
   "outputs": [
    {
     "name": "stdout",
     "output_type": "stream",
     "text": [
      "INFO:tensorflow:Saver not created because there are no variables in the graph to restore\n",
      "93.116658926\n"
     ]
    }
   ],
   "source": [
    "t1 = time.time()\n",
    "with tf.Graph().as_default():\n",
    "    embed = hub.Module(SENTENCE_ENCODER_MODEL_URL)\n",
    "    output = embed(des_train_long)\n",
    "    with tf.Session() as session:\n",
    "        session.run([tf.global_variables_initializer(), tf.tables_initializer()])\n",
    "        des_train_long_embed = session.run(output)\n",
    "        print(time.time() - t1)\n"
   ]
  },
  {
   "cell_type": "code",
   "execution_count": 28,
   "metadata": {},
   "outputs": [
    {
     "name": "stdout",
     "output_type": "stream",
     "text": [
      "[[-0.06133268  0.0794484  -0.00896306 ... -0.00058254 -0.04143853\n",
      "  -0.02341597]\n",
      " [-0.02404053 -0.06697829 -0.0465366  ... -0.02453659  0.08739869\n",
      "  -0.03133473]\n",
      " [-0.04188541  0.00371242  0.02024419 ...  0.0385546  -0.04600117\n",
      "   0.05137031]\n",
      " ...\n",
      " [ 0.03636546 -0.00534013 -0.06231693 ... -0.01058436 -0.00408477\n",
      "  -0.04210337]\n",
      " [-0.00046961 -0.00011756  0.03196584 ... -0.01419274 -0.07128889\n",
      "  -0.03177962]\n",
      " [ 0.02746229  0.00780684  0.0027462  ...  0.04545773  0.05622327\n",
      "   0.02698901]]\n"
     ]
    }
   ],
   "source": [
    "print des_train_long_embed"
   ]
  },
  {
   "cell_type": "code",
   "execution_count": 29,
   "metadata": {},
   "outputs": [],
   "source": [
    "des_test_long = []"
   ]
  },
  {
   "cell_type": "code",
   "execution_count": 30,
   "metadata": {},
   "outputs": [],
   "source": [
    "for i in range(2000):\n",
    "    input_path = './all/data/descriptions_test/%d.txt' % i\n",
    "    with open(input_path, 'r') as f:\n",
    "        des = map(lambda x: x.strip(), f.read().strip().split('\\n'))\n",
    "        des_len = map(len, des)\n",
    "        des_test_long.append(des[des_len.index(max(des_len))])"
   ]
  },
  {
   "cell_type": "code",
   "execution_count": 31,
   "metadata": {},
   "outputs": [
    {
     "name": "stdout",
     "output_type": "stream",
     "text": [
      "2000\n"
     ]
    }
   ],
   "source": [
    "print len(des_test_long)"
   ]
  },
  {
   "cell_type": "code",
   "execution_count": null,
   "metadata": {},
   "outputs": [
    {
     "name": "stdout",
     "output_type": "stream",
     "text": [
      "INFO:tensorflow:Saver not created because there are no variables in the graph to restore\n"
     ]
    }
   ],
   "source": [
    "t1 = time.time()\n",
    "with tf.Graph().as_default():\n",
    "    embed = hub.Module(SENTENCE_ENCODER_MODEL_URL)\n",
    "    output = embed(des_test_long)\n",
    "    with tf.Session() as session:\n",
    "        session.run([tf.global_variables_initializer(), tf.tables_initializer()])\n",
    "        des_test_long_embed = session.run(output)\n",
    "        print(time.time() - t1)"
   ]
  },
  {
   "cell_type": "code",
   "execution_count": null,
   "metadata": {},
   "outputs": [],
   "source": [
    "print des_t"
   ]
  }
 ],
 "metadata": {
  "kernelspec": {
   "display_name": "Python 2",
   "language": "python",
   "name": "python2"
  },
  "language_info": {
   "codemirror_mode": {
    "name": "ipython",
    "version": 2
   },
   "file_extension": ".py",
   "mimetype": "text/x-python",
   "name": "python",
   "nbconvert_exporter": "python",
   "pygments_lexer": "ipython2",
   "version": "2.7.15"
  }
 },
 "nbformat": 4,
 "nbformat_minor": 2
}
