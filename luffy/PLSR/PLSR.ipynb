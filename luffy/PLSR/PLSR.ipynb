{
 "cells": [
  {
   "cell_type": "code",
   "execution_count": 9,
   "metadata": {},
   "outputs": [],
   "source": [
    "import numpy as np\n",
    "import pandas as pd\n",
    "from sklearn.cross_decomposition import PLSRegression"
   ]
  },
  {
   "cell_type": "code",
   "execution_count": 7,
   "metadata": {},
   "outputs": [
    {
     "ename": "IOError",
     "evalue": "Failed to interpret file './features/descriptions_train_concat_embed_vectors.npy' as a pickle",
     "output_type": "error",
     "traceback": [
      "\u001b[0;31m---------------------------------------------------------------------------\u001b[0m",
      "\u001b[0;31mIOError\u001b[0m                                   Traceback (most recent call last)",
      "\u001b[0;32m<ipython-input-7-a883aa15df75>\u001b[0m in \u001b[0;36m<module>\u001b[0;34m()\u001b[0m\n\u001b[0;32m----> 1\u001b[0;31m \u001b[0mdes_concat_train\u001b[0m \u001b[0;34m=\u001b[0m \u001b[0mnp\u001b[0m\u001b[0;34m.\u001b[0m\u001b[0mload\u001b[0m\u001b[0;34m(\u001b[0m\u001b[0;34m'./features/descriptions_train_concat_embed_vectors.npy'\u001b[0m\u001b[0;34m)\u001b[0m\u001b[0;34m\u001b[0m\u001b[0m\n\u001b[0m\u001b[1;32m      2\u001b[0m \u001b[0mdes_concat_test\u001b[0m \u001b[0;34m=\u001b[0m \u001b[0mnp\u001b[0m\u001b[0;34m.\u001b[0m\u001b[0mload\u001b[0m\u001b[0;34m(\u001b[0m\u001b[0;34m'./features/descriptions_test_concat_embed_vectors.npy'\u001b[0m\u001b[0;34m)\u001b[0m\u001b[0;34m\u001b[0m\u001b[0m\n\u001b[1;32m      3\u001b[0m \u001b[0mdes_long_train\u001b[0m \u001b[0;34m=\u001b[0m \u001b[0mnp\u001b[0m\u001b[0;34m.\u001b[0m\u001b[0mload\u001b[0m\u001b[0;34m(\u001b[0m\u001b[0;34m'./features/descriptions_train_long_embed_vectors.npy'\u001b[0m\u001b[0;34m)\u001b[0m\u001b[0;34m\u001b[0m\u001b[0m\n\u001b[1;32m      4\u001b[0m \u001b[0mdes_long_test\u001b[0m \u001b[0;34m=\u001b[0m \u001b[0mnp\u001b[0m\u001b[0;34m.\u001b[0m\u001b[0mload\u001b[0m\u001b[0;34m(\u001b[0m\u001b[0;34m'./features/descriptions_test_long_embed_vectors.npy'\u001b[0m\u001b[0;34m)\u001b[0m\u001b[0;34m\u001b[0m\u001b[0m\n\u001b[1;32m      5\u001b[0m \u001b[0mimage_1000_train\u001b[0m \u001b[0;34m=\u001b[0m \u001b[0mnp\u001b[0m\u001b[0;34m.\u001b[0m\u001b[0mload\u001b[0m\u001b[0;34m(\u001b[0m\u001b[0;34m'./features/image_features_1000_train.npy'\u001b[0m\u001b[0;34m)\u001b[0m\u001b[0;34m\u001b[0m\u001b[0m\n",
      "\u001b[0;32m/anaconda2/envs/py27/lib/python2.7/site-packages/numpy/lib/npyio.pyc\u001b[0m in \u001b[0;36mload\u001b[0;34m(file, mmap_mode, allow_pickle, fix_imports, encoding)\u001b[0m\n\u001b[1;32m    441\u001b[0m             \u001b[0;32mexcept\u001b[0m \u001b[0mException\u001b[0m\u001b[0;34m:\u001b[0m\u001b[0;34m\u001b[0m\u001b[0m\n\u001b[1;32m    442\u001b[0m                 raise IOError(\n\u001b[0;32m--> 443\u001b[0;31m                     \"Failed to interpret file %s as a pickle\" % repr(file))\n\u001b[0m\u001b[1;32m    444\u001b[0m     \u001b[0;32mfinally\u001b[0m\u001b[0;34m:\u001b[0m\u001b[0;34m\u001b[0m\u001b[0m\n\u001b[1;32m    445\u001b[0m         \u001b[0;32mif\u001b[0m \u001b[0mown_fid\u001b[0m\u001b[0;34m:\u001b[0m\u001b[0;34m\u001b[0m\u001b[0m\n",
      "\u001b[0;31mIOError\u001b[0m: Failed to interpret file './features/descriptions_train_concat_embed_vectors.npy' as a pickle"
     ]
    }
   ],
   "source": [
    "des_concat_train = np.load('./features/descriptions_train_concat_embed_vectors.npy')\n",
    "des_concat_test = np.load('./features/descriptions_test_concat_embed_vectors.npy')\n",
    "des_long_train = np.load('./features/descriptions_train_long_embed_vectors.npy')\n",
    "des_long_test = np.load('./features/descriptions_test_long_embed_vectors.npy')\n",
    "image_1000_train = np.load('./features/image_features_1000_train.npy')\n",
    "image_1000_test = np.load('./features/image_features_1000_test.npy')\n",
    "image_2048_train = np.load('./features/image_features_2048_train.npy')\n",
    "image_2048_test = np.load('./features/image_features_2048_test.npy')"
   ]
  },
  {
   "cell_type": "code",
   "execution_count": 8,
   "metadata": {},
   "outputs": [],
   "source": [
    "def get_nearest_20(vec, vec_set):\n",
    "    dis = [np.linalg.norm(np.array(vec) - np.array(x)) for x in vec_set]\n",
    "    return np.argsort(dis)[:20]\n",
    "\n",
    "def map20score(y, pred):\n",
    "    if y in pred:\n",
    "        return (20 - pred.tolist().index(y)) / 20.0\n",
    "    else:\n",
    "        return 0\n",
    "\n",
    "def map20eval(pls, des_vectors, image_vectors):\n",
    "    image_pred = pls.predict(des_vectors)\n",
    "    top_20 = [get_nearest_20(vec, image_vectors) for vec in image_pred]\n",
    "    print(len(top_20))\n",
    "    scores = [map20score(i, top_20[i]) for i in range(len(top_20))]\n",
    "    print \"score: %f\" % np.mean(scores)\n",
    "    return scores"
   ]
  },
  {
   "cell_type": "code",
   "execution_count": 4,
   "metadata": {},
   "outputs": [
    {
     "name": "stderr",
     "output_type": "stream",
     "text": [
      "/anaconda2/lib/python2.7/site-packages/sklearn/cross_decomposition/pls_.py:77: UserWarning: Maximum number of iterations reached\n",
      "  warnings.warn('Maximum number of iterations reached')\n"
     ]
    },
    {
     "data": {
      "text/plain": [
       "PLSRegression(copy=True, max_iter=500, n_components=256, scale=True,\n",
       "       tol=1e-06)"
      ]
     },
     "execution_count": 4,
     "metadata": {},
     "output_type": "execute_result"
    }
   ],
   "source": [
    "pls_concat_1000 = PLSRegression(n_components=256)\n",
    "pls_concat_1000.fit(des_concat_train, image_1000_train)"
   ]
  },
  {
   "cell_type": "code",
   "execution_count": 6,
   "metadata": {},
   "outputs": [],
   "source": [
    "pred_concat_1000 = pls_concat_1000.predict(des_concat_test)\n",
    "top_20_concat_1000 = [get_nearest_20(vec, image_1000_test) for vec in pred_concat_1000]"
   ]
  },
  {
   "cell_type": "code",
   "execution_count": 12,
   "metadata": {},
   "outputs": [],
   "source": [
    "def output_submission(top_20, output_path):\n",
    "    top_20_image_IDs = map(lambda x: ' '.join(map(lambda xx: str(xx) + '.jpg', x)), top_20)\n",
    "    description_ID = map(lambda x: str(x) + '.txt', range(len(top_20)))\n",
    "    submission_df = pd.DataFrame({'Descritpion_ID': description_ID, 'Top_20_Image_IDs': top_20_image_IDs})\n",
    "    submission_df.to_csv(output_path, index=False)\n"
   ]
  },
  {
   "cell_type": "code",
   "execution_count": 13,
   "metadata": {},
   "outputs": [],
   "source": [
    "output_submission(top_20_concat_1000, 'submissions/PLSR_256_concat_1000.csv')"
   ]
  },
  {
   "cell_type": "code",
   "execution_count": 14,
   "metadata": {},
   "outputs": [
    {
     "data": {
      "text/plain": [
       "PLSRegression(copy=True, max_iter=1000, n_components=256, scale=True,\n",
       "       tol=1e-06)"
      ]
     },
     "execution_count": 14,
     "metadata": {},
     "output_type": "execute_result"
    }
   ],
   "source": [
    "pls_concat_1000 = PLSRegression(n_components=256, max_iter=1000)\n",
    "pls_concat_1000.fit(des_concat_train, image_1000_train)"
   ]
  },
  {
   "cell_type": "code",
   "execution_count": 15,
   "metadata": {},
   "outputs": [],
   "source": [
    "pred_concat_1000 = pls_concat_1000.predict(des_concat_test)\n",
    "top_20_concat_1000 = [get_nearest_20(vec, image_1000_test) for vec in pred_concat_1000]\n"
   ]
  },
  {
   "cell_type": "code",
   "execution_count": 16,
   "metadata": {},
   "outputs": [],
   "source": [
    "output_submission(top_20_concat_1000, 'submissions/PLSR_256_concat_1000_1000iter.csv')"
   ]
  },
  {
   "cell_type": "code",
   "execution_count": 40,
   "metadata": {},
   "outputs": [],
   "source": [
    "des_BOW_noun_train = np.load('features/descriptions_train_BOW_noun.npy')\n",
    "des_BOW_noun_test = np.load('features/descriptions_test_BOW_noun.npy')"
   ]
  },
  {
   "cell_type": "code",
   "execution_count": 56,
   "metadata": {},
   "outputs": [
    {
     "name": "stdout",
     "output_type": "stream",
     "text": [
      "0.3791097044896606\n"
     ]
    }
   ],
   "source": [
    "pls_BOW_noun_1000 = PLSRegression(n_components=10)\n",
    "pls_BOW_noun_1000.fit(des_BOW_noun_train[:8000], image_1000_train[:8000])\n",
    "print pls_BOW_noun_1000.score(des_BOW_noun_train[8000:], image_1000_train[8000:])"
   ]
  },
  {
   "cell_type": "code",
   "execution_count": 49,
   "metadata": {},
   "outputs": [
    {
     "name": "stdout",
     "output_type": "stream",
     "text": [
      "2000\n",
      "score: 0.290600\n"
     ]
    }
   ],
   "source": [
    "scores = map20eval(pls_BOW_noun_1000, des_BOW_noun_train[8000:], image_1000_train[8000:])"
   ]
  },
  {
   "cell_type": "code",
   "execution_count": 51,
   "metadata": {},
   "outputs": [
    {
     "data": {
      "text/plain": [
       "PLSRegression(copy=True, max_iter=500, n_components=256, scale=True,\n",
       "       tol=1e-06)"
      ]
     },
     "execution_count": 51,
     "metadata": {},
     "output_type": "execute_result"
    }
   ],
   "source": [
    "pls_BOW_noun_1000 = PLSRegression(n_components=256)\n",
    "pls_BOW_noun_1000.fit(des_BOW_noun_train, image_1000_train)"
   ]
  },
  {
   "cell_type": "code",
   "execution_count": 52,
   "metadata": {},
   "outputs": [],
   "source": [
    "pred_BOW_noun_1000 = pls_BOW_noun_1000.predict(des_BOW_noun_test)\n",
    "top_20_BOW_noun_1000 = [get_nearest_20(vec, image_1000_test) for vec in pred_BOW_noun_1000]"
   ]
  },
  {
   "cell_type": "code",
   "execution_count": 53,
   "metadata": {},
   "outputs": [],
   "source": [
    "output_submission(top_20_BOW_noun_1000, 'submissions/PLSR_256_BOW_noun_1000.csv')"
   ]
  },
  {
   "cell_type": "code",
   "execution_count": 59,
   "metadata": {},
   "outputs": [],
   "source": [
    "des_BOW_noun_train = np.load('features/descriptions_train_BOW_noun_5452.npy')\n",
    "des_BOW_noun_test = np.load('features/descriptions_test_BOW_noun_5452.npy')"
   ]
  },
  {
   "cell_type": "code",
   "execution_count": 60,
   "metadata": {},
   "outputs": [],
   "source": [
    "from sklearn.decomposition import PCA"
   ]
  },
  {
   "cell_type": "code",
   "execution_count": 89,
   "metadata": {},
   "outputs": [],
   "source": [
    "pca = PCA(n_components=512)"
   ]
  },
  {
   "cell_type": "code",
   "execution_count": 90,
   "metadata": {},
   "outputs": [
    {
     "data": {
      "text/plain": [
       "PCA(copy=True, iterated_power='auto', n_components=512, random_state=None,\n",
       "  svd_solver='auto', tol=0.0, whiten=False)"
      ]
     },
     "execution_count": 90,
     "metadata": {},
     "output_type": "execute_result"
    }
   ],
   "source": [
    "pca.fit(des_BOW_noun_train)"
   ]
  },
  {
   "cell_type": "code",
   "execution_count": 91,
   "metadata": {},
   "outputs": [],
   "source": [
    "des_BOW_noun_train_pca = pca.transform(des_BOW_noun_train)\n",
    "des_BOW_noun_test_pca = pca.transform(des_BOW_noun_test)"
   ]
  },
  {
   "cell_type": "code",
   "execution_count": 92,
   "metadata": {},
   "outputs": [
    {
     "name": "stdout",
     "output_type": "stream",
     "text": [
      "(10000, 512)\n"
     ]
    }
   ],
   "source": [
    "print des_BOW_noun_train_pca.shape"
   ]
  },
  {
   "cell_type": "code",
   "execution_count": 93,
   "metadata": {},
   "outputs": [
    {
     "name": "stdout",
     "output_type": "stream",
     "text": [
      "0.43198989225672163\n"
     ]
    }
   ],
   "source": [
    "pls_BOW_noun_1000 = PLSRegression(n_components=20)\n",
    "pls_BOW_noun_1000.fit(des_BOW_noun_train_pca[:8000], image_1000_train[:8000])\n",
    "print pls_BOW_noun_1000.score(des_BOW_noun_train_pca[8000:], image_1000_train[8000:])"
   ]
  },
  {
   "cell_type": "code",
   "execution_count": 96,
   "metadata": {},
   "outputs": [
    {
     "data": {
      "text/plain": [
       "PLSRegression(copy=True, max_iter=500, n_components=256, scale=True,\n",
       "       tol=1e-06)"
      ]
     },
     "execution_count": 96,
     "metadata": {},
     "output_type": "execute_result"
    }
   ],
   "source": [
    "pls_BOW_noun_1000 = PLSRegression(n_components=256)\n",
    "pls_BOW_noun_1000.fit(des_BOW_noun_train_pca, image_1000_train)"
   ]
  },
  {
   "cell_type": "code",
   "execution_count": 97,
   "metadata": {},
   "outputs": [],
   "source": [
    "pred_BOW_noun_1000_5452 = pls_BOW_noun_1000.predict(des_BOW_noun_test_pca)\n",
    "top_20_BOW_noun_1000_5452 = [get_nearest_20(vec, image_1000_test) for vec in pred_BOW_noun_1000_5452]"
   ]
  },
  {
   "cell_type": "code",
   "execution_count": 99,
   "metadata": {},
   "outputs": [],
   "source": [
    "output_submission(top_20_BOW_noun_1000_5452452, 'submissions/PLSR_256_BOW_noun_1000_5452_pca_512.csv')"
   ]
  },
  {
   "cell_type": "code",
   "execution_count": 100,
   "metadata": {},
   "outputs": [
    {
     "name": "stdout",
     "output_type": "stream",
     "text": [
      "(2000, 2048)\n"
     ]
    }
   ],
   "source": [
    "\"\"\"\n",
    "Luffy part.\n",
    "\"\"\"\n",
    "\n",
    "import pickle\n",
    "import os.path\n",
    "from sklearn.decomposition import PCA\n",
    "\n",
    "train_description_feature_map = pickle.load(open('./features/11_30_[train]_description_normalized_only_>1_vector_py27.pkl', 'rb'))\n",
    "test_derscription_feature_map = pickle.load(open('./features/11_30_[test]_description_normalized_only_>1_vector_py27.pkl', 'rb'))\n",
    "\n",
    "train_bow_lst = list(map(lambda x: x[\"BOW_all_normalized_vector\"], train_description_feature_map))\n",
    "test_bow_lst = list(map(lambda x: x[\"BOW_all_normalized_vector\"], test_derscription_feature_map))\n",
    "\n",
    "pca_model_name = \"./models/pca_bow_all_to_2048.pkl\"\n",
    "if os.path.exists(pca_model_name):\n",
    "    pca = pickle.load(open(pca_model_name, 'rb'))\n",
    "    print \"loaded pca model...\"\n",
    "else:\n",
    "    # train PCA.\n",
    "    pca = PCA(n_components=3500)\n",
    "    pca.fit(train_bow_lst)\n",
    "    pickle.dump(pca, open(pca_model_name, 'wb'), protocol=2)\n",
    "    print \"trained and saved pca model...\"\n",
    "\n",
    "des_BOW_all_train_pca = pca.transform(train_bow_lst)\n",
    "des_BOW_all_test_pca = pca.transform(test_bow_lst)\n",
    "\n",
    "print des_BOW_all_test_pca.shape"
   ]
  },
  {
   "cell_type": "code",
   "execution_count": 81,
   "metadata": {},
   "outputs": [],
   "source": [
    "train_img_map = pickle.load(open('./features/12_1_train_img_feature_map_py27.pkl', 'rb'))\n",
    "test_img_map = pickle.load(open('./features/12_1_test_img_feature_map_py27.pkl', 'rb'))\n",
    "print \"loaded img feature map...\""
   ]
  },
  {
   "cell_type": "code",
   "execution_count": 82,
   "metadata": {},
   "outputs": [],
   "source": [
    "train_pool5_img = np.asarray(list(map(lambda x: x[\"POOL_vector\"], train_img_map)))\n",
    "test_pool5_img = np.asarray(list(map(lambda x: x[\"POOL_vector\"], test_img_map)))"
   ]
  },
  {
   "cell_type": "code",
   "execution_count": 99,
   "metadata": {},
   "outputs": [
    {
     "name": "stdout",
     "output_type": "stream",
     "text": [
      "model loaded...\n"
     ]
    }
   ],
   "source": [
    "model_name = \"./models/pls_800_pool5_to_BOW_all_pca_2048.pkl\"\n",
    "if os.path.exists(model_name):\n",
    "    model = pickle.load(open(model_name, 'rb'))\n",
    "else:\n",
    "    # train PLSR.\n",
    "    model = PLSRegression(n_components=800)\n",
    "    model.fit(train_pool5_img[:8000], des_BOW_all_train_pca[:8000])\n",
    "    pickle.dump(model, open(model_name, 'wb'), protocol=2)\n",
    "    print model.score(train_pool5_img[8000:], des_BOW_all_train_pca[8000:])\n",
    "print \"model loaded...\""
   ]
  },
  {
   "cell_type": "code",
   "execution_count": 101,
   "metadata": {},
   "outputs": [
    {
     "name": "stdout",
     "output_type": "stream",
     "text": [
      "('description * images dist matrix, shape:', (2000, 2000))\n",
      "Writing Complete.\n"
     ]
    }
   ],
   "source": [
    "from scipy.spatial.distance import cdist\n",
    "import csv\n",
    "\n",
    "pred_test_pool5 = model.predict(test_pool5_img)\n",
    "dist = cdist(des_BOW_all_test_pca, pred_test_pool5, 'cosine') # CHANGE!!\n",
    "\n",
    "\n",
    "print(\"description * images dist matrix, shape:\", dist.shape)\n",
    "sorted_id = np.argsort(dist) # dist: N_description * N_images dist matrix.\n",
    "\n",
    "with open('./submission/submission_plsr_800_pool5_to_bow_all_pca_2048.csv', 'w') as csvfile:\n",
    "        # write csv header\n",
    "        fieldnames = ['Descritpion_ID', \"Top_20_Image_IDs\"]\n",
    "        writer = csv.DictWriter(csvfile, fieldnames=fieldnames)\n",
    "        writer.writeheader()\n",
    "        \n",
    "        for i, row in enumerate(sorted_id):\n",
    "            top_choices =  list(map(lambda x: str(x) + \".jpg\", row[:20]))\n",
    "            res = {}\n",
    "            res['Descritpion_ID'] = str(i) + \".txt\" # file name\n",
    "            res['Top_20_Image_IDs'] = \" \".join(top_choices)\n",
    "            writer.writerow(res)\n",
    "\n",
    "print(\"Writing Complete.\")"
   ]
  },
  {
   "cell_type": "code",
   "execution_count": 112,
   "metadata": {},
   "outputs": [
    {
     "name": "stderr",
     "output_type": "stream",
     "text": [
      "[nltk_data] Downloading package stopwords to /Users/EL-\n",
      "[nltk_data]     CAPITAN-2016/nltk_data...\n",
      "[nltk_data]   Package stopwords is already up-to-date!\n",
      "[nltk_data] Downloading package wordnet to /Users/EL-\n",
      "[nltk_data]     CAPITAN-2016/nltk_data...\n",
      "[nltk_data]   Package wordnet is already up-to-date!\n"
     ]
    }
   ],
   "source": [
    "\"\"\"\n",
    "Text preprocessing.\n",
    "\"\"\"\n",
    "import re, string, unicodedata\n",
    "import nltk\n",
    "import contractions\n",
    "import inflect\n",
    "from nltk import word_tokenize, sent_tokenize\n",
    "from nltk.corpus import stopwords\n",
    "from nltk.stem import LancasterStemmer, WordNetLemmatizer\n",
    "\n",
    "nltk.download('stopwords')\n",
    "nltk.download('wordnet')\n",
    "\n",
    "def to_lowercase(words):\n",
    "    \"\"\"Convert all characters to lowercase from list of tokenized words\"\"\"\n",
    "    new_words = []\n",
    "    for word in words:\n",
    "        new_word = word.lower()\n",
    "        new_words.append(new_word)\n",
    "    return new_words\n",
    "\n",
    "def remove_punctuation(words):\n",
    "    \"\"\"Remove punctuation from list of tokenized words\"\"\"\n",
    "    new_words = []\n",
    "    for word in words:\n",
    "        new_word = re.sub(r'[^\\w\\s]', '', word)\n",
    "        if new_word != '':\n",
    "            new_words.append(new_word)\n",
    "    return new_words\n",
    "\n",
    "def replace_numbers(words):\n",
    "    \"\"\"Replace all interger occurrences in list of tokenized words with textual representation\"\"\"\n",
    "    p = inflect.engine()\n",
    "    new_words = []\n",
    "    for word in words:\n",
    "        if word.isdigit():\n",
    "            new_word = p.number_to_words(word)\n",
    "            new_words.append(new_word)\n",
    "        else:\n",
    "            new_words.append(word)\n",
    "    return new_words\n",
    "\n",
    "def remove_stopwords(words):\n",
    "    \"\"\"Remove stop words from list of tokenized words\"\"\"\n",
    "    new_words = []\n",
    "    for word in words:\n",
    "        if word not in stopwords.words('english'):\n",
    "            new_words.append(word)\n",
    "    return new_words\n",
    "\n",
    "def stem_words(words):\n",
    "    \"\"\"Stem words in list of tokenized words\"\"\"\n",
    "    stemmer = LancasterStemmer()\n",
    "    stems = []\n",
    "    for word in words:\n",
    "        stem = stemmer.stem(word)\n",
    "        stems.append(stem)\n",
    "    return stems\n",
    "\n",
    "def lemmatize_verbs(words):\n",
    "    \"\"\"Lemmatize verbs in list of tokenized words\"\"\"\n",
    "    lemmatizer = WordNetLemmatizer()\n",
    "    lemmas = []\n",
    "    for word in words:\n",
    "        lemma = lemmatizer.lemmatize(word, pos='v')\n",
    "        lemmas.append(lemma)\n",
    "    return lemmas\n",
    "\n",
    "def normalize(words):\n",
    "    words = to_lowercase(words)\n",
    "    words = remove_punctuation(words)\n",
    "    words = replace_numbers(words)\n",
    "    words = remove_stopwords(words)\n",
    "    words = lemmatize_verbs(words)\n",
    "    return words\n"
   ]
  },
  {
   "cell_type": "code",
   "execution_count": 163,
   "metadata": {},
   "outputs": [
    {
     "name": "stdout",
     "output_type": "stream",
     "text": [
      "TFIDF model loaded...\n",
      "0.12499730496979501\n",
      "0.14684655407981254\n",
      "0.1257889789279195\n",
      "0.19298520329431507\n",
      "0.20056456953600987\n"
     ]
    }
   ],
   "source": [
    "\"\"\"\n",
    "Compute TFIDF for test_derscription_feature_map \"u'description_complete\"\n",
    "\"\"\"\n",
    "from gensim.models import TfidfModel\n",
    "from gensim.corpora import Dictionary\n",
    "documents = list(map(lambda x: x[\"description_all_cleaned\"], test_derscription_feature_map))\n",
    "dictionary = Dictionary(documents)\n",
    "\n",
    "tf_model_name = \"./models/TFIDF_test_description_all_cleaned.tf\"\n",
    "if os.path.exists(tf_model_name):\n",
    "    tfidf_model = TfidfModel.load(tf_model_name)\n",
    "    print \"TFIDF model loaded...\"\n",
    "else:\n",
    "    tfidf_model = TfidfModel([dictionary.doc2bow(d) for d in documents], id2word=dictionary)\n",
    "    tfidf_model.save(\"./models/TFIDF_test_description_all_cleaned.tf\")\n",
    "    print \"TFIDF model saved...\"\n",
    "    \n",
    "tfidf_values = dict(tfidf_model[dictionary.doc2bow(test_derscription_feature_map[0][\"description_all_cleaned\"])])\n",
    " \n",
    "print tfidf_values[dictionary.token2id['woman']]                     # 0.0367516096888\n",
    "print tfidf_values[dictionary.token2id['walk']]                # 0.0538505795815\n",
    "print tfidf_values[dictionary.token2id['street']]                 # 0.0683210467787\n",
    "print tfidf_values[dictionary.token2id['watch']]               # 0.0945807226371\n",
    "print tfidf_values[dictionary.token2id['phone']]                 # 0.107960637598"
   ]
  },
  {
   "cell_type": "code",
   "execution_count": 122,
   "metadata": {},
   "outputs": [
    {
     "name": "stdout",
     "output_type": "stream",
     "text": [
      "{u'description_complete': u'A woman walking down a street past a doorway. a woman is walking past a doorway on a sidewalk A woman talking on a cell phone checks her watch. A woman talks on a cell phone and checks her watch while walking on a sidewalk. A woman wearing blue is on the phone and walking along a sidewalk in front of a building with black planters on both sides of the entrance.', 'description_all_cleaned': [u'woman', u'walk', u'street', u'past', u'doorway', u'woman', u'walk', u'past', u'doorway', u'sidewalk', u'woman', u'talk', u'cell', u'phone', u'check', u'watch', u'woman', u'talk', u'cell', u'phone', u'check', u'watch', u'walk', u'sidewalk', u'woman', u'wear', u'blue', u'phone', u'walk', u'along', u'sidewalk', u'front', u'build', u'black', u'planters', u'side', u'entrance'], u'name': u'0.txt', u'description_n_v_adj': u'woman street doorway. woman doorway sidewalk woman cell phone watch. woman cell phone watch sidewalk. woman blue phone walking sidewalk front building black entrance.', 'description_n_cleaned': [u'woman', u'street', u'doorway', u'woman', u'doorway', u'sidewalk', u'woman', u'cell', u'phone', u'watch', u'woman', u'cell', u'phone', u'watch', u'sidewalk', u'woman', u'blue', u'phone', u'walk', u'sidewalk', u'front', u'build', u'entrance'], u'BOW_all_normalized_vector': [0, 0, 0, 0, 0, 0, 0, 0, 0, 0, 0, 0, 0, 0, 0, 0, 0, 0, 0, 1, 0, 0, 0, 0, 0, 0, 0, 0, 0, 0, 0, 0, 0, 0, 0, 0, 0, 1, 0, 0, 0, 0, 0, 0, 0, 0, 0, 0, 0, 0, 0, 0, 0, 0, 0, 0, 0, 0, 0, 0, 0, 0, 0, 0, 0, 0, 0, 0, 0, 0, 0, 0, 0, 0, 0, 0, 0, 0, 0, 0, 0, 0, 0, 0, 0, 0, 0, 0, 0, 0, 0, 0, 0, 0, 0, 0, 0, 0, 0, 0, 0, 0, 0, 0, 0, 0, 0, 0, 0, 0, 0, 0, 0, 0, 1, 0, 0, 0, 0, 0, 0, 0, 0, 0, 0, 0, 0, 0, 0, 0, 0, 0, 0, 0, 0, 0, 0, 0, 0, 0, 0, 0, 0, 0, 0, 0, 0, 0, 0, 0, 0, 0, 0, 0, 0, 0, 0, 0, 0, 0, 0, 0, 0, 0, 0, 0, 0, 0, 1, 0, 0, 0, 0, 0, 0, 0, 0, 0, 0, 0, 0, 0, 0, 0, 0, 0, 0, 0, 0, 0, 0, 0, 0, 1, 0, 0, 0, 0, 0, 0, 0, 0, 0, 0, 0, 0, 0, 0, 0, 1, 0, 0, 0, 0, 0, 0, 1, 1, 0, 0, 0, 0, 0, 0, 0, 0, 0, 0, 0, 0, 0, 0, 0, 0, 0, 0, 0, 0, 0, 0, 0, 0, 0, 0, 0, 0, 0, 0, 0, 0, 0, 0, 0, 0, 0, 0, 0, 0, 0, 0, 0, 0, 0, 0, 0, 0, 0, 0, 0, 0, 0, 0, 0, 0, 0, 0, 0, 0, 0, 0, 0, 0, 0, 0, 0, 0, 0, 0, 0, 0, 0, 0, 0, 0, 0, 0, 0, 0, 0, 0, 0, 0, 0, 0, 0, 0, 0, 0, 0, 0, 0, 0, 0, 0, 0, 0, 0, 0, 0, 0, 0, 0, 0, 0, 0, 0, 0, 0, 0, 0, 0, 0, 0, 0, 0, 0, 0, 0, 0, 0, 0, 0, 0, 0, 0, 0, 0, 0, 0, 0, 0, 0, 0, 0, 0, 0, 0, 0, 0, 0, 0, 0, 0, 0, 0, 0, 0, 0, 0, 0, 0, 0, 0, 0, 0, 0, 0, 0, 0, 0, 1, 0, 0, 0, 0, 0, 0, 0, 0, 0, 0, 0, 0, 0, 0, 0, 0, 0, 0, 0, 0, 0, 0, 0, 0, 0, 0, 0, 0, 0, 0, 0, 0, 0, 0, 0, 0, 0, 0, 0, 0, 0, 0, 0, 0, 0, 0, 0, 0, 0, 0, 0, 0, 0, 0, 0, 0, 0, 0, 0, 0, 0, 0, 0, 0, 0, 0, 0, 0, 0, 0, 0, 0, 0, 0, 0, 0, 0, 0, 0, 0, 1, 0, 0, 0, 0, 0, 0, 0, 0, 0, 0, 0, 0, 0, 0, 0, 0, 0, 0, 0, 0, 0, 0, 0, 0, 0, 0, 0, 0, 0, 0, 0, 0, 0, 0, 0, 0, 0, 0, 0, 0, 0, 0, 0, 0, 0, 0, 0, 0, 0, 0, 0, 0, 0, 0, 0, 0, 0, 0, 0, 0, 0, 0, 0, 0, 0, 0, 0, 0, 0, 0, 0, 0, 0, 0, 0, 0, 1, 0, 0, 0, 0, 1, 1, 1, 0, 0, 0, 0, 0, 0, 0, 0, 0, 0, 0, 0, 0, 0, 0, 0, 0, 0, 0, 0, 0, 0, 0, 0, 0, 0, 0, 0, 0, 0, 0, 0, 0, 0, 0, 0, 0, 0, 0, 0, 0, 0, 0, 0, 0, 0, 0, 0, 0, 0, 0, 0, 0, 0, 0, 0, 0, 0, 0, 0, 0, 0, 0, 0, 0, 0, 0, 0, 0, 0, 0, 0, 0, 0, 0, 0, 0, 0, 0, 0, 0, 0, 0, 0, 0, 0, 0, 0, 0, 0, 0, 0, 0, 0, 0, 0, 0, 0, 0, 0, 0, 0, 0, 0, 0, 0, 0, 0, 0, 0, 0, 0, 0, 0, 0, 0, 0, 0, 0, 0, 0, 0, 0, 0, 0, 0, 0, 0, 0, 0, 0, 0, 0, 0, 0, 0, 0, 0, 0, 0, 0, 0, 0, 0, 0, 0, 0, 0, 0, 0, 0, 0, 0, 0, 0, 0, 0, 0, 0, 0, 0, 0, 0, 0, 0, 0, 0, 0, 0, 0, 0, 0, 0, 0, 0, 0, 0, 0, 0, 0, 0, 0, 0, 0, 0, 0, 0, 0, 0, 0, 0, 0, 0, 0, 0, 0, 0, 0, 0, 0, 0, 0, 0, 0, 0, 0, 0, 0, 0, 0, 0, 0, 0, 0, 0, 0, 0, 1, 0, 0, 0, 0, 0, 0, 0, 0, 0, 0, 0, 0, 0, 0, 0, 0, 0, 0, 0, 0, 0, 0, 0, 0, 0, 0, 0, 0, 0, 0, 0, 0, 0, 0, 0, 0, 0, 0, 0, 0, 0, 0, 0, 0, 0, 0, 0, 0, 0, 0, 0, 0, 0, 0, 0, 0, 0, 0, 0, 0, 0, 0, 0, 0, 0, 0, 0, 0, 0, 0, 0, 0, 0, 0, 0, 0, 0, 0, 0, 0, 0, 0, 0, 0, 0, 0, 0, 0, 0, 0, 0, 0, 0, 0, 0, 0, 0, 0, 0, 0, 0, 0, 0, 1, 0, 0, 0, 0, 0, 0, 0, 0, 0, 0, 0, 0, 0, 0, 0, 0, 0, 0, 0, 0, 0, 0, 0, 0, 0, 0, 0, 0, 0, 0, 0, 0, 0, 0, 0, 0, 0, 0, 0, 0, 0, 0, 0, 0, 0, 0, 0, 0, 0, 0, 0, 0, 0, 0, 0, 0, 0, 0, 0, 0, 0, 0, 0, 0, 0, 0, 0, 0, 0, 0, 0, 0, 0, 0, 0, 0, 0, 0, 0, 0, 0, 0, 0, 0, 0, 0, 0, 0, 0, 0, 0, 0, 0, 0, 0, 0, 0, 0, 0, 0, 0, 0, 0, 0, 0, 0, 0, 0, 0, 0, 0, 0, 0, 0, 0, 0, 0, 0, 0, 0, 0, 0, 0, 0, 0, 0, 0, 0, 0, 0, 0, 0, 0, 0, 0, 0, 0, 0, 0, 0, 0, 0, 0, 0, 0, 0, 0, 0, 0, 0, 0, 0, 0, 0, 0, 0, 0, 0, 0, 0, 0, 0, 0, 0, 0, 0, 0, 0, 0, 0, 0, 0, 0, 0, 0, 0, 0, 0, 0, 0, 0, 0, 0, 0, 0, 0, 0, 0, 0, 0, 0, 0, 0, 0, 0, 0, 0, 0, 0, 0, 0, 0, 0, 0, 0, 0, 0, 0, 0, 0, 0, 0, 0, 0, 0, 0, 0, 0, 0, 0, 0, 0, 0, 0, 0, 0, 0, 0, 0, 0, 0, 0, 0, 0, 0, 0, 0, 0, 0, 0, 0, 0, 0, 0, 0, 0, 0, 0, 0, 0, 0, 0, 0, 0, 0, 0, 0, 0, 0, 0, 0, 0, 0, 0, 0, 0, 0, 0, 0, 0, 0, 0, 0, 0, 0, 0, 0, 0, 0, 0, 0, 0, 0, 0, 0, 0, 0, 0, 0, 0, 0, 0, 0, 0, 0, 0, 0, 0, 0, 0, 0, 0, 0, 0, 0, 0, 0, 0, 0, 0, 0, 0, 0, 0, 0, 0, 0, 0, 0, 0, 0, 0, 0, 0, 0, 0, 0, 0, 0, 0, 0, 0, 1, 0, 0, 0, 0, 0, 0, 0, 0, 0, 0, 0, 0, 0, 0, 0, 0, 0, 0, 0, 0, 0, 0, 0, 0, 0, 0, 0, 0, 0, 0, 0, 0, 0, 0, 0, 0, 0, 0, 0, 0, 0, 0, 0, 0, 0, 0, 0, 0, 0, 0, 0, 0, 0, 0, 0, 0, 0, 0, 0, 0, 0, 0, 0, 0, 0, 0, 0, 0, 0, 0, 0, 0, 0, 0, 0, 0, 0, 0, 0, 0, 0, 0, 0, 0, 0, 0, 0, 0, 0, 0, 0, 0, 0, 0, 0, 0, 0, 0, 0, 0, 0, 0, 0, 0, 0, 0, 0, 0, 0, 0, 0, 0, 0, 0, 0, 0, 0, 0, 0, 0, 0, 0, 0, 0, 0, 0, 0, 0, 0, 0, 0, 0, 0, 0, 0, 0, 0, 0, 0, 0, 0, 0, 0, 0, 0, 0, 0, 0, 0, 0, 0, 0, 0, 0, 0, 0, 0, 0, 0, 0, 0, 0, 0, 0, 0, 0, 0, 0, 0, 0, 0, 0, 0, 0, 0, 0, 0, 0, 0, 0, 0, 0, 0, 0, 0, 0, 0, 0, 0, 0, 0, 0, 0, 0, 0, 0, 0, 0, 0, 0, 0, 0, 0, 0, 0, 0, 0, 0, 0, 0, 0, 0, 0, 0, 0, 0, 0, 0, 0, 0, 0, 0, 0, 0, 0, 0, 0, 0, 0, 0, 0, 0, 0, 0, 0, 0, 0, 0, 0, 0, 0, 0, 0, 0, 0, 0, 0, 0, 0, 0, 0, 0, 0, 0, 0, 0, 0, 0, 0, 0, 0, 0, 0, 0, 0, 0, 0, 0, 0, 0, 0, 0, 0, 0, 0, 0, 0, 0, 0, 0, 0, 0, 0, 0, 0, 0, 0, 0, 0, 0, 0, 0, 0, 0, 0, 0, 0, 0, 0, 0, 0, 0, 0, 0, 0, 0, 0, 0, 0, 0, 0, 0, 0, 0, 0, 0, 0, 0, 0, 0, 0, 0, 0, 0, 0, 0, 0, 0, 0, 0, 0, 0, 0, 0, 0, 0, 0, 0, 0, 0, 0, 0, 0, 0, 0, 0, 0, 0, 0, 0, 0, 0, 0, 0, 0, 0, 0, 0, 0, 0, 0, 0, 0, 0, 0, 0, 0, 0, 0, 0, 0, 0, 0, 0, 0, 0, 0, 0, 0, 0, 0, 0, 0, 0, 0, 0, 0, 0, 0, 0, 0, 0, 0, 0, 0, 0, 0, 0, 0, 0, 0, 0, 0, 0, 0, 0, 0, 0, 0, 0, 0, 0, 0, 0, 0, 0, 0, 0, 0, 0, 0, 0, 0, 0, 0, 0, 0, 0, 0, 0, 0, 0, 0, 0, 0, 0, 0, 0, 0, 0, 0, 0, 0, 0, 0, 0, 0, 0, 0, 0, 0, 0, 0, 0, 0, 0, 0, 0, 0, 0, 0, 0, 0, 0, 0, 0, 0, 0, 0, 0, 0, 0, 0, 0, 0, 0, 0, 0, 0, 0, 0, 0, 0, 0, 0, 0, 0, 0, 0, 0, 0, 0, 0, 0, 0, 0, 0, 0, 0, 0, 0, 0, 0, 0, 0, 0, 0, 0, 0, 0, 0, 0, 0, 0, 0, 0, 0, 0, 0, 0, 0, 0, 0, 0, 0, 0, 0, 0, 0, 0, 0, 0, 0, 0, 0, 0, 0, 0, 0, 0, 0, 0, 0, 0, 0, 0, 0, 0, 0, 0, 0, 0, 0, 0, 0, 0, 0, 0, 0, 0, 0, 0, 0, 0, 0, 0, 0, 0, 0, 0, 0, 0, 0, 0, 0, 0, 0, 0, 0, 0, 0, 0, 0, 0, 0, 0, 0, 0, 0, 0, 0, 0, 0, 0, 0, 0, 0, 0, 0, 0, 0, 0, 0, 0, 0, 0, 0, 0, 0, 0, 0, 0, 0, 0, 0, 0, 0, 0, 0, 0, 0, 1, 0, 0, 0, 0, 0, 0, 1, 0, 0, 0, 0, 0, 0, 0, 0, 0, 0, 0, 0, 0, 0, 0, 0, 0, 0, 0, 0, 0, 0, 0, 0, 0, 0, 0, 0, 0, 0, 0, 0, 0, 0, 0, 0, 0, 0, 0, 0, 0, 0, 0, 0, 0, 0, 0, 0, 0, 0, 0, 0, 0, 0, 0, 0, 0, 0, 0, 0, 0, 0, 0, 0, 0, 0, 0, 0, 0, 0, 0, 0, 0, 0, 0, 0, 0, 0, 0, 0, 0, 0, 0, 0, 0, 0, 0, 0, 0, 0, 0, 0, 0, 0, 0, 0, 0, 0, 0, 0, 0, 0, 0, 0, 0, 0, 0, 0, 0, 0, 0, 0, 0, 0, 0, 0, 0, 0, 0, 0, 0, 0, 0, 0, 0, 0, 0, 0, 0, 0, 0, 0, 0, 0, 0, 0, 0, 0, 0, 0, 0, 0, 0, 0, 0, 0, 0, 0, 0, 0, 0, 0, 0, 0, 0, 0, 0, 0, 0, 0, 0, 0, 0, 0, 0, 0, 0, 0, 0, 0, 0, 0, 0, 0, 0, 0, 0, 0, 0, 0, 0, 0, 0, 0, 0, 0, 0, 0, 0, 0, 0, 0, 0, 0, 0, 0, 0, 0, 0, 0, 0, 0, 0, 0, 0, 0, 0, 0, 0, 0, 0, 0, 0, 0, 0, 0, 0, 0, 0, 0, 0, 0, 0, 0, 0, 0, 0, 0, 0, 0, 0, 0, 0, 0, 0, 0, 0, 0, 0, 0, 0, 0, 0, 0, 0, 0, 0, 0, 0, 0, 0, 0, 0, 0, 0, 0, 0, 0, 0, 0, 0, 0, 0, 0, 0, 0, 0, 0, 0, 0, 0, 0, 0, 0, 0, 0, 0, 0, 0, 0, 0, 0, 0, 0, 0, 0, 0, 0, 0, 0, 0, 0, 0, 0, 0, 0, 0, 0, 0, 0, 0, 0, 0, 0, 0, 0, 0, 0, 0, 0, 0, 0, 0, 0, 0, 0, 0, 0, 0, 0, 0, 0, 0, 0, 0, 0, 0, 0, 0, 0, 0, 0, 0, 0, 0, 0, 0, 0, 0, 0, 0, 0, 0, 0, 0, 0, 0, 0, 0, 0, 0, 0, 0, 0, 0, 0, 0, 0, 0, 0, 0, 0, 0, 0, 0, 0, 0, 0, 0, 0, 0, 0, 0, 0, 0, 0, 0, 0, 0, 0, 0, 0, 0, 0, 0, 0, 0, 0, 0, 0, 0, 0, 0, 0, 0, 0, 0, 0, 0, 0, 0, 0, 0, 0, 0, 0, 0, 0, 0, 0, 0, 0, 0, 0, 0, 0, 0, 0, 0, 0, 0, 0, 0, 0, 0, 0, 0, 0, 0, 0, 0, 0, 0, 0, 0, 0, 0, 0, 0, 0, 0, 0, 0, 0, 0, 0, 0, 0, 0, 0, 0, 0, 0, 0, 0, 0, 0, 0, 0, 0, 0, 0, 0, 0, 0, 0, 0, 0, 0, 0, 0, 0, 0, 0, 0, 0, 0, 0, 0, 0, 0, 0, 0, 0, 0, 0, 0, 1, 0, 0, 0, 0, 0, 0, 0, 0, 0, 0, 0, 0, 0, 0, 0, 0, 0, 0, 0, 0, 0, 0, 0, 0, 0, 0, 0, 0, 0, 0, 0, 0, 0, 0, 0, 0, 0, 0, 0, 0, 0, 0, 0, 0, 0, 0, 0, 0, 0, 0, 0, 0, 0, 0, 0, 0, 0, 0, 0, 0, 0, 0, 0, 0, 0, 0, 0, 0, 0, 0, 0, 0, 0, 0, 0, 0, 0, 0, 0, 0, 0, 0, 0, 0, 0, 0, 0, 0, 0, 0, 0, 0, 0, 0, 0, 0, 0, 0, 0, 0, 0, 0, 0, 0, 0, 0, 0, 0, 0, 0, 0, 0, 0, 0, 0, 0, 0, 0, 0, 0, 0, 0, 0, 0, 0, 0, 0, 0, 0, 0, 0, 0, 0, 0, 0, 0, 0, 0, 0, 0, 0, 0, 0, 0, 0, 0, 0, 0, 0, 0, 0, 0, 0, 0, 0, 0, 0, 0, 0, 0, 0, 0, 0, 0, 0, 0, 0, 0, 0, 0, 0, 0, 0, 0, 0, 0, 0, 0, 0, 0, 0, 0, 0, 0, 0, 0, 0, 0, 0, 0, 0, 0, 0, 0, 0, 0, 0, 0, 0, 0, 0, 0, 0, 0, 0, 0, 0, 0, 0, 0, 0, 0, 0, 0, 0, 0, 0, 0, 0, 0, 0, 0, 0, 0, 0, 0, 0, 0, 0, 0, 0, 0, 0, 0, 0, 0, 0, 0, 0, 0, 0, 0, 0, 0, 0, 0, 0, 0, 0, 0, 0, 0, 0, 0, 0, 0, 0, 0, 0, 0, 0, 0, 0, 0, 0, 0, 0, 0, 0, 0, 0, 0, 0, 0, 0, 0, 0, 0, 0, 0, 0, 0, 0, 0, 0, 0, 0, 0, 0, 0, 0, 0, 0, 0, 0, 0, 0, 0, 0, 0, 0, 0, 0, 0, 0, 0, 0, 0, 0, 0, 0, 0, 0, 0, 0, 0, 0, 0, 0, 0, 0, 0, 0, 0, 0, 0, 0, 0, 0, 0, 0, 0, 0, 0, 0, 0, 0, 0, 0, 0, 0, 0, 0, 0, 0, 0, 0, 0, 0, 0, 0, 0, 0, 0, 0, 0, 0, 0, 0, 0, 0, 0, 0, 0, 0, 0, 0, 0, 0, 0, 0, 0, 0, 0, 0, 0, 0, 0, 0, 0, 0, 0, 0, 0, 0, 0, 0, 0, 0, 0, 0, 0, 0, 0, 0, 0, 0, 0, 0, 0, 0, 0, 0, 0, 0, 0, 0, 0, 0, 0, 0, 0, 0, 0, 0, 0, 0, 0, 0, 0, 0, 0, 0, 0, 0, 0, 0, 0, 0, 0, 0, 0, 0, 0, 0, 0, 0, 0, 0, 0, 0, 0, 0, 0, 0, 0, 0, 0, 0, 0, 0, 0, 0, 0, 0, 0, 0, 0, 0, 0, 0, 0, 0, 0, 0, 0, 0, 0, 0, 0, 0, 0, 0, 0, 0, 0, 0, 0, 0, 0, 0, 0, 0, 0, 0, 0, 0, 0, 0, 0, 0, 0, 0, 0, 0, 0, 0, 0, 0, 0, 0, 0, 0, 0, 0, 0, 0, 0, 0, 0, 0, 0, 0, 0, 0, 0, 0, 0, 0, 0, 0, 0, 0, 0, 0, 0, 0, 0, 0, 0, 0, 0, 0, 0, 0, 0, 0, 0, 0, 0, 0, 0, 0, 0, 0, 0, 0, 0, 0, 0, 0, 0, 0, 0, 0, 0, 0, 0, 0, 0, 0, 0, 0, 0, 0, 0, 0, 0, 0, 0, 0, 0, 0, 0, 0, 0, 0, 0, 0, 0, 0, 0, 0, 0, 0, 0, 0, 0, 0, 0, 0, 0, 0, 0, 0, 0, 0, 0, 0, 0, 0, 0, 0, 0, 0, 0, 0, 0, 0, 0, 0, 0, 0, 0, 0, 0, 0, 0, 0, 0, 0, 0, 0, 0, 0, 0, 0, 0, 0, 0, 0, 0, 0, 0, 0, 0, 0, 0, 0, 0, 0, 0, 0, 0, 0, 0, 0, 0, 0, 0, 0, 0, 0, 0, 0, 0, 0, 0, 0, 0, 0, 0, 0, 0, 0, 0, 0, 0, 0, 0, 0, 0, 0, 0, 0, 0, 0, 0, 0, 0, 0, 0, 0, 0, 0, 0, 0, 0, 0, 0, 0, 0, 0, 0, 0, 0, 0, 0, 0, 0, 0, 0, 0, 0, 0, 0, 0, 0, 0, 0, 0, 0, 0, 0, 0, 0, 0, 0, 0, 0, 0, 0, 0, 0, 0, 0, 0, 0, 0, 0, 0, 0, 0, 0, 0, 0, 0, 0, 0, 0, 0, 0, 0, 0, 0, 0, 0, 0, 0, 0, 0, 0, 0, 0, 0, 0, 0, 0, 0, 0, 0, 0, 0, 0, 0, 0, 0, 0, 0, 0, 0, 0, 0, 0, 0, 0, 0, 0, 0, 0, 0, 0, 0, 0, 0, 0, 0, 0, 0, 0, 0, 0, 0, 0, 0, 0, 0, 0, 0, 0, 0, 0, 0, 0, 0, 0, 0, 0, 0, 0, 0, 0, 0, 0, 0, 0, 0, 0, 0, 0, 0, 0, 0, 0, 0, 0, 0, 0, 0, 0, 0, 0, 0, 0, 0, 0, 0, 0, 0, 0, 0, 0, 0, 0, 0, 0, 0, 0, 0, 0, 0, 0, 0, 0, 0, 0, 0, 0, 0, 0, 0, 0, 0, 0, 0, 0, 0, 0, 0, 0, 0, 0, 0, 0, 0, 0, 0, 0, 0, 0, 0, 0, 0, 0, 0, 0, 0, 0, 0, 0, 0, 0, 0, 0, 0, 0, 0, 0, 0, 0, 0, 0, 0, 0, 0, 0, 0, 0, 0, 0, 0, 0, 0, 0, 0, 0, 0, 0, 0, 0, 0, 0, 0, 0, 0, 0, 0, 0, 0, 0, 0, 0, 0, 0, 0, 0, 0, 0, 0, 0, 0, 0, 0, 0, 0, 0, 0, 0, 0, 0, 0, 0, 0, 0, 0, 0, 0, 0, 0, 0, 0, 0, 0, 0, 0, 0, 0, 0, 0, 0, 0, 0, 0, 0, 0, 0, 0, 0, 0, 0, 0, 0, 0, 0, 0, 0, 0, 0, 0, 0, 0, 0, 0, 0, 0, 0, 0, 0, 0, 0, 0, 0, 0, 0, 0, 0, 0, 0, 0, 0, 0, 0, 0, 0, 0, 0, 0, 0, 0, 0, 0, 0, 0, 0, 0, 0, 0, 0, 0, 0, 0, 0, 0, 0, 0, 0, 0, 0, 0, 0, 0, 0, 0, 0, 0, 0, 0, 0, 0, 0, 0, 0, 0, 0, 0, 0, 0, 0, 0, 0, 0, 0, 0, 0, 0, 0, 0, 0, 0, 0, 0, 0, 0, 0, 0, 0, 0, 0, 0, 0, 0, 0, 0, 0, 0, 0, 0, 0, 0, 0, 0, 0, 0, 0, 0, 0, 0, 0, 0, 0, 0, 0, 0, 0, 0, 0, 0, 0, 0, 0, 0, 0, 1, 0, 0, 0, 0, 0, 0, 0, 0, 0, 0, 0, 0, 0, 0, 0, 0, 0, 0, 0, 0, 0, 0, 0, 0, 0, 0, 0, 0, 0, 0, 0, 0, 0, 0, 0, 0, 0, 0, 0, 0, 0, 0, 0, 0, 0, 0, 0, 0, 0, 0, 0, 0, 0, 0, 0, 0, 0, 0, 0, 0, 0, 0, 0, 0, 0, 0, 0, 0, 0, 0, 0, 0, 0, 0, 0, 0, 0, 0, 0, 0, 0, 0, 0, 0, 0, 0, 0, 0, 0, 0, 0, 0, 0, 0, 0, 0, 0, 0, 0, 0, 0, 0, 0, 0, 0, 0, 0, 0, 0, 0, 0, 0, 0, 0, 0, 0, 0, 0, 0, 0, 0, 0, 0, 0, 0, 0, 0, 0, 0, 0, 0, 0, 0, 0, 0, 0, 0, 0, 0, 0, 0, 0, 0, 0, 0, 0, 0, 0, 0, 0, 0, 0, 0, 0, 0, 0, 0, 0, 0, 0, 0, 0, 0, 0, 0, 0, 0, 0, 0, 0, 0, 0, 0, 0, 0, 0, 0, 0, 0, 0, 0, 0, 0, 0, 0, 0, 0, 0, 0, 0, 0, 0, 0, 0, 0, 0, 0, 0, 0, 0, 0, 0, 0, 0, 0, 0, 0, 0, 0, 0, 0, 0, 0, 0, 0, 0, 0, 0, 0, 0, 0, 0, 0, 0, 0, 0, 0, 0, 0, 0, 0, 0, 0, 0, 0, 0, 0, 0, 0, 0, 0, 0, 0, 0, 0, 0, 0, 0, 0, 0, 0, 0, 0, 0, 0, 0, 0, 0, 0, 0, 0, 0, 0, 0, 0, 0, 0, 0, 0, 0, 0, 0, 0, 0, 0, 0, 0, 0, 0, 0, 0, 0, 0, 0, 0, 0, 0, 0, 0, 0, 0, 0, 0, 0, 0, 0, 0, 0, 0, 0, 0, 0, 0, 0, 0, 0, 0, 0, 0, 0, 0, 0, 0, 0, 0, 0, 0, 0, 0, 0, 0, 0, 0, 0, 0, 0, 0, 0, 0, 0, 0, 0, 0, 0, 0, 0, 0, 0, 0, 0, 0, 0, 0, 0, 0, 0, 0, 0, 0, 0, 0, 0, 0, 0, 0, 0, 0, 0, 0, 0, 0, 0, 0, 0, 0, 0, 0, 0, 0, 0, 0, 0, 0, 0, 0, 0, 0, 0, 0, 0, 0, 0, 0, 0, 0, 0, 0, 0, 0, 0, 0, 0, 0, 0, 0, 0, 0, 0, 0, 0, 0, 0, 0, 0, 0, 0, 0, 0, 0, 0, 0, 0, 0, 0, 0, 0, 0, 0, 0, 0, 0, 0, 0, 0, 0, 0, 0, 0, 0, 0, 0, 0, 0, 0, 0, 0, 0, 0, 0, 0, 0, 0, 0, 0, 0, 0, 0, 0, 0, 0, 0, 0, 0, 0, 0, 0, 0, 0, 0, 0, 0, 0, 0, 0, 0, 0, 0, 0, 0, 0, 0, 0, 0, 0, 0, 0, 0, 0, 0, 0, 0, 0, 0, 0, 0, 0, 0, 0, 0, 0, 0, 0, 0, 0, 0, 0, 0, 0, 0, 0, 0, 0, 0, 0, 0, 0, 0, 0, 0, 0, 0, 0, 0, 0, 0, 0, 0, 0, 0, 0, 0, 0, 0, 0, 0, 0, 0, 0, 0, 0, 0, 0, 0, 0, 0, 0, 0, 0, 0, 0, 0, 0, 0, 0, 0, 0, 0, 0, 0, 0, 0, 0, 0, 0, 0, 0, 0, 0, 0, 0, 0, 0, 0, 0, 0, 0, 0, 0, 0, 0, 0, 0, 0, 0, 0, 0, 0, 0, 0, 0, 0, 0, 0, 0, 0, 0, 0, 0, 0, 0, 0, 0, 0, 0, 0, 0, 0, 0, 0, 0, 0, 0, 0, 0, 0, 0, 0, 0, 0, 0, 0, 0, 0, 0, 0, 0, 0, 0, 0, 0, 0, 0, 0, 0, 0, 0, 0, 0, 0, 0, 0, 0, 0, 0, 0, 0, 0, 0, 0, 0, 0, 0, 0, 0, 0, 0, 0, 0, 0, 0, 0, 0, 0, 0, 0, 0, 0, 0, 0, 0, 0, 0, 0, 0, 0, 0, 0, 0, 0, 0, 0, 0, 0, 0, 0, 0, 0, 0, 0, 0, 0, 0, 0, 0, 0, 0, 0, 0, 0, 0, 0, 0, 0, 0, 0, 0, 0, 0, 0, 0, 0, 0, 0, 0, 0, 0, 0, 0, 0, 0, 0, 0, 0, 0, 0, 0, 0, 0, 0, 0, 0, 0, 0, 0, 0, 0, 0, 0, 0, 0, 0, 0, 0, 0, 0, 0, 0, 0, 0, 0, 0, 0, 0, 0, 0, 0, 0, 0, 0, 0, 0, 0, 0, 0, 0, 0, 0, 0, 0, 0, 0, 0, 0, 0, 0, 0, 0, 0, 0, 0, 0, 0, 0, 0, 0, 0, 0, 0, 0, 0, 0, 0, 0, 0, 0, 0, 0, 0, 0, 0, 0, 0, 0, 0, 0, 0, 0, 0, 0, 0, 0, 0, 0, 0, 0, 0, 0, 0, 0, 0, 0, 0, 0, 0, 0, 0, 0, 0, 0, 0, 0, 0, 0, 0, 0, 0, 0, 0, 0, 0, 0, 0, 0, 0, 0, 0, 0, 0, 0, 0, 0, 0, 0, 0, 0, 0, 0, 0, 0, 0, 0, 0, 0, 0, 0, 0, 0, 0, 0, 0, 0, 0, 0, 0, 0, 0, 0, 0, 0, 0, 0, 0, 0, 0, 0, 0, 0, 0, 0, 0, 0, 0, 0, 0, 0, 0, 0, 0, 0, 0, 0, 0, 0, 0, 0, 0, 0, 0, 0, 0, 0, 0, 0, 0, 0, 0, 0, 0, 0, 0, 0, 0, 0, 0, 0, 0, 0, 0, 0, 0, 0, 0, 0, 0, 0, 0, 0, 0, 0, 0, 0, 0, 0, 0, 0, 0, 0, 0, 0, 0, 0, 0, 0, 0, 0, 0, 0, 0, 0, 0, 0, 0, 0, 0, 0, 0, 0, 0, 0, 0, 0, 0, 0, 0, 0, 0, 0, 0, 0, 0, 0, 0, 0, 0, 0, 0, 0, 0, 0, 0, 0, 0, 0, 0, 0, 0, 0, 0, 0, 0, 0, 0, 0, 0, 0, 0, 0, 0, 0, 0, 0, 0, 0, 0, 0, 0, 0, 0, 0, 0, 0, 0, 0, 0, 0, 0, 0, 0, 0, 0, 0, 0, 0, 0, 0, 0, 0, 0, 0, 0, 0, 0, 0, 0, 0, 0, 0, 0, 0, 0, 0, 0, 0, 0, 0, 0, 0, 0, 0, 0, 0, 0, 0, 0, 0, 0, 0, 0, 0, 0, 0, 0, 0, 0, 0, 0, 0, 0, 0, 0, 0, 0, 0, 0, 0, 0, 0, 0, 0, 0, 0, 0, 0, 0, 0, 0, 0, 0, 0, 0, 0, 0, 0, 0, 0, 0, 0, 0, 0, 0, 0, 0, 0, 0, 0, 0, 0, 0, 0, 0, 0, 0, 0, 0, 0, 0, 0, 0, 0, 0, 0, 0, 0, 0, 0, 0, 0, 0, 0, 0, 0, 0, 0, 0, 0, 0, 0, 0, 0, 0, 0, 0, 0, 0, 0, 0, 0, 0, 0, 0, 0, 0, 0, 0, 0, 0, 0, 0, 0, 0, 0, 0, 0, 0, 0, 0, 0, 0, 0, 0, 0, 0, 0, 0, 0, 0, 0, 0, 0, 0, 0, 0, 0, 0, 0, 0, 0, 0, 0, 0, 0, 0, 0, 0, 0, 0, 0, 0, 0, 0, 0, 0, 0, 0, 0, 0, 0, 0, 0, 0, 0, 0, 0, 0, 0, 0, 0, 0, 0, 0, 0, 0, 0, 0, 0, 0, 0, 0, 0, 0, 0, 0, 0, 0, 0, 0, 0, 0, 0, 0, 0, 0, 0, 0, 0, 0, 0, 0, 0, 0, 0, 0, 0, 0, 0, 0, 0, 0, 0, 0, 0, 0, 0, 0, 0, 0, 0, 0, 0, 0, 0, 0, 0, 0, 0, 0, 0, 0, 0, 0, 0, 0, 0, 0, 0, 0, 0, 0, 0, 0, 0, 0, 0, 0, 0, 0, 0, 0, 0, 0, 0, 0, 0, 0, 0, 0, 0, 0, 0, 0, 0, 0, 0, 0, 0, 0, 0, 0, 0, 0, 0, 0, 0, 0, 0, 0, 0, 0, 0, 0, 0, 0, 0, 0, 0, 0, 0, 0, 0, 0, 0, 0, 0, 0, 0, 0, 0, 0, 0, 0, 0, 0, 0, 0, 0, 0, 0, 0, 0, 0, 0, 0, 0, 0, 0, 0, 0, 0, 0, 0, 0, 0, 0, 0, 0, 0, 0, 0, 0, 0, 0, 0, 0, 0, 0, 0, 0, 0, 0, 0, 0, 0, 0, 0, 0, 0, 0, 0, 0, 0, 0, 0, 0, 0, 0, 0, 0, 0, 0, 0, 0, 0, 0, 0, 0, 0, 0, 0, 0, 0, 0, 0, 0, 0, 0, 0, 0, 0, 0, 0, 0, 0, 0, 0, 0, 0, 0, 0, 0, 0, 0, 0, 0, 0, 0, 0, 0, 0, 0, 0, 0, 0, 0, 0, 0, 0, 0, 0, 0, 0, 0, 0, 0, 0, 0, 0, 0, 0, 0, 0, 0, 0, 0, 0, 0, 0, 0, 0, 0, 0, 0, 0, 0, 0, 0, 0, 0, 0, 0, 0, 0, 0, 0, 0, 0, 0, 0, 0, 0, 0, 0, 0, 0, 0, 0, 0, 0, 0, 0, 0, 0, 0, 0, 0, 0, 0, 0, 0, 0, 0, 0, 0, 0, 0, 0, 0, 0, 0, 0, 0, 0, 0, 0, 0, 0, 0, 0, 0, 0, 0, 0, 0, 0, 0, 0, 0, 0, 0, 0, 0, 0, 0, 0, 0, 0, 0, 0, 0, 0, 0, 0, 0, 0, 0, 0, 0, 0, 0, 0, 0, 0, 0, 0, 0, 0, 0, 0, 0, 0, 0, 0, 0, 0, 0, 0, 0, 0, 0, 0, 0, 0, 0, 0, 0, 0, 0, 0, 0, 0, 0, 0, 0, 0, 0, 0, 0, 0, 0, 0, 0, 0, 0, 0, 0, 0, 0, 0, 0, 0, 0, 0, 0, 0, 0, 0, 0, 0, 0, 0, 0, 0, 0, 0, 0, 0, 0, 0, 0, 0, 0, 0, 0, 0, 0, 0, 0, 0, 0, 0, 0, 0, 0, 0, 0, 0, 0, 0, 0, 0, 0, 0, 0, 0, 0, 0, 0, 0, 0, 0, 0, 0, 0, 0, 0, 0, 0, 0, 0, 0, 0, 0, 0, 0, 0, 0, 0, 0, 0, 0, 0, 0, 0, 0, 0, 0, 0, 0, 0, 0, 0, 0, 0, 0, 0, 0, 0, 0, 0, 0, 0, 0, 0, 0, 0, 0, 0, 0, 0, 0, 0, 0, 0, 0, 0, 0, 0, 0, 0, 0, 0, 0, 0, 0, 0, 0, 0, 0, 0, 0, 0, 0, 0, 0, 0, 0, 0, 0, 0, 0, 0, 0, 0, 0, 0, 0, 0, 0, 0, 0, 0, 0, 0, 0, 0, 0, 0, 0, 0, 0, 0, 0, 0, 0, 0, 0, 0, 0, 0, 0, 0, 0, 0, 0, 0, 0, 0, 0, 0, 0, 0, 0, 0, 0, 0, 0, 0, 0, 0, 0, 0, 0, 0, 0, 0, 0, 0, 0, 0, 0, 0, 0, 0, 0, 0, 0, 0, 0, 0, 0, 0, 0, 0, 0, 0, 0, 0, 0, 0, 0, 0, 0, 0, 0, 0, 0, 0, 0, 0, 0, 0, 0, 0, 0, 0, 0, 0, 0, 0, 0, 0, 0, 0, 0, 0, 0, 0, 0, 0, 0, 0, 0, 0, 0, 0, 0, 0, 0, 0, 0, 0, 0, 0, 0, 0, 0, 0, 0, 0, 0, 0, 0, 0, 0, 0, 0, 0, 0, 0, 0, 0, 0, 0, 0, 0, 0, 0, 0, 0, 0, 0, 0, 0, 0, 0, 0, 0, 0, 0, 0, 0, 0, 0, 0, 0, 0, 0, 0, 0, 0, 0, 0, 0, 0, 0, 0, 0, 0, 0, 0, 0, 0, 0, 0, 0, 0, 0, 0, 0, 0, 0, 0, 0, 0, 0, 0, 0, 0, 0, 0, 0, 0, 0, 0, 0, 0, 0, 0, 0, 0, 0, 0, 0, 0, 0, 0, 0, 0, 0, 0, 0, 0, 0, 0, 0, 0, 0, 0, 0, 0, 0, 0, 0, 0, 0, 0, 0, 0, 0, 0, 0, 0, 0, 0, 0, 0, 0, 0, 0, 0, 0, 0, 0, 0, 0, 0, 0, 0, 0, 0, 0, 0, 0, 0, 0, 0, 0, 0, 0, 0, 0, 0, 0, 0, 0, 0, 0, 0, 0, 0, 0, 0, 0, 0, 0, 0, 0, 0, 0, 0, 0, 0, 0, 0, 0, 0, 0, 0, 0, 0, 0, 0, 0, 0, 0, 0, 0, 0, 0, 0, 0, 0, 0, 0, 0, 0, 0, 0, 0, 0, 0, 0, 0, 0, 0, 0, 0, 0, 0, 0, 0, 0, 0, 0, 0, 0, 0, 0, 0, 0, 0, 0, 0, 0, 0, 0, 0, 0, 0, 0, 0, 0, 0, 0, 0, 0, 0, 0, 0, 0, 0, 0, 0, 0, 0, 0, 0, 0, 0, 0, 0, 0, 0, 0, 0, 0, 0, 0, 0, 0, 0, 0, 0, 0, 0, 0, 0, 0, 0, 0, 0, 0, 0, 0, 0, 0, 0, 0, 0, 0, 0, 0, 0, 0, 0, 0, 0, 0, 0, 0, 0, 0, 0, 0, 0, 0, 0, 0, 0, 0, 0, 0, 0, 0, 0, 0, 0, 0, 0, 0, 0, 0, 0, 0, 0, 0, 0, 0, 0, 0, 0, 0, 0, 0, 0, 0, 0, 0, 0, 0, 0, 0, 0, 0, 0, 0, 0, 0, 0, 0, 0, 0, 0, 0, 0, 0, 0, 0, 0, 0, 0, 0, 0, 0, 0, 0, 0, 0, 0, 0, 0, 0, 0, 0, 0, 0, 0, 0, 0, 0, 0, 0, 0, 0, 0, 0, 0, 0, 0, 0, 0, 0, 0, 0, 0, 0, 0, 0, 0, 0, 0, 0, 0, 0, 0, 0, 0, 0, 0, 0, 0, 0, 0, 0, 0, 0, 0, 0, 0, 0, 0, 0, 0, 0, 0, 0, 0, 0, 0, 0, 0, 0, 0, 0, 0, 0, 0, 0, 0, 0, 0, 0, 0, 0, 0, 0, 0, 0, 0, 0, 0, 0, 0, 0, 0, 0, 0, 0, 0, 0, 0, 0, 0, 0, 0, 0, 0, 0, 0, 0, 0, 0, 0, 0, 0, 0, 0, 0, 0, 0, 0, 0, 0, 0, 0, 0, 0, 0, 0, 0, 0, 0, 0, 0, 0, 0, 0, 0, 0, 0, 0, 0, 0, 0, 0, 0, 0, 0, 0, 0, 0, 0, 0, 0, 0, 0, 0, 0, 0, 0, 0, 0, 0, 0, 0, 0], u'description_v_adj': u'black', u'description_normalized': u'woman walking street past doorway woman walking past doorway sidewalk woman talking cell phone checks watch woman talks cell phone checks watch walking sidewalk woman wearing blue phone walking along sidewalk front building black planters sides entrance', u'description_n': u'woman street doorway. woman doorway sidewalk woman cell phone watch. woman cell phone watch sidewalk. woman blue phone walking sidewalk front building entrance.', u'id': 0}\n"
     ]
    }
   ],
   "source": [
    "\"\"\"\n",
    "Use tags overlap to re-rank.\n",
    "\n",
    "- test_derscription_feature_map ['description_n_cleaned']\n",
    "- count image tags total apperances / ['description_n_cleaned'] length in above set. \n",
    "- add to dist matrix, then sorting.\n",
    "\"\"\"\n",
    "# print test_derscription_feature_map[0]\n",
    "for t in test_derscription_feature_map:\n",
    "    words = t[\"description_complete\"].split(\" \")\n",
    "    words = normalize(words)\n",
    "    t[\"description_all_cleaned\"] = words\n",
    "\n",
    "print test_derscription_feature_map[0]"
   ]
  },
  {
   "cell_type": "code",
   "execution_count": 164,
   "metadata": {},
   "outputs": [
    {
     "name": "stderr",
     "output_type": "stream",
     "text": [
      "\n",
      "0it [00:00, ?it/s]\u001b[A\n",
      "11it [00:00, 104.72it/s]\u001b[A\n",
      "22it [00:00, 105.24it/s]\u001b[A\n",
      "30it [00:00, 95.32it/s] \u001b[A\n",
      "39it [00:00, 91.48it/s]\u001b[A\n",
      "49it [00:00, 92.53it/s]\u001b[A\n",
      "59it [00:00, 94.06it/s]\u001b[A\n",
      "69it [00:00, 95.17it/s]\u001b[A\n",
      "80it [00:00, 98.47it/s]\u001b[A\n",
      "91it [00:00, 100.27it/s]\u001b[A\n",
      "101it [00:01, 99.01it/s]\u001b[A\n",
      "111it [00:01, 97.21it/s]\u001b[A\n",
      "122it [00:01, 98.57it/s]\u001b[A\n",
      "132it [00:01, 98.65it/s]\u001b[A\n",
      "142it [00:01, 98.63it/s]\u001b[A\n",
      "152it [00:01, 97.96it/s]\u001b[A\n",
      "162it [00:01, 98.52it/s]\u001b[A\n",
      "173it [00:01, 99.85it/s]\u001b[A\n",
      "184it [00:01, 100.28it/s]\u001b[A\n",
      "195it [00:01, 100.67it/s]\u001b[A\n",
      "206it [00:02, 101.68it/s]\u001b[A\n",
      "217it [00:02, 101.95it/s]\u001b[A\n",
      "228it [00:02, 101.78it/s]\u001b[A\n",
      "239it [00:02, 101.26it/s]\u001b[A\n",
      "250it [00:02, 102.31it/s]\u001b[A\n",
      "261it [00:02, 102.36it/s]\u001b[A\n",
      "272it [00:02, 102.97it/s]\u001b[A\n",
      "283it [00:02, 103.65it/s]\u001b[A\n",
      "294it [00:02, 103.73it/s]\u001b[A\n",
      "305it [00:03, 102.45it/s]\u001b[A\n",
      "316it [00:03, 102.37it/s]\u001b[A\n",
      "327it [00:03, 98.97it/s] \u001b[A\n",
      "337it [00:03, 97.16it/s]\u001b[A\n",
      "347it [00:03, 93.98it/s]\u001b[A\n",
      "357it [00:03, 95.41it/s]\u001b[A\n",
      "367it [00:03, 95.91it/s]\u001b[A\n",
      "377it [00:03, 94.10it/s]\u001b[A\n",
      "388it [00:03, 96.70it/s]\u001b[A\n",
      "398it [00:04, 96.22it/s]\u001b[A\n",
      "408it [00:04, 94.69it/s]\u001b[A\n",
      "419it [00:04, 97.14it/s]\u001b[A\n",
      "429it [00:04, 97.90it/s]\u001b[A\n",
      "439it [00:04, 96.36it/s]\u001b[A\n",
      "449it [00:04, 94.34it/s]\u001b[A\n",
      "459it [00:04, 93.88it/s]\u001b[A\n",
      "469it [00:04, 94.10it/s]\u001b[A\n",
      "480it [00:04, 96.89it/s]\u001b[A\n",
      "491it [00:04, 99.27it/s]\u001b[A\n",
      "501it [00:05, 99.37it/s]\u001b[A\n",
      "511it [00:05, 99.11it/s]\u001b[A\n",
      "521it [00:05, 98.06it/s]\u001b[A\n",
      "531it [00:05, 96.04it/s]\u001b[A\n",
      "541it [00:05, 95.61it/s]\u001b[A\n",
      "551it [00:05, 93.18it/s]\u001b[A\n",
      "561it [00:05, 91.02it/s]\u001b[A\n",
      "571it [00:05, 89.83it/s]\u001b[A\n",
      "581it [00:05, 90.59it/s]\u001b[A\n",
      "591it [00:06, 90.96it/s]\u001b[A\n",
      "601it [00:06, 91.54it/s]\u001b[A\n",
      "611it [00:06, 92.87it/s]\u001b[A\n",
      "621it [00:06, 93.43it/s]\u001b[A\n",
      "631it [00:06, 92.83it/s]\u001b[A\n",
      "641it [00:06, 89.75it/s]\u001b[A\n",
      "651it [00:06, 88.98it/s]\u001b[A\n",
      "660it [00:06, 89.12it/s]\u001b[A\n",
      "669it [00:06, 87.62it/s]\u001b[A\n",
      "678it [00:07, 86.95it/s]\u001b[A\n",
      "687it [00:07, 86.85it/s]\u001b[A\n",
      "696it [00:07, 87.56it/s]\u001b[A\n",
      "706it [00:07, 90.90it/s]\u001b[A\n",
      "716it [00:07, 92.75it/s]\u001b[A\n",
      "727it [00:07, 96.05it/s]\u001b[A\n",
      "737it [00:07, 96.61it/s]\u001b[A\n",
      "748it [00:07, 97.97it/s]\u001b[A\n",
      "758it [00:07, 97.05it/s]\u001b[A\n",
      "768it [00:07, 95.91it/s]\u001b[A\n",
      "778it [00:08, 96.33it/s]\u001b[A\n",
      "788it [00:08, 96.95it/s]\u001b[A\n",
      "799it [00:08, 100.35it/s]\u001b[A\n",
      "810it [00:08, 101.52it/s]\u001b[A\n",
      "821it [00:08, 99.30it/s] \u001b[A\n",
      "831it [00:08, 98.77it/s]\u001b[A\n",
      "841it [00:08, 99.09it/s]\u001b[A\n",
      "851it [00:08, 98.38it/s]\u001b[A\n",
      "861it [00:08, 98.44it/s]\u001b[A\n",
      "872it [00:09, 99.51it/s]\u001b[A\n",
      "882it [00:09, 96.46it/s]\u001b[A\n",
      "892it [00:09, 96.03it/s]\u001b[A\n",
      "902it [00:09, 96.90it/s]\u001b[A\n",
      "912it [00:09, 92.77it/s]\u001b[A\n",
      "922it [00:09, 89.24it/s]\u001b[A\n",
      "931it [00:09, 86.70it/s]\u001b[A\n",
      "940it [00:09, 84.60it/s]\u001b[A\n",
      "949it [00:09, 85.33it/s]\u001b[A\n",
      "958it [00:10, 84.96it/s]\u001b[A\n",
      "967it [00:10, 85.76it/s]\u001b[A\n",
      "977it [00:10, 87.08it/s]\u001b[A\n",
      "986it [00:10, 82.39it/s]\u001b[A\n",
      "995it [00:10, 81.11it/s]\u001b[A\n",
      "1004it [00:10, 82.32it/s]\u001b[A\n",
      "1013it [00:10, 81.43it/s]\u001b[A\n",
      "1022it [00:10, 82.77it/s]\u001b[A\n",
      "1031it [00:10, 82.14it/s]\u001b[A\n",
      "1040it [00:11, 83.27it/s]\u001b[A\n",
      "1049it [00:11, 82.76it/s]\u001b[A\n",
      "1058it [00:11, 80.41it/s]\u001b[A\n",
      "1068it [00:11, 83.40it/s]\u001b[A\n",
      "1078it [00:11, 85.47it/s]\u001b[A\n",
      "1087it [00:11, 85.26it/s]\u001b[A\n",
      "1097it [00:11, 88.20it/s]\u001b[A\n",
      "1107it [00:11, 88.73it/s]\u001b[A\n",
      "1118it [00:11, 93.39it/s]\u001b[A\n",
      "1128it [00:11, 94.89it/s]\u001b[A\n",
      "1139it [00:12, 98.40it/s]\u001b[A\n",
      "1149it [00:12, 97.63it/s]\u001b[A\n",
      "1159it [00:12, 95.26it/s]\u001b[A\n",
      "1169it [00:12, 95.69it/s]\u001b[A\n",
      "1181it [00:12, 100.52it/s]\u001b[A\n",
      "1193it [00:12, 103.14it/s]\u001b[A\n",
      "1205it [00:12, 106.22it/s]\u001b[A\n",
      "1216it [00:12, 104.25it/s]\u001b[A\n",
      "1227it [00:12, 98.59it/s] \u001b[A\n",
      "1237it [00:13, 94.11it/s]\u001b[A\n",
      "1247it [00:13, 92.53it/s]\u001b[A\n",
      "1257it [00:13, 91.33it/s]\u001b[A\n",
      "1267it [00:13, 92.82it/s]\u001b[A\n",
      "1277it [00:13, 88.21it/s]\u001b[A\n",
      "1287it [00:13, 90.93it/s]\u001b[A\n",
      "1298it [00:13, 94.62it/s]\u001b[A\n",
      "1309it [00:13, 96.28it/s]\u001b[A\n",
      "1319it [00:13, 97.17it/s]\u001b[A\n",
      "1331it [00:14, 102.06it/s]\u001b[A\n",
      "1342it [00:14, 97.75it/s] \u001b[A\n",
      "1352it [00:14, 95.91it/s]\u001b[A\n",
      "1362it [00:14, 95.98it/s]\u001b[A\n",
      "1372it [00:14, 96.84it/s]\u001b[A\n",
      "1382it [00:14, 93.85it/s]\u001b[A\n",
      "1392it [00:14, 93.56it/s]\u001b[A\n",
      "1402it [00:14, 93.27it/s]\u001b[A\n",
      "1412it [00:14, 95.18it/s]\u001b[A\n",
      "1422it [00:15, 95.39it/s]\u001b[A\n",
      "1433it [00:15, 97.13it/s]\u001b[A\n",
      "1443it [00:15, 97.01it/s]\u001b[A\n",
      "1453it [00:15, 95.89it/s]\u001b[A\n",
      "1463it [00:15, 95.74it/s]\u001b[A\n",
      "1473it [00:15, 94.68it/s]\u001b[A\n",
      "1483it [00:15, 93.05it/s]\u001b[A\n",
      "1493it [00:15, 94.95it/s]\u001b[A\n",
      "1504it [00:15, 97.08it/s]\u001b[A\n",
      "1515it [00:15, 99.28it/s]\u001b[A\n",
      "1526it [00:16, 100.98it/s]\u001b[A\n",
      "1537it [00:16, 102.17it/s]\u001b[A\n",
      "1548it [00:16, 101.13it/s]\u001b[A\n",
      "1559it [00:16, 99.51it/s] \u001b[A\n",
      "1569it [00:16, 95.65it/s]\u001b[A\n",
      "1579it [00:16, 93.99it/s]\u001b[A\n",
      "1590it [00:16, 96.62it/s]\u001b[A\n",
      "1601it [00:16, 98.69it/s]\u001b[A\n",
      "1612it [00:16, 100.62it/s]\u001b[A\n",
      "1623it [00:17, 103.14it/s]\u001b[A\n",
      "1634it [00:17, 101.11it/s]\u001b[A\n",
      "1645it [00:17, 98.39it/s] \u001b[A\n",
      "1655it [00:17, 93.55it/s]\u001b[A\n",
      "1665it [00:17, 91.57it/s]\u001b[A\n",
      "1676it [00:17, 94.23it/s]\u001b[A\n",
      "1686it [00:17, 95.03it/s]\u001b[A\n",
      "1697it [00:17, 97.18it/s]\u001b[A\n",
      "1708it [00:17, 99.19it/s]\u001b[A\n",
      "1718it [00:18, 99.26it/s]\u001b[A\n",
      "1728it [00:18, 98.94it/s]\u001b[A\n",
      "1738it [00:18, 97.75it/s]\u001b[A\n",
      "1748it [00:18, 95.69it/s]\u001b[A\n",
      "1758it [00:18, 95.10it/s]\u001b[A\n",
      "1768it [00:18, 92.68it/s]\u001b[A\n",
      "1778it [00:18, 90.58it/s]\u001b[A\n",
      "1788it [00:18, 92.62it/s]\u001b[A\n",
      "1800it [00:18, 97.32it/s]\u001b[A\n",
      "1811it [00:19, 100.29it/s]\u001b[A\n",
      "1823it [00:19, 104.35it/s]\u001b[A\n",
      "1834it [00:19, 103.77it/s]\u001b[A\n",
      "1845it [00:19, 100.32it/s]\u001b[A\n",
      "1856it [00:19, 99.59it/s] \u001b[A\n",
      "1867it [00:19, 98.44it/s]\u001b[A\n",
      "1877it [00:19, 93.22it/s]\u001b[A\n",
      "1887it [00:19, 94.24it/s]\u001b[A\n",
      "1897it [00:19, 94.13it/s]\u001b[A\n",
      "1907it [00:20, 92.41it/s]\u001b[A\n",
      "1917it [00:20, 92.93it/s]\u001b[A\n",
      "1927it [00:20, 92.77it/s]\u001b[A\n",
      "1937it [00:20, 92.29it/s]\u001b[A\n",
      "1947it [00:20, 88.55it/s]\u001b[A\n",
      "1957it [00:20, 89.78it/s]\u001b[A\n",
      "1968it [00:20, 93.76it/s]\u001b[A\n",
      "1979it [00:20, 95.53it/s]\u001b[A\n",
      "1989it [00:20, 94.93it/s]\u001b[A\n",
      "1999it [00:21, 93.94it/s]\u001b[A\n",
      "2000it [00:21, 95.15it/s]\u001b[A"
     ]
    }
   ],
   "source": [
    "from tqdm import tqdm\n",
    "\n",
    "test_img_tags = pickle.load(open(\"./features/12_1_test_img_tags.pkl\", \"rb\"))\n",
    "\n",
    "new_dist = np.zeros(dist.shape)\n",
    "\n",
    "def description_map_to_tags(words):\n",
    "    \"\"\"\n",
    "    A set of rules to map certain descriptions nouns into tags wordding.\n",
    "    such as:\n",
    "    \"man\", \"guy\", \"woman\" => \"person\"\n",
    "    \"\"\"\n",
    "    new_words = set()\n",
    "#     for w in words:\n",
    "#         if w == \"man\" or w == \"woman\" or w == \"guy\":\n",
    "#             new_words.add(\"person\")\n",
    "#         else:\n",
    "#             new_words.add(w)\n",
    "    for w in words:\n",
    "        new_words.add(w)\n",
    "    return list(new_words)\n",
    "\n",
    "test_img_caption_cleaned_set = []\n",
    "for img_id, obj in enumerate(test_img_captions):\n",
    "    obj[\"caption_cleaned\"] = normalize(test_img_captions[img_id][\"caption\"].split(\" \"))\n",
    "    test_img_caption_cleaned_set.append(obj)\n",
    "\n",
    "for d_id, description_row in tqdm(enumerate(dist)):\n",
    "    description_cleaned = test_derscription_feature_map[d_id][\"description_all_cleaned\"]\n",
    "    description_cleaned = description_map_to_tags(description_cleaned) # hand-crafted map book.\n",
    "    test_derscription_feature_map[d_id][\"description_all_cleaned\"] = description_cleaned\n",
    "    sorted_ids = np.argsort(description_row)\n",
    "    for i_id, img_id in enumerate(sorted_ids):\n",
    "        img_tags = test_img_tags[img_id][\"tags\"]\n",
    "        caption_cleaned = test_img_caption_cleaned_set[img_id][\"caption_cleaned\"]\n",
    "        tag_count_in_description = 0\n",
    "        for tag in caption_cleaned:\n",
    "            tag_count_in_description += description_cleaned.count(tag)\n",
    "        this_img_score = float(tag_count_in_description) / len(description_cleaned)\n",
    "        new_dist[d_id][i_id] = dist[d_id][i_id] -  this_img_score # re-rank dist matrix by adding tag overlap information."
   ]
  },
  {
   "cell_type": "code",
   "execution_count": 165,
   "metadata": {},
   "outputs": [
    {
     "name": "stdout",
     "output_type": "stream",
     "text": [
      "[1.11061263 0.94336359 0.9853039  ... 1.08531465 0.93662826 1.05280569]\n",
      "[ 570  549  899  712 1886 1371 1700  770 1795  614]\n",
      "after re-ranking...\n",
      "[0.74748233 0.58023329 0.62217361 ... 1.08531465 0.93662826 1.05280569]\n",
      "[549 101   5 624 222  95 689 412 146 408]\n"
     ]
    }
   ],
   "source": [
    "test_id = 9\n",
    "\n",
    "print dist[test_id]\n",
    "print np.argsort(dist)[test_id][:10]\n",
    "print(\"after re-ranking...\")\n",
    "print new_dist[test_id]\n",
    "print np.argsort(new_dist)[test_id][:10]"
   ]
  },
  {
   "cell_type": "code",
   "execution_count": 90,
   "metadata": {},
   "outputs": [],
   "source": [
    "test_img_captions = pickle.load(open(\"./features/12_1_test_image_caption.pkl\", \"rb\"))"
   ]
  },
  {
   "cell_type": "code",
   "execution_count": 158,
   "metadata": {},
   "outputs": [
    {
     "name": "stdout",
     "output_type": "stream",
     "text": [
      "test img tags: ['zebra']\n",
      "test img origin caption: {'caption_cleaned': [u'group', u'zebra', u'stand', u'top', u'lush', u'green', u'field'], u'caption': u'a group of zebra standing on top of a lush green field .', u'name': u'689.jpg'}\n",
      "test img caption - cleaned [u'group', u'zebra', u'stand', u'top', u'lush', u'green', u'field']\n",
      "\n",
      "\n",
      "test img description - cleaned: [u'exhibit', u'lawn', u'toward', u'grassy', u'show', u'pose', u'wildlife', u'young', u'next', u'stand', u'man', u'build', u'guy', u'grass', u'gesture', u'zebra']\n",
      "\n",
      "\n",
      "overlap score for simple tag: 0.0625\n",
      "overlap score for caption tag: 0.333449253322\n"
     ]
    }
   ],
   "source": [
    "\"\"\"\n",
    "This section experiments on fine tune on tags.\n",
    "\"\"\"\n",
    "img_id = 689\n",
    "description_id = 7\n",
    "\n",
    "print \"test img tags:\", test_img_tags[img_id][\"tags\"]\n",
    "print \"test img origin caption:\", test_img_captions[img_id]\n",
    "test_img_caption_cleaned_set = normalize(test_img_captions[img_id][\"caption\"].split(\" \"))\n",
    "print \"test img caption - cleaned\", test_img_caption_cleaned_set\n",
    "print \"\\n\"\n",
    "# print \"test img description:\", test_derscription_feature_map[description_id][\"description_all_cleaned\"]\n",
    "\n",
    "test_img_description_cleaned_set = description_map_to_tags(test_derscription_feature_map[description_id][\"description_all_cleaned\"])\n",
    "print \"test img description - cleaned:\", test_img_description_cleaned_set\n",
    "print \"\\n\"\n",
    "\n",
    "tfidf_values = dict(tfidf_model[dictionary.doc2bow(test_derscription_feature_map[description_id][\"description_all_cleaned\"])])\n",
    "\n",
    "# score for common tags:\n",
    "this_img_apperance_in_description = 0\n",
    "for tag in test_img_tags[img_id][\"tags\"]:\n",
    "    this_img_apperance_in_description += test_img_description_cleaned_set.count(tag)\n",
    "this_img_score = float(this_img_apperance_in_description) / len(test_img_description_cleaned_set)\n",
    "print \"overlap score for simple tag:\", this_img_score\n",
    "\n",
    "# score for caption tags:\n",
    "this_img_apperance_in_description = 0\n",
    "for tag in test_img_caption_cleaned_set:\n",
    "    if tag in test_img_description_cleaned_set:\n",
    "        w = tfidf_values[dictionary.token2id[tag]] \n",
    "        this_img_apperance_in_description += w\n",
    "#     this_img_apperance_in_description += test_img_description_cleaned_set.count(tag)\n",
    "this_img_score = float(this_img_apperance_in_description) / len(test_img_caption_cleaned_set)\n",
    "print \"overlap score for caption tag:\", this_img_score"
   ]
  },
  {
   "cell_type": "code",
   "execution_count": 76,
   "metadata": {},
   "outputs": [
    {
     "name": "stdout",
     "output_type": "stream",
     "text": [
      "Writing Complete.\n"
     ]
    }
   ],
   "source": [
    "new_sorted_id = np.argsort(new_dist)\n",
    "with open('./submission/submission_plsr_600_pool5_to_bow_all_pca_1024+rerank_by_tag_overlap.csv', 'w') as csvfile:\n",
    "    # write csv header\n",
    "    fieldnames = ['Descritpion_ID', \"Top_20_Image_IDs\"]\n",
    "    writer = csv.DictWriter(csvfile, fieldnames=fieldnames)\n",
    "    writer.writeheader()\n",
    "\n",
    "    for i, row in enumerate(new_sorted_id):\n",
    "        top_choices =  list(map(lambda x: str(x) + \".jpg\", row[:20]))\n",
    "        res = {}\n",
    "        res['Descritpion_ID'] = str(i) + \".txt\" # file name\n",
    "        res['Top_20_Image_IDs'] = \" \".join(top_choices)\n",
    "        writer.writerow(res)\n",
    "\n",
    "print(\"Writing Complete.\")"
   ]
  },
  {
   "cell_type": "code",
   "execution_count": 48,
   "metadata": {},
   "outputs": [
    {
     "name": "stdout",
     "output_type": "stream",
     "text": [
      "{'tags': ['bed', 'backpack', 'suitcase', 'tie'], 'name': '0.txt', 'id': 0}\n"
     ]
    }
   ],
   "source": [
    "# import os\n",
    "# test_img_tags = []\n",
    "# test_image_tag_base = \"./../../all/data/tags_test/\"\n",
    "# for file in os.listdir(test_image_tag_base):\n",
    "#     if file.endswith(\".txt\"):\n",
    "#         obj = {}\n",
    "#         obj[\"name\"] = file\n",
    "#         index = file.split(\".\")[0]\n",
    "#         obj[\"id\"] = int(index)\n",
    "#         file_name = test_image_tag_base + file\n",
    "#         with open(file_name) as f:\n",
    "#             content = f.readlines()\n",
    "#             content = [x.strip().split(\":\")[1].split(\" \") for x in content]\n",
    "#             content = [item for sublist in content for item in sublist]\n",
    "#         obj[\"tags\"] = content\n",
    "#         test_img_tags.append(obj)\n",
    "# test_img_tags = sorted(test_img_tags, key=lambda x:x[\"id\"])\n",
    "# pickle.dump(test_img_tags, open(\"./features/12_1_test_img_tags.pkl\", 'wb'), protocol=2)\n",
    "# print test_img_tags[0]"
   ]
  },
  {
   "cell_type": "code",
   "execution_count": 89,
   "metadata": {},
   "outputs": [],
   "source": [
    "\n",
    "# test_img_captions = sorted(test_img_captions, key=lambda x: int(x[\"name\"].split(\".\")[0]))\n",
    "# pickle.dump(test_img_captions, open(\"./features/12_1_test_image_caption.pkl\", 'wb'), protocol=2)"
   ]
  },
  {
   "cell_type": "code",
   "execution_count": null,
   "metadata": {},
   "outputs": [],
   "source": []
  }
 ],
 "metadata": {
  "kernelspec": {
   "display_name": "Python 2",
   "language": "python",
   "name": "python2"
  },
  "language_info": {
   "codemirror_mode": {
    "name": "ipython",
    "version": 2
   },
   "file_extension": ".py",
   "mimetype": "text/x-python",
   "name": "python",
   "nbconvert_exporter": "python",
   "pygments_lexer": "ipython2",
   "version": "2.7.15"
  }
 },
 "nbformat": 4,
 "nbformat_minor": 2
}
