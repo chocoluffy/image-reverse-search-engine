{
 "cells": [
  {
   "cell_type": "code",
   "execution_count": 1,
   "metadata": {},
   "outputs": [],
   "source": [
    "import pickle\n",
    "import numpy as np\n",
    "from sklearn.decomposition import PCA\n",
    "import pandas as pd\n",
    "from sklearn.cross_decomposition import PLSRegression\n",
    "import os.path\n",
    "\n",
    "\"\"\"\n",
    "Training data.\n",
    "\"\"\"\n",
    "train_img_map = pickle.load(open('./features/12_1_train_img_feature_map_py27.pkl', 'rb'))\n",
    "test_img_map = pickle.load(open('./features/12_1_test_img_feature_map_py27.pkl', 'rb'))\n",
    "\n",
    "train_pool5_img = np.asarray(list(map(lambda x: x[\"POOL_vector\"], train_img_map)))\n",
    "test_pool5_img = np.asarray(list(map(lambda x: x[\"POOL_vector\"], test_img_map)))\n",
    "\n",
    "\"\"\"\n",
    "Output.\n",
    "\"\"\"\n",
    "train_description_feature_map = pickle.load(open('./features/11_30_[train]_description_normalized_only_>1_vector_py27.pkl', 'rb'))\n",
    "test_derscription_feature_map = pickle.load(open('./features/11_30_[test]_description_normalized_only_>1_vector_py27.pkl', 'rb'))\n",
    "\n",
    "train_bow_lst = list(map(lambda x: x[\"BOW_all_normalized_vector\"], train_description_feature_map))\n",
    "test_bow_lst = list(map(lambda x: x[\"BOW_all_normalized_vector\"], test_derscription_feature_map))\n",
    "\n",
    "\"\"\"\n",
    "Predict:\n",
    "pool5 -> bow_all\n",
    "\"\"\"\n",
    "pred = pickle.load(open('./models/mlp_pool5_to_bow_all_pca_512.pkl', 'rb'))"
   ]
  },
  {
   "cell_type": "code",
   "execution_count": 3,
   "metadata": {},
   "outputs": [
    {
     "name": "stdout",
     "output_type": "stream",
     "text": [
      "('description * images dist matrix, shape:', (2000, 2000))\n",
      "Writing Complete.\n"
     ]
    }
   ],
   "source": [
    "from scipy.spatial.distance import cdist\n",
    "import csv\n",
    "\n",
    "\n",
    "dist = cdist(test_bow_lst, pred, 'cosine')\n",
    "print(\"description * images dist matrix, shape:\", dist.shape)\n",
    "sorted_id = np.argsort(dist) # dist: N_description * N_images dist matrix.\n",
    "\n",
    "with open('./submission/submission_NN_pool5_to_bow_all_5816.csv', 'w') as csvfile:\n",
    "        # write csv header\n",
    "        fieldnames = ['Descritpion_ID', \"Top_20_Image_IDs\"]\n",
    "        writer = csv.DictWriter(csvfile, fieldnames=fieldnames)\n",
    "        writer.writeheader()\n",
    "        \n",
    "        for i, row in enumerate(sorted_id):\n",
    "            top_choices =  list(map(lambda x: str(x) + \".jpg\", row[:20]))\n",
    "            res = {}\n",
    "            res['Descritpion_ID'] = str(i) + \".txt\" # file name\n",
    "            res['Top_20_Image_IDs'] = \" \".join(top_choices)\n",
    "            writer.writerow(res)\n",
    "\n",
    "print(\"Writing Complete.\")"
   ]
  },
  {
   "cell_type": "code",
   "execution_count": null,
   "metadata": {},
   "outputs": [],
   "source": []
  }
 ],
 "metadata": {
  "kernelspec": {
   "display_name": "Python 2",
   "language": "python",
   "name": "python2"
  },
  "language_info": {
   "codemirror_mode": {
    "name": "ipython",
    "version": 2
   },
   "file_extension": ".py",
   "mimetype": "text/x-python",
   "name": "python",
   "nbconvert_exporter": "python",
   "pygments_lexer": "ipython2",
   "version": "2.7.15"
  }
 },
 "nbformat": 4,
 "nbformat_minor": 2
}
