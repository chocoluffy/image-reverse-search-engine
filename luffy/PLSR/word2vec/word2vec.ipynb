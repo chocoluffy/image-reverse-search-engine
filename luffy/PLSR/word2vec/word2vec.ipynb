{
 "cells": [
  {
   "cell_type": "code",
   "execution_count": null,
   "metadata": {},
   "outputs": [],
   "source": [
    "\"\"\"\n",
    "Map each description to vector using word2vec.\n",
    "\"\"\"\n",
    "\n",
    "import os\n",
    "import csv\n",
    "import random\n",
    "import gensim\n",
    "import numpy as np\n",
    "\n",
    "word2vec = gensim.models.KeyedVectors.load_word2vec_format(\"GoogleNews-vectors-negative300.bin.gz\", binary=True)\n",
    "print(\"Loaded word vectors successfully!\")\n",
    "\n",
    "def doc_to_vec(words, word2vec):\n",
    "    # get list of word vectors in sentence\n",
    "    word_vecs = [word2vec.get_vector(w) for w in words if w in word2vec.vocab]\n",
    "    # return average\n",
    "    return np.stack(word_vecs).mean(0)"
   ]
  },
  {
   "cell_type": "code",
   "execution_count": 18,
   "metadata": {},
   "outputs": [
    {
     "name": "stdout",
     "output_type": "stream",
     "text": [
      "loaded description map...\n"
     ]
    }
   ],
   "source": [
    "import pickle\n",
    "import os.path\n",
    "from sklearn.decomposition import PCA\n",
    "\n",
    "train_description_feature_map = pickle.load(open('./../features/12_4_[train]_description_feature_map_py27.pkl', 'rb'))\n",
    "test_derscription_feature_map = pickle.load(open('./../features/12_4_[test]_description_feature_map_py27.pkl', 'rb'))\n",
    "print \"loaded description map...\""
   ]
  },
  {
   "cell_type": "code",
   "execution_count": 3,
   "metadata": {},
   "outputs": [
    {
     "name": "stdout",
     "output_type": "stream",
     "text": [
      "loaded description map...\n",
      "loaded img feature map...\n"
     ]
    }
   ],
   "source": [
    "train_img_map = pickle.load(open('./../features/12_1_train_img_feature_map_py27.pkl', 'rb'))\n",
    "test_img_map = pickle.load(open('./../features/12_1_test_img_feature_map_py27.pkl', 'rb'))\n",
    "print \"loaded img feature map...\"\n",
    "\n",
    "train_pool5_img = np.asarray(list(map(lambda x: x[\"POOL_vector\"], train_img_map)))\n",
    "test_pool5_img = np.asarray(list(map(lambda x: x[\"POOL_vector\"], test_img_map)))"
   ]
  },
  {
   "cell_type": "code",
   "execution_count": null,
   "metadata": {},
   "outputs": [],
   "source": [
    "print test_derscription_feature_map[0]"
   ]
  },
  {
   "cell_type": "code",
   "execution_count": 22,
   "metadata": {},
   "outputs": [],
   "source": [
    "train_doc_vecs = np.asarray(list(map(lambda x: x[\"doc_vec\"], train_description_feature_map)))\n",
    "test_doc_vecs = np.asarray(list(map(lambda x: x[\"doc_vec\"], test_derscription_feature_map)))"
   ]
  },
  {
   "cell_type": "code",
   "execution_count": 20,
   "metadata": {},
   "outputs": [
    {
     "name": "stdout",
     "output_type": "stream",
     "text": [
      "model loaded...\n"
     ]
    },
    {
     "name": "stderr",
     "output_type": "stream",
     "text": [
      "/anaconda2/envs/py27/lib/python2.7/site-packages/sklearn/base.py:251: UserWarning: Trying to unpickle estimator PLSRegression from version 0.19.1 when using version 0.20.1. This might lead to breaking code or invalid results. Use at your own risk.\n",
      "  UserWarning)\n"
     ]
    }
   ],
   "source": [
    "\"\"\"\n",
    "PLSR\n",
    "\"\"\"\n",
    "from sklearn.cross_decomposition import PLSRegression\n",
    "model_name = \"./../models/pls_800_pool5_to_word2vec_n_v_adj_300.pkl\"\n",
    "if os.path.exists(model_name):\n",
    "    model = pickle.load(open(model_name, 'rb'))\n",
    "else:\n",
    "    # train PLSR.\n",
    "    model = PLSRegression(n_components=800)\n",
    "    model.fit(train_pool5_img, train_doc_vecs)\n",
    "    pickle.dump(model, open(model_name, 'wb'), protocol=2)\n",
    "print \"model loaded...\""
   ]
  },
  {
   "cell_type": "code",
   "execution_count": 24,
   "metadata": {},
   "outputs": [
    {
     "name": "stdout",
     "output_type": "stream",
     "text": [
      "('description * images dist matrix, shape:', (2000, 2000))\n",
      "Writing Complete.\n"
     ]
    }
   ],
   "source": [
    "from scipy.spatial.distance import cdist\n",
    "import csv\n",
    "\n",
    "pred_test_pool5 = model.predict(test_pool5_img)\n",
    "dist = cdist(test_doc_vecs, pred_test_pool5, 'cosine') # CHANGE!!\n",
    "\n",
    "\n",
    "print(\"description * images dist matrix, shape:\", dist.shape)\n",
    "sorted_id = np.argsort(dist) # dist: N_description * N_images dist matrix.\n",
    "\n",
    "with open('./../submission/submission_plsr_800_pool5_to_word2vec_n_v_ajd_300.csv', 'w') as csvfile:\n",
    "        # write csv header\n",
    "        fieldnames = ['Descritpion_ID', \"Top_20_Image_IDs\"]\n",
    "        writer = csv.DictWriter(csvfile, fieldnames=fieldnames)\n",
    "        writer.writeheader()\n",
    "        \n",
    "        for i, row in enumerate(sorted_id):\n",
    "            top_choices =  list(map(lambda x: str(x) + \".jpg\", row[:20]))\n",
    "            res = {}\n",
    "            res['Descritpion_ID'] = str(i) + \".txt\" # file name\n",
    "            res['Top_20_Image_IDs'] = \" \".join(top_choices)\n",
    "            writer.writerow(res)\n",
    "\n",
    "print(\"Writing Complete.\")"
   ]
  },
  {
   "cell_type": "code",
   "execution_count": null,
   "metadata": {},
   "outputs": [],
   "source": []
  }
 ],
 "metadata": {
  "kernelspec": {
   "display_name": "Python 2",
   "language": "python",
   "name": "python2"
  },
  "language_info": {
   "codemirror_mode": {
    "name": "ipython",
    "version": 2
   },
   "file_extension": ".py",
   "mimetype": "text/x-python",
   "name": "python",
   "nbconvert_exporter": "python",
   "pygments_lexer": "ipython2",
   "version": "2.7.15"
  }
 },
 "nbformat": 4,
 "nbformat_minor": 2
}
