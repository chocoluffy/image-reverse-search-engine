{
 "cells": [
  {
   "cell_type": "code",
   "execution_count": null,
   "metadata": {},
   "outputs": [],
   "source": [
    "import pickle\n",
    "import numpy as np\n",
    "import pandas as pd\n",
    "\n",
    "import os.path\n",
    "import xgboost as xgb\n",
    "\n",
    "\"\"\"\n",
    "BOW_all use PCA.\n",
    "\"\"\"\n",
    "train_description_feature_map = pickle.load(open('./features/11_30_[train]_description_normalized_only_>1_vector_py27.pkl', 'rb'))\n",
    "test_derscription_feature_map = pickle.load(open('./features/11_30_[test]_description_normalized_only_>1_vector_py27.pkl', 'rb'))\n",
    "\n",
    "train_bow_lst = np.asarray(list(map(lambda x: x[\"BOW_all_normalized_vector\"], train_description_feature_map)))\n",
    "test_bow_lst = np.asarray(list(map(lambda x: x[\"BOW_all_normalized_vector\"], test_derscription_feature_map)))\n",
    "\n",
    "print \"Loaded description data...\"\n",
    "\n",
    "\n",
    "\"\"\"\n",
    "Training data.\n",
    "\"\"\"\n",
    "train_img_map = pickle.load(open('./features/12_1_train_img_feature_map_py27.pkl', 'rb'))\n",
    "test_img_map = pickle.load(open('./features/12_1_test_img_feature_map_py27.pkl', 'rb'))\n",
    "\n",
    "train_pool5_img = np.asarray(list(map(lambda x: x[\"POOL_vector\"], train_img_map)))\n",
    "test_pool5_img = np.asarray(list(map(lambda x: x[\"POOL_vector\"], test_img_map)))\n",
    "print \"Loaded image data...\""
   ]
  },
  {
   "cell_type": "code",
   "execution_count": 10,
   "metadata": {},
   "outputs": [
    {
     "name": "stdout",
     "output_type": "stream",
     "text": [
      "Model loaded...\n"
     ]
    }
   ],
   "source": [
    "\"\"\"\n",
    "XGBoost\n",
    "\"\"\"\n",
    "dtrain = xgb.DMatrix(train_pool5_img, train_bow_lst)\n",
    "dtest = xgb.DMatrix(test_pool5_img, test_bow_lst)\n",
    "\n",
    "xgb_params = {\n",
    "    'n_trees': 520, \n",
    "    'eta': 0.0045,\n",
    "    'max_depth': 4,\n",
    "    'subsample': 0.93,\n",
    "    'objective': 'reg:linear',\n",
    "    'eval_metric': 'rmse',\n",
    "    'silent': 1\n",
    "}\n",
    "\n",
    "num_boost_rounds = 1250\n",
    "# train model\n",
    "# model = xgb.train(dict(xgb_params, silent=0), dtrain, num_boost_round=num_boost_rounds)\n",
    "# model.save_model('./models/xgboost_trees_520_depth_4')\n",
    "\n",
    "model = xgb.Booster({'nthread': 4})  # init model\n",
    "# model.load_model('./models/xgboost_trees_520_depth_4')  # load data\n",
    "print \"Model loaded...\"\n",
    "\n",
    "preds = model.predict(dtest)"
   ]
  },
  {
   "cell_type": "code",
   "execution_count": 13,
   "metadata": {},
   "outputs": [
    {
     "name": "stdout",
     "output_type": "stream",
     "text": [
      "[0.5 0.5 0.5 ... 0.5 0.5 0.5]\n"
     ]
    }
   ],
   "source": [
    "print preds"
   ]
  },
  {
   "cell_type": "code",
   "execution_count": null,
   "metadata": {},
   "outputs": [],
   "source": [
    "from scipy.spatial.distance import cdist\n",
    "import csv\n",
    "\n",
    "dist = cdist(test_bow_lst, preds, 'cosine')\n",
    "print(\"description * images dist matrix, shape:\", dist.shape)\n",
    "sorted_id = np.argsort(dist) # dist: N_description * N_images dist matrix.\n",
    "\n",
    "with open('./xgboost_520_4_pool5_to_bow_all.csv', 'w') as csvfile:\n",
    "        # write csv header\n",
    "        fieldnames = ['Descritpion_ID', \"Top_20_Image_IDs\"]\n",
    "        writer = csv.DictWriter(csvfile, fieldnames=fieldnames)\n",
    "        writer.writeheader()\n",
    "        \n",
    "        for i, row in enumerate(sorted_id):\n",
    "            top_choices =  list(map(lambda x: str(x) + \".jpg\", row[:20]))\n",
    "            res = {}\n",
    "            res['Descritpion_ID'] = str(i) + \".txt\" # file name\n",
    "            res['Top_20_Image_IDs'] = \" \".join(top_choices)\n",
    "            writer.writerow(res)\n",
    "\n",
    "print(\"Writing Complete.\")"
   ]
  }
 ],
 "metadata": {
  "kernelspec": {
   "display_name": "Python 2",
   "language": "python",
   "name": "python2"
  },
  "language_info": {
   "codemirror_mode": {
    "name": "ipython",
    "version": 2
   },
   "file_extension": ".py",
   "mimetype": "text/x-python",
   "name": "python",
   "nbconvert_exporter": "python",
   "pygments_lexer": "ipython2",
   "version": "2.7.15"
  }
 },
 "nbformat": 4,
 "nbformat_minor": 2
}
