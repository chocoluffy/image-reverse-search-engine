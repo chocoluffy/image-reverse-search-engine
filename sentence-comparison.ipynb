{
 "cells": [
  {
   "cell_type": "code",
   "execution_count": null,
   "metadata": {},
   "outputs": [],
   "source": [
    "import tensorflow as tf\n",
    "import tensorflow_hub as hub\n",
    "import matplotlib.pyplot as plt\n",
    "import numpy as np\n",
    "import os\n",
    "import pandas as pd\n",
    "import re\n",
    "import seaborn as sns\n",
    "import pickle\n",
    "\n",
    "module_url = \"https://tfhub.dev/google/universal-sentence-encoder/2\" #@param [\"https://tfhub.dev/google/universal-sentence-encoder/2\", \"https://tfhub.dev/google/universal-sentence-encoder-large/3\"]\n",
    "embed = hub.Module(module_url)"
   ]
  },
  {
   "cell_type": "code",
   "execution_count": 12,
   "metadata": {},
   "outputs": [
    {
     "name": "stdout",
     "output_type": "stream",
     "text": [
      "(2000, 512)\n"
     ]
    }
   ],
   "source": [
    "test_image_caption = pickle.load(open('test_image_caption.pkl', 'rb'))\n",
    "\n",
    "captions = list(map(lambda x: x['caption'], test_image_caption))\n",
    "\n",
    "with tf.Session() as session:\n",
    "    session.run([tf.global_variables_initializer(), tf.tables_initializer()])\n",
    "    message_embeddings = session.run(embed(captions))\n",
    "    print(message_embeddings.shape)\n",
    "    new_test_image_vector = []\n",
    "    for i, v in enumerate(test_image_caption):\n",
    "        obj = {}\n",
    "        obj['name'] = v['name']\n",
    "        obj['caption'] = v['caption']\n",
    "        obj['vector'] = message_embeddings[i]\n",
    "        new_test_image_vector.append(obj)\n",
    "\n",
    "    with open('test_image_vector.pkl', 'wb') as f:\n",
    "        pickle.dump(new_test_image_vector, f)"
   ]
  },
  {
   "cell_type": "code",
   "execution_count": 50,
   "metadata": {},
   "outputs": [
    {
     "name": "stderr",
     "output_type": "stream",
     "text": [
      "\n",
      "  0%|          | 0/2000 [00:00<?, ?it/s]\u001b[A"
     ]
    },
    {
     "name": "stdout",
     "output_type": "stream",
     "text": [
      "A giraffe sticking its tongue out over a wooden fence.\n"
     ]
    },
    {
     "name": "stderr",
     "output_type": "stream",
     "text": [
      "\n",
      "  0%|          | 1/2000 [00:22<12:26:08, 22.40s/it]\u001b[A"
     ]
    },
    {
     "name": "stdout",
     "output_type": "stream",
     "text": [
      "(1, 2000)\n",
      "['1448.jpg', '494.jpg', '451.jpg', '478.jpg', '1193.jpg', '1368.jpg', '1826.jpg', '1302.jpg', '1703.jpg', '183.jpg', '1078.jpg', '1469.jpg', '560.jpg', '1832.jpg', '1775.jpg', '415.jpg', '932.jpg', '1534.jpg', '577.jpg', '886.jpg']\n",
      "A boy holds the guitar controller from Guitar Hero.\n"
     ]
    },
    {
     "name": "stderr",
     "output_type": "stream",
     "text": [
      "\n",
      "  0%|          | 2/2000 [00:46<12:42:31, 22.90s/it]\u001b[A"
     ]
    },
    {
     "name": "stdout",
     "output_type": "stream",
     "text": [
      "(1, 2000)\n",
      "['1384.jpg', '1577.jpg', '483.jpg', '1202.jpg', '416.jpg', '1342.jpg', '1862.jpg', '1117.jpg', '525.jpg', '1856.jpg', '808.jpg', '112.jpg', '1879.jpg', '617.jpg', '620.jpg', '155.jpg', '951.jpg', '31.jpg', '1926.jpg', '1433.jpg']\n",
      "A pair of scissors sticking into a table.\n"
     ]
    },
    {
     "name": "stderr",
     "output_type": "stream",
     "text": [
      "\n",
      "  0%|          | 3/2000 [01:13<13:18:35, 23.99s/it]\u001b[A"
     ]
    },
    {
     "name": "stdout",
     "output_type": "stream",
     "text": [
      "(1, 2000)\n",
      "['840.jpg', '867.jpg', '842.jpg', '215.jpg', '99.jpg', '1761.jpg', '1232.jpg', '1797.jpg', '1194.jpg', '641.jpg', '574.jpg', '1894.jpg', '651.jpg', '1153.jpg', '1821.jpg', '970.jpg', '991.jpg', '1565.jpg', '1781.jpg', '281.jpg']\n",
      "A freight train is running through the country.\n"
     ]
    },
    {
     "name": "stderr",
     "output_type": "stream",
     "text": [
      "\n",
      "  0%|          | 4/2000 [01:39<13:39:37, 24.64s/it]\u001b[A"
     ]
    },
    {
     "name": "stdout",
     "output_type": "stream",
     "text": [
      "(1, 2000)\n",
      "['1209.jpg', '581.jpg', '775.jpg', '283.jpg', '1789.jpg', '325.jpg', '873.jpg', '477.jpg', '327.jpg', '358.jpg', '77.jpg', '267.jpg', '323.jpg', '1048.jpg', '403.jpg', '1123.jpg', '166.jpg', '749.jpg', '1583.jpg', '248.jpg']\n",
      "People flying kites in a park on a windy day.\n"
     ]
    },
    {
     "name": "stderr",
     "output_type": "stream",
     "text": [
      "\n",
      "  0%|          | 5/2000 [02:07<14:18:15, 25.81s/it]\u001b[A"
     ]
    },
    {
     "name": "stdout",
     "output_type": "stream",
     "text": [
      "(1, 2000)\n",
      "['728.jpg', '236.jpg', '1971.jpg', '1145.jpg', '1903.jpg', '1889.jpg', '1802.jpg', '346.jpg', '1677.jpg', '1132.jpg', '172.jpg', '1630.jpg', '1088.jpg', '1614.jpg', '77.jpg', '267.jpg', '358.jpg', '989.jpg', '1210.jpg', '731.jpg']\n",
      "This is a birthday cake for someones first birthday.\n"
     ]
    },
    {
     "name": "stderr",
     "output_type": "stream",
     "text": [
      "\n",
      "  0%|          | 6/2000 [02:35<14:37:36, 26.41s/it]\u001b[A"
     ]
    },
    {
     "name": "stdout",
     "output_type": "stream",
     "text": [
      "(1, 2000)\n",
      "['1071.jpg', '185.jpg', '1935.jpg', '1529.jpg', '1204.jpg', '758.jpg', '869.jpg', '1880.jpg', '1741.jpg', '1295.jpg', '30.jpg', '1120.jpg', '1099.jpg', '895.jpg', '1597.jpg', '282.jpg', '1015.jpg', '1535.jpg', '150.jpg', '811.jpg']\n",
      "a couple of people that are looking at a cake\n"
     ]
    },
    {
     "name": "stderr",
     "output_type": "stream",
     "text": [
      "\n",
      "  0%|          | 7/2000 [03:05<15:15:52, 27.57s/it]\u001b[A"
     ]
    },
    {
     "name": "stdout",
     "output_type": "stream",
     "text": [
      "(1, 2000)\n",
      "['1337.jpg', '348.jpg', '580.jpg', '116.jpg', '601.jpg', '702.jpg', '1411.jpg', '949.jpg', '457.jpg', '265.jpg', '473.jpg', '1529.jpg', '869.jpg', '1535.jpg', '1757.jpg', '1295.jpg', '30.jpg', '1243.jpg', '1262.jpg', '1360.jpg']\n",
      "A pizza with toppings being put in the oven.\n"
     ]
    },
    {
     "name": "stderr",
     "output_type": "stream",
     "text": [
      "\n",
      "  0%|          | 8/2000 [03:36<15:49:25, 28.60s/it]\u001b[A"
     ]
    },
    {
     "name": "stdout",
     "output_type": "stream",
     "text": [
      "(1, 2000)\n",
      "['1369.jpg', '968.jpg', '482.jpg', '1192.jpg', '1141.jpg', '1820.jpg', '1158.jpg', '1959.jpg', '668.jpg', '1477.jpg', '644.jpg', '1920.jpg', '1628.jpg', '1645.jpg', '1325.jpg', '645.jpg', '1309.jpg', '286.jpg', '738.jpg', '1741.jpg']\n",
      "I am unable to see the image above.\n"
     ]
    },
    {
     "name": "stderr",
     "output_type": "stream",
     "text": [
      "\n",
      "  0%|          | 9/2000 [04:04<15:44:19, 28.46s/it]\u001b[A"
     ]
    },
    {
     "name": "stdout",
     "output_type": "stream",
     "text": [
      "(1, 2000)\n",
      "['208.jpg', '134.jpg', '1234.jpg', '1918.jpg', '63.jpg', '1897.jpg', '1412.jpg', '1133.jpg', '222.jpg', '1442.jpg', '148.jpg', '1931.jpg', '1987.jpg', '111.jpg', '1674.jpg', '1695.jpg', '1864.jpg', '1618.jpg', '781.jpg', '1343.jpg']\n",
      "A dog with a pink bow on head, leaning over a couch in livingroom.\n"
     ]
    },
    {
     "name": "stderr",
     "output_type": "stream",
     "text": [
      "\n",
      "  0%|          | 10/2000 [04:33<15:41:44, 28.39s/it]\u001b[A"
     ]
    },
    {
     "name": "stdout",
     "output_type": "stream",
     "text": [
      "(1, 2000)\n",
      "['1221.jpg', '62.jpg', '1846.jpg', '963.jpg', '1587.jpg', '1670.jpg', '1951.jpg', '1638.jpg', '1200.jpg', '612.jpg', '405.jpg', '863.jpg', '380.jpg', '295.jpg', '1728.jpg', '548.jpg', '1975.jpg', '890.jpg', '1881.jpg', '1280.jpg']\n",
      "We see a street sign with houses in the background.\n"
     ]
    },
    {
     "name": "stderr",
     "output_type": "stream",
     "text": [
      "\n",
      "  1%|          | 11/2000 [05:02<15:48:57, 28.63s/it]\u001b[A"
     ]
    },
    {
     "name": "stdout",
     "output_type": "stream",
     "text": [
      "(1, 2000)\n",
      "['860.jpg', '184.jpg', '1340.jpg', '1648.jpg', '765.jpg', '1665.jpg', '1030.jpg', '505.jpg', '607.jpg', '1208.jpg', '663.jpg', '649.jpg', '1574.jpg', '249.jpg', '838.jpg', '979.jpg', '1421.jpg', '1059.jpg', '1475.jpg', '3.jpg']\n",
      "A colorful display is set up for a school book fair.\n"
     ]
    },
    {
     "name": "stderr",
     "output_type": "stream",
     "text": [
      "\n",
      "  1%|          | 12/2000 [05:33<16:13:45, 29.39s/it]\u001b[A"
     ]
    },
    {
     "name": "stdout",
     "output_type": "stream",
     "text": [
      "(1, 2000)\n",
      "['992.jpg', '189.jpg', '763.jpg', '1898.jpg', '603.jpg', '1796.jpg', '1331.jpg', '1562.jpg', '1437.jpg', '783.jpg', '306.jpg', '697.jpg', '1440.jpg', '559.jpg', '837.jpg', '1483.jpg', '521.jpg', '1392.jpg', '830.jpg', '1702.jpg']\n",
      "Several people in a kitchen and one is standing at a sink.\n"
     ]
    },
    {
     "name": "stderr",
     "output_type": "stream",
     "text": [
      "\n",
      "  1%|          | 13/2000 [06:07<17:03:28, 30.91s/it]\u001b[A"
     ]
    },
    {
     "name": "stdout",
     "output_type": "stream",
     "text": [
      "(1, 2000)\n",
      "['86.jpg', '1478.jpg', '681.jpg', '1914.jpg', '1780.jpg', '396.jpg', '1912.jpg', '1452.jpg', '741.jpg', '732.jpg', '1360.jpg', '1262.jpg', '1243.jpg', '916.jpg', '312.jpg', '253.jpg', '1072.jpg', '329.jpg', '1663.jpg', '970.jpg']\n",
      "a train on a track near many trees\n"
     ]
    },
    {
     "name": "stderr",
     "output_type": "stream",
     "text": [
      "\n",
      "  1%|          | 14/2000 [06:44<18:02:28, 32.70s/it]\u001b[A"
     ]
    },
    {
     "name": "stdout",
     "output_type": "stream",
     "text": [
      "(1, 2000)\n",
      "['558.jpg', '1997.jpg', '955.jpg', '472.jpg', '1186.jpg', '284.jpg', '304.jpg', '477.jpg', '1884.jpg', '1397.jpg', '1947.jpg', '277.jpg', '1244.jpg', '1766.jpg', '447.jpg', '1390.jpg', '248.jpg', '1387.jpg', '1583.jpg', '720.jpg']\n",
      "An old truck in the field with three men\n"
     ]
    },
    {
     "name": "stderr",
     "output_type": "stream",
     "text": [
      "\n",
      "  1%|          | 15/2000 [07:22<18:51:56, 34.22s/it]\u001b[A"
     ]
    },
    {
     "name": "stdout",
     "output_type": "stream",
     "text": [
      "(1, 2000)\n",
      "['719.jpg', '727.jpg', '670.jpg', '1346.jpg', '1656.jpg', '989.jpg', '1995.jpg', '1557.jpg', '266.jpg', '1031.jpg', '1223.jpg', '1348.jpg', '799.jpg', '1513.jpg', '1217.jpg', '1764.jpg', '1121.jpg', '1772.jpg', '1224.jpg', '1043.jpg']\n",
      "a close up of three hot dogs with mustard\n"
     ]
    },
    {
     "name": "stderr",
     "output_type": "stream",
     "text": [
      "\n",
      "  1%|          | 16/2000 [08:09<20:59:26, 38.09s/it]\u001b[A"
     ]
    },
    {
     "name": "stdout",
     "output_type": "stream",
     "text": [
      "(1, 2000)\n",
      "['121.jpg', '12.jpg', '152.jpg', '7.jpg', '1526.jpg', '335.jpg', '1937.jpg', '1612.jpg', '1820.jpg', '1109.jpg', '1032.jpg', '1920.jpg', '205.jpg', '815.jpg', '1641.jpg', '378.jpg', '753.jpg', '1959.jpg', '482.jpg', '1369.jpg']\n",
      "A bed in the corner of a room has a puffy white comforter on it.\n"
     ]
    },
    {
     "name": "stderr",
     "output_type": "stream",
     "text": [
      "\n",
      "  1%|          | 17/2000 [08:52<21:47:53, 39.57s/it]\u001b[A"
     ]
    },
    {
     "name": "stdout",
     "output_type": "stream",
     "text": [
      "(1, 2000)\n",
      "['1659.jpg', '1079.jpg', '1869.jpg', '694.jpg', '297.jpg', '692.jpg', '1246.jpg', '1811.jpg', '819.jpg', '1563.jpg', '1537.jpg', '552.jpg', '945.jpg', '1359.jpg', '1188.jpg', '1975.jpg', '352.jpg', '931.jpg', '1229.jpg', '1506.jpg']\n",
      "A boy and a girl play soccer together on the soccer field.\n"
     ]
    },
    {
     "name": "stderr",
     "output_type": "stream",
     "text": [
      "\n",
      "  1%|          | 18/2000 [09:33<22:01:20, 40.00s/it]\u001b[A"
     ]
    },
    {
     "name": "stdout",
     "output_type": "stream",
     "text": [
      "(1, 2000)\n",
      "['744.jpg', '70.jpg', '921.jpg', '498.jpg', '964.jpg', '69.jpg', '210.jpg', '1213.jpg', '138.jpg', '1236.jpg', '1504.jpg', '1400.jpg', '1791.jpg', '52.jpg', '721.jpg', '390.jpg', '514.jpg', '1393.jpg', '1269.jpg', '1802.jpg']\n",
      "a close up of a door with two dogs in the glass of either side of the door\n"
     ]
    },
    {
     "name": "stderr",
     "output_type": "stream",
     "text": [
      "\n",
      "  1%|          | 19/2000 [10:17<22:41:39, 41.24s/it]\u001b[A"
     ]
    },
    {
     "name": "stdout",
     "output_type": "stream",
     "text": [
      "(1, 2000)\n",
      "['1827.jpg', '1560.jpg', '532.jpg', '1260.jpg', '658.jpg', '1129.jpg', '1863.jpg', '352.jpg', '1858.jpg', '1566.jpg', '329.jpg', '966.jpg', '1762.jpg', '787.jpg', '1188.jpg', '1781.jpg', '1585.jpg', '1673.jpg', '453.jpg', '1548.jpg']\n",
      "A man jumping up to catch a frisbee on  the beach.\n"
     ]
    },
    {
     "name": "stderr",
     "output_type": "stream",
     "text": [
      "\n",
      "  1%|          | 20/2000 [10:59<22:45:43, 41.39s/it]\u001b[A"
     ]
    },
    {
     "name": "stdout",
     "output_type": "stream",
     "text": [
      "(1, 2000)\n",
      "['78.jpg', '1043.jpg', '914.jpg', '1434.jpg', '1746.jpg', '880.jpg', '31.jpg', '1926.jpg', '994.jpg', '1433.jpg', '1224.jpg', '1599.jpg', '1385.jpg', '1393.jpg', '670.jpg', '1307.jpg', '929.jpg', '1798.jpg', '1098.jpg', '1152.jpg']\n",
      "A soccer game is in action as the opponent takes the ball.\n"
     ]
    },
    {
     "name": "stderr",
     "output_type": "stream",
     "text": [
      "\n",
      "  1%|          | 21/2000 [11:37<22:12:07, 40.39s/it]\u001b[A"
     ]
    },
    {
     "name": "stdout",
     "output_type": "stream",
     "text": [
      "(1, 2000)\n",
      "['70.jpg', '744.jpg', '210.jpg', '964.jpg', '1213.jpg', '69.jpg', '921.jpg', '498.jpg', '1558.jpg', '514.jpg', '1849.jpg', '999.jpg', '951.jpg', '155.jpg', '617.jpg', '620.jpg', '112.jpg', '734.jpg', '1400.jpg', '1551.jpg']\n",
      "A 6th birthday cake for a white dog being held by its owner.\n"
     ]
    },
    {
     "name": "stderr",
     "output_type": "stream",
     "text": [
      "\n",
      "  1%|          | 22/2000 [12:17<22:06:30, 40.24s/it]\u001b[A"
     ]
    },
    {
     "name": "stdout",
     "output_type": "stream",
     "text": [
      "(1, 2000)\n",
      "['7.jpg', '152.jpg', '12.jpg', '963.jpg', '532.jpg', '1892.jpg', '1428.jpg', '1071.jpg', '830.jpg', '1679.jpg', '1120.jpg', '335.jpg', '1935.jpg', '548.jpg', '562.jpg', '1221.jpg', '154.jpg', '495.jpg', '529.jpg', '1140.jpg']\n",
      "A man surfing on a body of water.\n"
     ]
    },
    {
     "name": "stderr",
     "output_type": "stream",
     "text": [
      "\n",
      "  1%|          | 23/2000 [12:56<21:56:17, 39.95s/it]\u001b[A"
     ]
    },
    {
     "name": "stdout",
     "output_type": "stream",
     "text": [
      "(1, 2000)\n",
      "['845.jpg', '203.jpg', '1357.jpg', '56.jpg', '1996.jpg', '393.jpg', '1370.jpg', '1637.jpg', '1580.jpg', '1187.jpg', '743.jpg', '207.jpg', '145.jpg', '824.jpg', '1288.jpg', '750.jpg', '275.jpg', '884.jpg', '817.jpg', '122.jpg']\n",
      "A view of motorcyclists riding their bikes through heavy city traffic.\n"
     ]
    },
    {
     "name": "stderr",
     "output_type": "stream",
     "text": [
      "\n",
      "  1%|          | 24/2000 [13:35<21:43:23, 39.58s/it]\u001b[A"
     ]
    },
    {
     "name": "stdout",
     "output_type": "stream",
     "text": [
      "(1, 2000)\n",
      "['413.jpg', '1910.jpg', '1553.jpg', '1222.jpg', '943.jpg', '717.jpg', '699.jpg', '843.jpg', '290.jpg', '749.jpg', '1788.jpg', '1818.jpg', '1500.jpg', '157.jpg', '828.jpg', '841.jpg', '1472.jpg', '683.jpg', '582.jpg', '1720.jpg']\n",
      "A clock is hanging from the ceiling at the station\n"
     ]
    },
    {
     "name": "stderr",
     "output_type": "stream",
     "text": [
      "\n",
      "  1%|▏         | 25/2000 [14:14<21:37:43, 39.42s/it]\u001b[A"
     ]
    },
    {
     "name": "stdout",
     "output_type": "stream",
     "text": [
      "(1, 2000)\n",
      "['559.jpg', '1739.jpg', '1089.jpg', '646.jpg', '1392.jpg', '1962.jpg', '901.jpg', '1483.jpg', '1027.jpg', '938.jpg', '1211.jpg', '319.jpg', '1008.jpg', '1605.jpg', '399.jpg', '1508.jpg', '1291.jpg', '398.jpg', '180.jpg', '1460.jpg']\n",
      "Christmas lights strung from the clock tower next to a tall tree.\n"
     ]
    },
    {
     "name": "stderr",
     "output_type": "stream",
     "text": [
      "\n",
      "  1%|▏         | 26/2000 [14:53<21:35:35, 39.38s/it]\u001b[A"
     ]
    },
    {
     "name": "stdout",
     "output_type": "stream",
     "text": [
      "(1, 2000)\n",
      "['1164.jpg', '992.jpg', '1306.jpg', '1027.jpg', '962.jpg', '1487.jpg', '319.jpg', '1508.jpg', '1291.jpg', '748.jpg', '180.jpg', '1008.jpg', '1211.jpg', '680.jpg', '938.jpg', '1853.jpg', '399.jpg', '1460.jpg', '1605.jpg', '398.jpg']\n",
      "The giraffe has a lot of birds on it.\n"
     ]
    },
    {
     "name": "stderr",
     "output_type": "stream",
     "text": [
      "\n",
      "  1%|▏         | 27/2000 [15:34<21:47:53, 39.77s/it]\u001b[A"
     ]
    },
    {
     "name": "stdout",
     "output_type": "stream",
     "text": [
      "(1, 2000)\n",
      "['1711.jpg', '591.jpg', '1844.jpg', '1363.jpg', '60.jpg', '1492.jpg', '1022.jpg', '1875.jpg', '836.jpg', '384.jpg', '1190.jpg', '1290.jpg', '1613.jpg', '937.jpg', '1708.jpg', '1362.jpg', '10.jpg', '54.jpg', '1130.jpg', '90.jpg']\n",
      "a surfer holding his board looking at the water\n"
     ]
    },
    {
     "name": "stderr",
     "output_type": "stream",
     "text": [
      "\n",
      "  1%|▏         | 28/2000 [16:16<22:07:15, 40.38s/it]\u001b[A"
     ]
    },
    {
     "name": "stdout",
     "output_type": "stream",
     "text": [
      "(1, 2000)\n",
      "['56.jpg', '845.jpg', '393.jpg', '1358.jpg', '441.jpg', '1637.jpg', '203.jpg', '1357.jpg', '1370.jpg', '1580.jpg', '1541.jpg', '1996.jpg', '703.jpg', '1430.jpg', '1162.jpg', '747.jpg', '642.jpg', '344.jpg', '802.jpg', '275.jpg']\n",
      "Three students pose near a bench with writing on it.\n"
     ]
    },
    {
     "name": "stderr",
     "output_type": "stream",
     "text": [
      "\n",
      "  1%|▏         | 29/2000 [17:02<23:06:54, 42.22s/it]\u001b[A"
     ]
    },
    {
     "name": "stdout",
     "output_type": "stream",
     "text": [
      "(1, 2000)\n",
      "['223.jpg', '174.jpg', '1461.jpg', '222.jpg', '340.jpg', '1479.jpg', '554.jpg', '147.jpg', '1092.jpg', '19.jpg', '1287.jpg', '639.jpg', '133.jpg', '1149.jpg', '570.jpg', '868.jpg', '1530.jpg', '1044.jpg', '1379.jpg', '1536.jpg']\n",
      "A made bed with a laptop computer on it\n"
     ]
    },
    {
     "name": "stderr",
     "output_type": "stream",
     "text": [
      "\n",
      "  2%|▏         | 30/2000 [17:52<24:22:43, 44.55s/it]\u001b[A"
     ]
    },
    {
     "name": "stdout",
     "output_type": "stream",
     "text": [
      "(1, 2000)\n",
      "['178.jpg', '816.jpg', '119.jpg', '1419.jpg', '1649.jpg', '564.jpg', '596.jpg', '27.jpg', '520.jpg', '1531.jpg', '1303.jpg', '142.jpg', '165.jpg', '293.jpg', '1293.jpg', '490.jpg', '1061.jpg', '1163.jpg', '1928.jpg', '961.jpg']\n",
      "A portion of a package of frozen broccoli\n"
     ]
    },
    {
     "name": "stderr",
     "output_type": "stream",
     "text": [
      "\n",
      "  2%|▏         | 31/2000 [18:43<25:22:38, 46.40s/it]\u001b[A"
     ]
    },
    {
     "name": "stdout",
     "output_type": "stream",
     "text": [
      "(1, 2000)\n",
      "['920.jpg', '280.jpg', '317.jpg', '1032.jpg', '1109.jpg', '1226.jpg', '1524.jpg', '1920.jpg', '1642.jpg', '1138.jpg', '205.jpg', '553.jpg', '968.jpg', '1065.jpg', '682.jpg', '1959.jpg', '1369.jpg', '185.jpg', '1820.jpg', '197.jpg']\n",
      "A large tan living room bathed in sunlight.\n"
     ]
    },
    {
     "name": "stderr",
     "output_type": "stream",
     "text": [
      "\n",
      "  2%|▏         | 32/2000 [19:32<25:49:41, 47.25s/it]\u001b[A"
     ]
    },
    {
     "name": "stdout",
     "output_type": "stream",
     "text": [
      "(1, 2000)\n",
      "['963.jpg', '1659.jpg', '234.jpg', '992.jpg', '1368.jpg', '700.jpg', '1391.jpg', '1845.jpg', '830.jpg', '693.jpg', '682.jpg', '278.jpg', '931.jpg', '917.jpg', '40.jpg', '1221.jpg', '1229.jpg', '316.jpg', '400.jpg', '35.jpg']\n",
      "a black gray and white cat a toilet sink and mirror\n"
     ]
    },
    {
     "name": "stderr",
     "output_type": "stream",
     "text": [
      "\n",
      "  2%|▏         | 33/2000 [20:20<25:57:02, 47.49s/it]\u001b[A"
     ]
    },
    {
     "name": "stdout",
     "output_type": "stream",
     "text": [
      "(1, 2000)\n",
      "['517.jpg', '276.jpg', '1863.jpg', '380.jpg', '363.jpg', '1278.jpg', '315.jpg', '1575.jpg', '35.jpg', '1578.jpg', '1978.jpg', '894.jpg', '18.jpg', '896.jpg', '4.jpg', '1977.jpg', '301.jpg', '1354.jpg', '22.jpg', '548.jpg']\n",
      "a pizza and a pizza cutter and some green pepper toppings\n"
     ]
    },
    {
     "name": "stderr",
     "output_type": "stream",
     "text": [
      "\n",
      "  2%|▏         | 34/2000 [21:08<26:02:09, 47.68s/it]\u001b[A"
     ]
    },
    {
     "name": "stdout",
     "output_type": "stream",
     "text": [
      "(1, 2000)\n",
      "['1369.jpg', '482.jpg', '1959.jpg', '1158.jpg', '644.jpg', '968.jpg', '1820.jpg', '1141.jpg', '1628.jpg', '1920.jpg', '1192.jpg', '1325.jpg', '668.jpg', '247.jpg', '1102.jpg', '1494.jpg', '1334.jpg', '149.jpg', '6.jpg', '1507.jpg']\n",
      "A cat sitting inside an open oven with a funny look on its face.\n"
     ]
    },
    {
     "name": "stderr",
     "output_type": "stream",
     "text": [
      "\n",
      "  2%|▏         | 35/2000 [21:57<26:09:40, 47.93s/it]\u001b[A"
     ]
    },
    {
     "name": "stdout",
     "output_type": "stream",
     "text": [
      "(1, 2000)\n",
      "['9.jpg', '22.jpg', '1354.jpg', '713.jpg', '1182.jpg', '1549.jpg', '622.jpg', '658.jpg', '298.jpg', '1108.jpg', '1252.jpg', '242.jpg', '1673.jpg', '1324.jpg', '1509.jpg', '919.jpg', '1257.jpg', '722.jpg', '1459.jpg', '1299.jpg']\n",
      "A sleepy black and white cat laying on a blanket.\n"
     ]
    },
    {
     "name": "stderr",
     "output_type": "stream",
     "text": [
      "\n",
      "  2%|▏         | 36/2000 [22:53<27:32:48, 50.49s/it]\u001b[A"
     ]
    },
    {
     "name": "stdout",
     "output_type": "stream",
     "text": [
      "(1, 2000)\n",
      "['548.jpg', '1221.jpg', '963.jpg', '1951.jpg', '863.jpg', '1587.jpg', '1670.jpg', '380.jpg', '4.jpg', '896.jpg', '18.jpg', '1200.jpg', '612.jpg', '35.jpg', '276.jpg', '1863.jpg', '1638.jpg', '1975.jpg', '890.jpg', '1578.jpg']\n",
      "Two women are standing under a pink umbrella.\n"
     ]
    },
    {
     "name": "stderr",
     "output_type": "stream",
     "text": [
      "\n",
      "  2%|▏         | 37/2000 [23:46<27:48:33, 51.00s/it]\u001b[A"
     ]
    },
    {
     "name": "stdout",
     "output_type": "stream",
     "text": [
      "(1, 2000)\n",
      "['1420.jpg', '1803.jpg', '353.jpg', '202.jpg', '742.jpg', '1047.jpg', '698.jpg', '541.jpg', '93.jpg', '881.jpg', '156.jpg', '1250.jpg', '1286.jpg', '1627.jpg', '1836.jpg', '647.jpg', '1131.jpg', '1992.jpg', '1410.jpg', '545.jpg']\n",
      "This is a bathroom with a tub and a sink.\n"
     ]
    },
    {
     "name": "stderr",
     "output_type": "stream",
     "text": [
      "\n",
      "  2%|▏         | 38/2000 [24:40<28:24:47, 52.13s/it]\u001b[A"
     ]
    },
    {
     "name": "stdout",
     "output_type": "stream",
     "text": [
      "(1, 2000)\n",
      "['1496.jpg', '1667.jpg', '665.jpg', '1256.jpg', '1490.jpg', '556.jpg', '278.jpg', '1019.jpg', '1356.jpg', '491.jpg', '827.jpg', '780.jpg', '291.jpg', '385.jpg', '1964.jpg', '438.jpg', '1586.jpg', '1873.jpg', '324.jpg', '1545.jpg']\n",
      "A couple of men riding skateboards down a street.\n"
     ]
    },
    {
     "name": "stderr",
     "output_type": "stream",
     "text": [
      "\n",
      "  2%|▏         | 39/2000 [25:40<29:34:19, 54.29s/it]\u001b[A"
     ]
    },
    {
     "name": "stdout",
     "output_type": "stream",
     "text": [
      "(1, 2000)\n",
      "['372.jpg', '829.jpg', '843.jpg', '614.jpg', '1594.jpg', '1991.jpg', '749.jpg', '814.jpg', '1660.jpg', '290.jpg', '1322.jpg', '1218.jpg', '1472.jpg', '943.jpg', '1296.jpg', '1429.jpg', '46.jpg', '1118.jpg', '82.jpg', '51.jpg']\n",
      "A man attempts to kite sail on a beach near the ocean.\n"
     ]
    },
    {
     "name": "stderr",
     "output_type": "stream",
     "text": [
      "\n",
      "  2%|▏         | 40/2000 [26:54<32:45:42, 60.17s/it]\u001b[A"
     ]
    },
    {
     "name": "stdout",
     "output_type": "stream",
     "text": [
      "(1, 2000)\n",
      "['703.jpg', '1430.jpg', '1063.jpg', '1152.jpg', '1345.jpg', '258.jpg', '550.jpg', '1595.jpg', '1637.jpg', '1370.jpg', '374.jpg', '275.jpg', '122.jpg', '207.jpg', '743.jpg', '817.jpg', '824.jpg', '884.jpg', '1288.jpg', '750.jpg']\n",
      "Train with yellow facing on tracks in urban setting.\n"
     ]
    },
    {
     "name": "stderr",
     "output_type": "stream",
     "text": [
      "\n",
      "  2%|▏         | 41/2000 [28:03<34:11:12, 62.82s/it]\u001b[A"
     ]
    },
    {
     "name": "stdout",
     "output_type": "stream",
     "text": [
      "(1, 2000)\n",
      "['166.jpg', '477.jpg', '403.jpg', '1048.jpg', '283.jpg', '1209.jpg', '195.jpg', '1747.jpg', '679.jpg', '775.jpg', '581.jpg', '720.jpg', '327.jpg', '325.jpg', '1425.jpg', '1583.jpg', '248.jpg', '1387.jpg', '284.jpg', '551.jpg']\n",
      "The boys were out surfing today having a good time.\n"
     ]
    },
    {
     "name": "stderr",
     "output_type": "stream",
     "text": [
      "\n",
      "  2%|▏         | 42/2000 [29:08<34:35:56, 63.61s/it]\u001b[A"
     ]
    },
    {
     "name": "stdout",
     "output_type": "stream",
     "text": [
      "(1, 2000)\n",
      "['441.jpg', '1358.jpg', '1128.jpg', '664.jpg', '1758.jpg', '112.jpg', '763.jpg', '526.jpg', '940.jpg', '127.jpg', '1426.jpg', '1292.jpg', '20.jpg', '1830.jpg', '1533.jpg', '1943.jpg', '630.jpg', '1693.jpg', '1400.jpg', '344.jpg']\n",
      "A man with a glass of wine in his hand.\n"
     ]
    },
    {
     "name": "stderr",
     "output_type": "stream",
     "text": [
      "\n",
      "  2%|▏         | 43/2000 [30:14<34:53:45, 64.19s/it]\u001b[A"
     ]
    },
    {
     "name": "stdout",
     "output_type": "stream",
     "text": [
      "(1, 2000)\n",
      "['1527.jpg', '1003.jpg', '1828.jpg', '1615.jpg', '1999.jpg', '1839.jpg', '674.jpg', '1184.jpg', '635.jpg', '1503.jpg', '342.jpg', '1017.jpg', '592.jpg', '1452.jpg', '1941.jpg', '1535.jpg', '772.jpg', '811.jpg', '1099.jpg', '1416.jpg']\n",
      "There is a window sticking out of an upper floor with an even taller steeple in the background.\n"
     ]
    },
    {
     "name": "stderr",
     "output_type": "stream",
     "text": [
      "\n",
      "  2%|▏         | 44/2000 [31:28<36:27:14, 67.09s/it]\u001b[A"
     ]
    },
    {
     "name": "stdout",
     "output_type": "stream",
     "text": [
      "(1, 2000)\n",
      "['332.jpg', '1234.jpg', '962.jpg', '1164.jpg', '901.jpg', '1739.jpg', '352.jpg', '1027.jpg', '1487.jpg', '1306.jpg', '1962.jpg', '690.jpg', '1392.jpg', '316.jpg', '646.jpg', '1089.jpg', '399.jpg', '180.jpg', '1605.jpg', '1211.jpg']\n",
      "A skateboarder flipping his board on a street.\n"
     ]
    },
    {
     "name": "stderr",
     "output_type": "stream",
     "text": [
      "\n",
      "  2%|▏         | 45/2000 [32:41<37:31:25, 69.10s/it]\u001b[A"
     ]
    },
    {
     "name": "stdout",
     "output_type": "stream",
     "text": [
      "(1, 2000)\n",
      "['1426.jpg', '526.jpg', '1943.jpg', '940.jpg', '1292.jpg', '127.jpg', '20.jpg', '630.jpg', '1830.jpg', '1693.jpg', '1533.jpg', '829.jpg', '46.jpg', '1429.jpg', '1923.jpg', '51.jpg', '1335.jpg', '82.jpg', '372.jpg', '1218.jpg']\n",
      "A group of people splashing in the water in the ocean.\n"
     ]
    },
    {
     "name": "stderr",
     "output_type": "stream",
     "text": [
      "\n",
      "  2%|▏         | 46/2000 [33:58<38:40:29, 71.25s/it]\u001b[A"
     ]
    },
    {
     "name": "stdout",
     "output_type": "stream",
     "text": [
      "(1, 2000)\n",
      "['72.jpg', '393.jpg', '770.jpg', '56.jpg', '1580.jpg', '1187.jpg', '1128.jpg', '573.jpg', '642.jpg', '344.jpg', '1637.jpg', '1620.jpg', '1552.jpg', '1430.jpg', '703.jpg', '1370.jpg', '1418.jpg', '547.jpg', '1063.jpg', '1152.jpg']\n",
      "A small child sitting in the grass with a frisbee\n"
     ]
    },
    {
     "name": "stderr",
     "output_type": "stream",
     "text": [
      "\n",
      "  2%|▏         | 47/2000 [35:14<39:25:52, 72.68s/it]\u001b[A"
     ]
    },
    {
     "name": "stdout",
     "output_type": "stream",
     "text": [
      "(1, 2000)\n",
      "['32.jpg', '1373.jpg', '1842.jpg', '1167.jpg', '954.jpg', '1877.jpg', '1599.jpg', '1921.jpg', '721.jpg', '390.jpg', '1224.jpg', '1646.jpg', '670.jpg', '987.jpg', '138.jpg', '530.jpg', '1137.jpg', '1403.jpg', '1905.jpg', '285.jpg']\n",
      "Two people holding up a large tray of doughnuts\n"
     ]
    },
    {
     "name": "stderr",
     "output_type": "stream",
     "text": [
      "\n",
      "  2%|▏         | 48/2000 [36:27<39:29:21, 72.83s/it]\u001b[A"
     ]
    },
    {
     "name": "stdout",
     "output_type": "stream",
     "text": [
      "(1, 2000)\n",
      "['1973.jpg', '757.jpg', '1669.jpg', '1054.jpg', '815.jpg', '57.jpg', '997.jpg', '504.jpg', '1316.jpg', '1822.jpg', '1911.jpg', '237.jpg', '1451.jpg', '347.jpg', '1795.jpg', '595.jpg', '1227.jpg', '1481.jpg', '1759.jpg', '1679.jpg']\n",
      "People sitting on a park bench watching cars go by.\n"
     ]
    },
    {
     "name": "stderr",
     "output_type": "stream",
     "text": [
      "\n",
      "  2%|▏         | 49/2000 [37:42<39:55:43, 73.68s/it]\u001b[A"
     ]
    },
    {
     "name": "stdout",
     "output_type": "stream",
     "text": [
      "(1, 2000)\n",
      "['73.jpg', '1547.jpg', '1865.jpg', '147.jpg', '554.jpg', '133.jpg', '1530.jpg', '1816.jpg', '1850.jpg', '1505.jpg', '969.jpg', '1197.jpg', '19.jpg', '1691.jpg', '539.jpg', '865.jpg', '1581.jpg', '29.jpg', '913.jpg', '1904.jpg']\n",
      "A man on a motor scooter waiting in a group of motor scooters.\n"
     ]
    },
    {
     "name": "stderr",
     "output_type": "stream",
     "text": [
      "\n",
      "  2%|▎         | 50/2000 [39:04<41:16:15, 76.19s/it]\u001b[A"
     ]
    },
    {
     "name": "stdout",
     "output_type": "stream",
     "text": [
      "(1, 2000)\n",
      "['1553.jpg', '1818.jpg', '1064.jpg', '1500.jpg', '843.jpg', '110.jpg', '153.jpg', '943.jpg', '676.jpg', '290.jpg', '814.jpg', '717.jpg', '1788.jpg', '1330.jpg', '192.jpg', '828.jpg', '1222.jpg', '1919.jpg', '725.jpg', '1787.jpg']\n",
      "A black and white dog sleeping in front of a door.\n"
     ]
    },
    {
     "name": "stderr",
     "output_type": "stream",
     "text": [
      "\n",
      "  3%|▎         | 51/2000 [40:25<42:00:28, 77.59s/it]\u001b[A"
     ]
    },
    {
     "name": "stdout",
     "output_type": "stream",
     "text": [
      "(1, 2000)\n",
      "['787.jpg', '672.jpg', '1827.jpg', '1129.jpg', '295.jpg', '1728.jpg', '173.jpg', '863.jpg', '407.jpg', '1670.jpg', '1587.jpg', '1260.jpg', '1638.jpg', '1846.jpg', '612.jpg', '1200.jpg', '468.jpg', '1925.jpg', '1957.jpg', '1762.jpg']\n",
      "Several windsurfers are riding the waves in the ocean.\n"
     ]
    },
    {
     "name": "stderr",
     "output_type": "stream",
     "text": [
      "\n",
      "  3%|▎         | 52/2000 [41:44<42:04:53, 77.77s/it]\u001b[A"
     ]
    },
    {
     "name": "stdout",
     "output_type": "stream",
     "text": [
      "(1, 2000)\n",
      "['1063.jpg', '258.jpg', '550.jpg', '1345.jpg', '1152.jpg', '1595.jpg', '145.jpg', '122.jpg', '743.jpg', '750.jpg', '275.jpg', '884.jpg', '817.jpg', '207.jpg', '1288.jpg', '824.jpg', '1430.jpg', '703.jpg', '1580.jpg', '1189.jpg']\n",
      "A train travelling on a street with buses and cars.\n"
     ]
    },
    {
     "name": "stderr",
     "output_type": "stream",
     "text": [
      "\n",
      "  3%|▎         | 53/2000 [43:11<43:41:30, 80.79s/it]\u001b[A"
     ]
    },
    {
     "name": "stdout",
     "output_type": "stream",
     "text": [
      "(1, 2000)\n",
      "['1666.jpg', '325.jpg', '1387.jpg', '1583.jpg', '248.jpg', '1766.jpg', '277.jpg', '1947.jpg', '1244.jpg', '1390.jpg', '447.jpg', '1567.jpg', '1048.jpg', '581.jpg', '775.jpg', '403.jpg', '1209.jpg', '477.jpg', '327.jpg', '1525.jpg']\n",
      "a bathroom with a toilet and a shower\n"
     ]
    },
    {
     "name": "stderr",
     "output_type": "stream",
     "text": [
      "\n",
      "  3%|▎         | 54/2000 [44:59<47:58:45, 88.76s/it]\u001b[A"
     ]
    },
    {
     "name": "stdout",
     "output_type": "stream",
     "text": [
      "(1, 2000)\n",
      "['1845.jpg', '1805.jpg', '1058.jpg', '1245.jpg', '671.jpg', '1148.jpg', '1899.jpg', '1019.jpg', '438.jpg', '291.jpg', '733.jpg', '1964.jpg', '318.jpg', '39.jpg', '707.jpg', '129.jpg', '1554.jpg', '1356.jpg', '578.jpg', '219.jpg']\n",
      "A laptop and a computer monitor on a desk.\n"
     ]
    },
    {
     "name": "stderr",
     "output_type": "stream",
     "text": [
      "\n",
      "  3%|▎         | 55/2000 [46:33<48:51:47, 90.44s/it]\u001b[A"
     ]
    },
    {
     "name": "stdout",
     "output_type": "stream",
     "text": [
      "(1, 2000)\n",
      "['1649.jpg', '1303.jpg', '596.jpg', '564.jpg', '520.jpg', '27.jpg', '1419.jpg', '1531.jpg', '462.jpg', '230.jpg', '1332.jpg', '178.jpg', '1687.jpg', '876.jpg', '855.jpg', '1939.jpg', '1495.jpg', '1061.jpg', '1163.jpg', '119.jpg']\n",
      "A family skiing and playing in the snow.\n"
     ]
    },
    {
     "name": "stderr",
     "output_type": "stream",
     "text": [
      "\n",
      "  3%|▎         | 56/2000 [48:09<49:39:34, 91.96s/it]\u001b[A"
     ]
    },
    {
     "name": "stdout",
     "output_type": "stream",
     "text": [
      "(1, 2000)\n",
      "['1625.jpg', '1607.jpg', '354.jpg', '1815.jpg', '402.jpg', '555.jpg', '1885.jpg', '583.jpg', '908.jpg', '897.jpg', '429.jpg', '535.jpg', '1275.jpg', '1940.jpg', '910.jpg', '1472.jpg', '977.jpg', '1265.jpg', '1855.jpg', '1944.jpg']\n",
      "Man and child on a Kawasaki motorcycle near an open garage door.\n"
     ]
    },
    {
     "name": "stderr",
     "output_type": "stream",
     "text": [
      "\n",
      "  3%|▎         | 57/2000 [49:46<50:31:56, 93.63s/it]\u001b[A"
     ]
    },
    {
     "name": "stdout",
     "output_type": "stream",
     "text": [
      "(1, 2000)\n",
      "['157.jpg', '943.jpg', '110.jpg', '153.jpg', '828.jpg', '1720.jpg', '843.jpg', '1680.jpg', '1222.jpg', '1472.jpg', '1057.jpg', '582.jpg', '1098.jpg', '691.jpg', '413.jpg', '1818.jpg', '290.jpg', '31.jpg', '1547.jpg', '15.jpg']\n",
      "An empty city roadway is lit with street lights and traffic signals.\n"
     ]
    },
    {
     "name": "stderr",
     "output_type": "stream",
     "text": [
      "\n",
      "  3%|▎         | 58/2000 [51:25<51:22:32, 95.24s/it]\u001b[A"
     ]
    },
    {
     "name": "stdout",
     "output_type": "stream",
     "text": [
      "(1, 2000)\n",
      "['1713.jpg', '117.jpg', '505.jpg', '420.jpg', '377.jpg', '1179.jpg', '1927.jpg', '864.jpg', '1896.jpg', '1664.jpg', '873.jpg', '1834.jpg', '765.jpg', '98.jpg', '1525.jpg', '539.jpg', '1183.jpg', '953.jpg', '445.jpg', '1847.jpg']\n",
      "An airplane sitting on the water next to a dock.\n"
     ]
    },
    {
     "name": "stderr",
     "output_type": "stream",
     "text": [
      "\n",
      "  3%|▎         | 59/2000 [53:31<56:22:53, 104.57s/it]\u001b[A"
     ]
    },
    {
     "name": "stdout",
     "output_type": "stream",
     "text": [
      "(1, 2000)\n",
      "['598.jpg', '662.jpg', '1930.jpg', '167.jpg', '1618.jpg', '1864.jpg', '257.jpg', '188.jpg', '802.jpg', '456.jpg', '1909.jpg', '1405.jpg', '1906.jpg', '1752.jpg', '301.jpg', '45.jpg', '148.jpg', '218.jpg', '425.jpg', '1264.jpg']\n",
      "white meat cooked with broccoli on a plate\n"
     ]
    },
    {
     "name": "stderr",
     "output_type": "stream",
     "text": [
      "\n",
      "  3%|▎         | 60/2000 [55:19<56:48:09, 105.41s/it]\u001b[A"
     ]
    },
    {
     "name": "stdout",
     "output_type": "stream",
     "text": [
      "(1, 2000)\n",
      "['1109.jpg', '1032.jpg', '920.jpg', '280.jpg', '553.jpg', '682.jpg', '1226.jpg', '317.jpg', '205.jpg', '1524.jpg', '121.jpg', '1959.jpg', '1920.jpg', '1709.jpg', '1612.jpg', '286.jpg', '1006.jpg', '753.jpg', '378.jpg', '538.jpg']\n",
      "A small plain looking bathroom that is in someone's house.\n"
     ]
    },
    {
     "name": "stderr",
     "output_type": "stream",
     "text": [
      "\n",
      "  3%|▎         | 61/2000 [57:00<56:02:21, 104.04s/it]\u001b[A"
     ]
    },
    {
     "name": "stdout",
     "output_type": "stream",
     "text": [
      "(1, 2000)\n",
      "['278.jpg', '1845.jpg', '1422.jpg', '1019.jpg', '1294.jpg', '395.jpg', '1964.jpg', '733.jpg', '1007.jpg', '578.jpg', '219.jpg', '491.jpg', '1349.jpg', '1899.jpg', '707.jpg', '1554.jpg', '1058.jpg', '438.jpg', '924.jpg', '1545.jpg']\n",
      "A black and white cow next to a wire fence.\n"
     ]
    },
    {
     "name": "stderr",
     "output_type": "stream",
     "text": [
      "\n",
      "  3%|▎         | 62/2000 [58:45<56:12:34, 104.41s/it]\u001b[A"
     ]
    },
    {
     "name": "stdout",
     "output_type": "stream",
     "text": [
      "(1, 2000)\n",
      "['1760.jpg', '427.jpg', '418.jpg', '1112.jpg', '689.jpg', '497.jpg', '756.jpg', '516.jpg', '1694.jpg', '794.jpg', '528.jpg', '1403.jpg', '898.jpg', '1305.jpg', '1877.jpg', '954.jpg', '661.jpg', '335.jpg', '1613.jpg', '1150.jpg']\n",
      "a soccer player getting ready to kick a soccer ball\n"
     ]
    },
    {
     "name": "stderr",
     "output_type": "stream",
     "text": [
      "\n",
      "  3%|▎         | 63/2000 [1:00:43<58:23:41, 108.53s/it]\u001b[A"
     ]
    },
    {
     "name": "stdout",
     "output_type": "stream",
     "text": [
      "(1, 2000)\n",
      "['514.jpg', '210.jpg', '69.jpg', '1213.jpg', '964.jpg', '744.jpg', '70.jpg', '498.jpg', '921.jpg', '89.jpg', '1379.jpg', '101.jpg', '1558.jpg', '1886.jpg', '947.jpg', '1041.jpg', '33.jpg', '1734.jpg', '1454.jpg', '74.jpg']\n",
      "A fire hydrant on a street has two rusty posts beside it.\n"
     ]
    },
    {
     "name": "stderr",
     "output_type": "stream",
     "text": [
      "\n",
      "  3%|▎         | 64/2000 [1:02:48<60:56:48, 113.33s/it]\u001b[A"
     ]
    },
    {
     "name": "stdout",
     "output_type": "stream",
     "text": [
      "(1, 2000)\n",
      "['476.jpg', '55.jpg', '561.jpg', '1648.jpg', '1340.jpg', '184.jpg', '860.jpg', '244.jpg', '1901.jpg', '113.jpg', '245.jpg', '464.jpg', '419.jpg', '310.jpg', '1786.jpg', '1982.jpg', '137.jpg', '760.jpg', '114.jpg', '1833.jpg']\n",
      "a car  some dirt a garden grass bushes and trees\n"
     ]
    },
    {
     "name": "stderr",
     "output_type": "stream",
     "text": [
      "\n",
      "  3%|▎         | 65/2000 [1:04:40<60:47:34, 113.10s/it]\u001b[A"
     ]
    },
    {
     "name": "stdout",
     "output_type": "stream",
     "text": [
      "(1, 2000)\n",
      "['585.jpg', '433.jpg', '1905.jpg', '1285.jpg', '1155.jpg', '1249.jpg', '1251.jpg', '136.jpg', '1680.jpg', '1223.jpg', '807.jpg', '528.jpg', '1121.jpg', '1764.jpg', '476.jpg', '1772.jpg', '1239.jpg', '481.jpg', '171.jpg', '640.jpg']\n",
      "A sink in a peninsula in a kitchen.\n"
     ]
    },
    {
     "name": "stderr",
     "output_type": "stream",
     "text": [
      "\n",
      "  3%|▎         | 66/2000 [1:06:35<60:58:06, 113.49s/it]\u001b[A"
     ]
    },
    {
     "name": "stdout",
     "output_type": "stream",
     "text": [
      "(1, 2000)\n",
      "['86.jpg', '396.jpg', '1912.jpg', '1780.jpg', '681.jpg', '1478.jpg', '1914.jpg', '566.jpg', '741.jpg', '1170.jpg', '301.jpg', '1548.jpg', '1770.jpg', '1375.jpg', '387.jpg', '1667.jpg', '1496.jpg', '1737.jpg', '1284.jpg', '1072.jpg']\n",
      "A woman boarding a bus in a Chinese city.\n"
     ]
    },
    {
     "name": "stderr",
     "output_type": "stream",
     "text": [
      "\n",
      "  3%|▎         | 67/2000 [1:08:35<62:01:22, 115.51s/it]\u001b[A"
     ]
    },
    {
     "name": "stdout",
     "output_type": "stream",
     "text": [
      "(1, 2000)\n",
      "['1789.jpg', '343.jpg', '1336.jpg', '982.jpg', '1013.jpg', '844.jpg', '1817.jpg', '1131.jpg', '451.jpg', '541.jpg', '302.jpg', '1834.jpg', '1525.jpg', '1286.jpg', '1803.jpg', '1896.jpg', '1179.jpg', '864.jpg', '1927.jpg', '420.jpg']\n",
      "A person walking in deep snow and an bus driving through the snow\n"
     ]
    },
    {
     "name": "stderr",
     "output_type": "stream",
     "text": [
      "\n",
      "  3%|▎         | 68/2000 [1:10:48<64:50:58, 120.84s/it]\u001b[A"
     ]
    },
    {
     "name": "stdout",
     "output_type": "stream",
     "text": [
      "(1, 2000)\n",
      "['1195.jpg', '367.jpg', '1933.jpg', '623.jpg', '1311.jpg', '1584.jpg', '1582.jpg', '1885.jpg', '555.jpg', '402.jpg', '1625.jpg', '1333.jpg', '1020.jpg', '489.jpg', '458.jpg', '648.jpg', '217.jpg', '1096.jpg', '767.jpg', '414.jpg']\n",
      "A homemade pizza with spinach and pears with a slice missing\n"
     ]
    },
    {
     "ename": "KeyboardInterrupt",
     "evalue": "",
     "output_type": "error",
     "traceback": [
      "\u001b[0;31m---------------------------------------------------------------------------\u001b[0m",
      "\u001b[0;31mKeyboardInterrupt\u001b[0m                         Traceback (most recent call last)",
      "\u001b[0;32m<ipython-input-50-62201b0b43e2>\u001b[0m in \u001b[0;36m<module>\u001b[0;34m\u001b[0m\n\u001b[1;32m     29\u001b[0m             \u001b[0;32mwith\u001b[0m \u001b[0mtf\u001b[0m\u001b[0;34m.\u001b[0m\u001b[0mSession\u001b[0m\u001b[0;34m(\u001b[0m\u001b[0;34m)\u001b[0m \u001b[0;32mas\u001b[0m \u001b[0msession\u001b[0m\u001b[0;34m:\u001b[0m\u001b[0;34m\u001b[0m\u001b[0m\n\u001b[1;32m     30\u001b[0m                 \u001b[0msession\u001b[0m\u001b[0;34m.\u001b[0m\u001b[0mrun\u001b[0m\u001b[0;34m(\u001b[0m\u001b[0;34m[\u001b[0m\u001b[0mtf\u001b[0m\u001b[0;34m.\u001b[0m\u001b[0mglobal_variables_initializer\u001b[0m\u001b[0;34m(\u001b[0m\u001b[0;34m)\u001b[0m\u001b[0;34m,\u001b[0m \u001b[0mtf\u001b[0m\u001b[0;34m.\u001b[0m\u001b[0mtables_initializer\u001b[0m\u001b[0;34m(\u001b[0m\u001b[0;34m)\u001b[0m\u001b[0;34m]\u001b[0m\u001b[0;34m)\u001b[0m\u001b[0;34m\u001b[0m\u001b[0m\n\u001b[0;32m---> 31\u001b[0;31m                 \u001b[0mmessage_embedding\u001b[0m \u001b[0;34m=\u001b[0m \u001b[0msession\u001b[0m\u001b[0;34m.\u001b[0m\u001b[0mrun\u001b[0m\u001b[0;34m(\u001b[0m\u001b[0membed\u001b[0m\u001b[0;34m(\u001b[0m\u001b[0;34m[\u001b[0m\u001b[0mcontent\u001b[0m\u001b[0;34m[\u001b[0m\u001b[0;34m-\u001b[0m\u001b[0;36m1\u001b[0m\u001b[0;34m]\u001b[0m\u001b[0;34m]\u001b[0m\u001b[0;34m)\u001b[0m\u001b[0;34m)\u001b[0m\u001b[0;34m\u001b[0m\u001b[0m\n\u001b[0m\u001b[1;32m     32\u001b[0m                 \u001b[0mdist\u001b[0m \u001b[0;34m=\u001b[0m \u001b[0mcdist\u001b[0m\u001b[0;34m(\u001b[0m\u001b[0mmessage_embedding\u001b[0m\u001b[0;34m,\u001b[0m \u001b[0mvectors\u001b[0m\u001b[0;34m,\u001b[0m \u001b[0;34m'cosine'\u001b[0m\u001b[0;34m)\u001b[0m\u001b[0;34m\u001b[0m\u001b[0m\n\u001b[1;32m     33\u001b[0m                 \u001b[0mprint\u001b[0m\u001b[0;34m(\u001b[0m\u001b[0mdist\u001b[0m\u001b[0;34m.\u001b[0m\u001b[0mshape\u001b[0m\u001b[0;34m)\u001b[0m\u001b[0;34m\u001b[0m\u001b[0m\n",
      "\u001b[0;32m/anaconda2/envs/deep-learning/lib/python3.6/site-packages/tensorflow/python/client/session.py\u001b[0m in \u001b[0;36mrun\u001b[0;34m(self, fetches, feed_dict, options, run_metadata)\u001b[0m\n\u001b[1;32m    903\u001b[0m     \u001b[0;32mtry\u001b[0m\u001b[0;34m:\u001b[0m\u001b[0;34m\u001b[0m\u001b[0m\n\u001b[1;32m    904\u001b[0m       result = self._run(None, fetches, feed_dict, options_ptr,\n\u001b[0;32m--> 905\u001b[0;31m                          run_metadata_ptr)\n\u001b[0m\u001b[1;32m    906\u001b[0m       \u001b[0;32mif\u001b[0m \u001b[0mrun_metadata\u001b[0m\u001b[0;34m:\u001b[0m\u001b[0;34m\u001b[0m\u001b[0m\n\u001b[1;32m    907\u001b[0m         \u001b[0mproto_data\u001b[0m \u001b[0;34m=\u001b[0m \u001b[0mtf_session\u001b[0m\u001b[0;34m.\u001b[0m\u001b[0mTF_GetBuffer\u001b[0m\u001b[0;34m(\u001b[0m\u001b[0mrun_metadata_ptr\u001b[0m\u001b[0;34m)\u001b[0m\u001b[0;34m\u001b[0m\u001b[0m\n",
      "\u001b[0;32m/anaconda2/envs/deep-learning/lib/python3.6/site-packages/tensorflow/python/client/session.py\u001b[0m in \u001b[0;36m_run\u001b[0;34m(self, handle, fetches, feed_dict, options, run_metadata)\u001b[0m\n\u001b[1;32m   1138\u001b[0m     \u001b[0;32mif\u001b[0m \u001b[0mfinal_fetches\u001b[0m \u001b[0;32mor\u001b[0m \u001b[0mfinal_targets\u001b[0m \u001b[0;32mor\u001b[0m \u001b[0;34m(\u001b[0m\u001b[0mhandle\u001b[0m \u001b[0;32mand\u001b[0m \u001b[0mfeed_dict_tensor\u001b[0m\u001b[0;34m)\u001b[0m\u001b[0;34m:\u001b[0m\u001b[0;34m\u001b[0m\u001b[0m\n\u001b[1;32m   1139\u001b[0m       results = self._do_run(handle, final_targets, final_fetches,\n\u001b[0;32m-> 1140\u001b[0;31m                              feed_dict_tensor, options, run_metadata)\n\u001b[0m\u001b[1;32m   1141\u001b[0m     \u001b[0;32melse\u001b[0m\u001b[0;34m:\u001b[0m\u001b[0;34m\u001b[0m\u001b[0m\n\u001b[1;32m   1142\u001b[0m       \u001b[0mresults\u001b[0m \u001b[0;34m=\u001b[0m \u001b[0;34m[\u001b[0m\u001b[0;34m]\u001b[0m\u001b[0;34m\u001b[0m\u001b[0m\n",
      "\u001b[0;32m/anaconda2/envs/deep-learning/lib/python3.6/site-packages/tensorflow/python/client/session.py\u001b[0m in \u001b[0;36m_do_run\u001b[0;34m(self, handle, target_list, fetch_list, feed_dict, options, run_metadata)\u001b[0m\n\u001b[1;32m   1319\u001b[0m     \u001b[0;32mif\u001b[0m \u001b[0mhandle\u001b[0m \u001b[0;32mis\u001b[0m \u001b[0;32mNone\u001b[0m\u001b[0;34m:\u001b[0m\u001b[0;34m\u001b[0m\u001b[0m\n\u001b[1;32m   1320\u001b[0m       return self._do_call(_run_fn, feeds, fetches, targets, options,\n\u001b[0;32m-> 1321\u001b[0;31m                            run_metadata)\n\u001b[0m\u001b[1;32m   1322\u001b[0m     \u001b[0;32melse\u001b[0m\u001b[0;34m:\u001b[0m\u001b[0;34m\u001b[0m\u001b[0m\n\u001b[1;32m   1323\u001b[0m       \u001b[0;32mreturn\u001b[0m \u001b[0mself\u001b[0m\u001b[0;34m.\u001b[0m\u001b[0m_do_call\u001b[0m\u001b[0;34m(\u001b[0m\u001b[0m_prun_fn\u001b[0m\u001b[0;34m,\u001b[0m \u001b[0mhandle\u001b[0m\u001b[0;34m,\u001b[0m \u001b[0mfeeds\u001b[0m\u001b[0;34m,\u001b[0m \u001b[0mfetches\u001b[0m\u001b[0;34m)\u001b[0m\u001b[0;34m\u001b[0m\u001b[0m\n",
      "\u001b[0;32m/anaconda2/envs/deep-learning/lib/python3.6/site-packages/tensorflow/python/client/session.py\u001b[0m in \u001b[0;36m_do_call\u001b[0;34m(self, fn, *args)\u001b[0m\n\u001b[1;32m   1325\u001b[0m   \u001b[0;32mdef\u001b[0m \u001b[0m_do_call\u001b[0m\u001b[0;34m(\u001b[0m\u001b[0mself\u001b[0m\u001b[0;34m,\u001b[0m \u001b[0mfn\u001b[0m\u001b[0;34m,\u001b[0m \u001b[0;34m*\u001b[0m\u001b[0margs\u001b[0m\u001b[0;34m)\u001b[0m\u001b[0;34m:\u001b[0m\u001b[0;34m\u001b[0m\u001b[0m\n\u001b[1;32m   1326\u001b[0m     \u001b[0;32mtry\u001b[0m\u001b[0;34m:\u001b[0m\u001b[0;34m\u001b[0m\u001b[0m\n\u001b[0;32m-> 1327\u001b[0;31m       \u001b[0;32mreturn\u001b[0m \u001b[0mfn\u001b[0m\u001b[0;34m(\u001b[0m\u001b[0;34m*\u001b[0m\u001b[0margs\u001b[0m\u001b[0;34m)\u001b[0m\u001b[0;34m\u001b[0m\u001b[0m\n\u001b[0m\u001b[1;32m   1328\u001b[0m     \u001b[0;32mexcept\u001b[0m \u001b[0merrors\u001b[0m\u001b[0;34m.\u001b[0m\u001b[0mOpError\u001b[0m \u001b[0;32mas\u001b[0m \u001b[0me\u001b[0m\u001b[0;34m:\u001b[0m\u001b[0;34m\u001b[0m\u001b[0m\n\u001b[1;32m   1329\u001b[0m       \u001b[0mmessage\u001b[0m \u001b[0;34m=\u001b[0m \u001b[0mcompat\u001b[0m\u001b[0;34m.\u001b[0m\u001b[0mas_text\u001b[0m\u001b[0;34m(\u001b[0m\u001b[0me\u001b[0m\u001b[0;34m.\u001b[0m\u001b[0mmessage\u001b[0m\u001b[0;34m)\u001b[0m\u001b[0;34m\u001b[0m\u001b[0m\n",
      "\u001b[0;32m/anaconda2/envs/deep-learning/lib/python3.6/site-packages/tensorflow/python/client/session.py\u001b[0m in \u001b[0;36m_run_fn\u001b[0;34m(feed_dict, fetch_list, target_list, options, run_metadata)\u001b[0m\n\u001b[1;32m   1308\u001b[0m     \u001b[0;32mdef\u001b[0m \u001b[0m_run_fn\u001b[0m\u001b[0;34m(\u001b[0m\u001b[0mfeed_dict\u001b[0m\u001b[0;34m,\u001b[0m \u001b[0mfetch_list\u001b[0m\u001b[0;34m,\u001b[0m \u001b[0mtarget_list\u001b[0m\u001b[0;34m,\u001b[0m \u001b[0moptions\u001b[0m\u001b[0;34m,\u001b[0m \u001b[0mrun_metadata\u001b[0m\u001b[0;34m)\u001b[0m\u001b[0;34m:\u001b[0m\u001b[0;34m\u001b[0m\u001b[0m\n\u001b[1;32m   1309\u001b[0m       \u001b[0;31m# Ensure any changes to the graph are reflected in the runtime.\u001b[0m\u001b[0;34m\u001b[0m\u001b[0;34m\u001b[0m\u001b[0m\n\u001b[0;32m-> 1310\u001b[0;31m       \u001b[0mself\u001b[0m\u001b[0;34m.\u001b[0m\u001b[0m_extend_graph\u001b[0m\u001b[0;34m(\u001b[0m\u001b[0;34m)\u001b[0m\u001b[0;34m\u001b[0m\u001b[0m\n\u001b[0m\u001b[1;32m   1311\u001b[0m       return self._call_tf_sessionrun(\n\u001b[1;32m   1312\u001b[0m           options, feed_dict, fetch_list, target_list, run_metadata)\n",
      "\u001b[0;32m/anaconda2/envs/deep-learning/lib/python3.6/site-packages/tensorflow/python/client/session.py\u001b[0m in \u001b[0;36m_extend_graph\u001b[0;34m(self)\u001b[0m\n\u001b[1;32m   1356\u001b[0m           \u001b[0;32mwith\u001b[0m \u001b[0merrors\u001b[0m\u001b[0;34m.\u001b[0m\u001b[0mraise_exception_on_not_ok_status\u001b[0m\u001b[0;34m(\u001b[0m\u001b[0;34m)\u001b[0m \u001b[0;32mas\u001b[0m \u001b[0mstatus\u001b[0m\u001b[0;34m:\u001b[0m\u001b[0;34m\u001b[0m\u001b[0m\n\u001b[1;32m   1357\u001b[0m             tf_session.TF_ExtendGraph(self._session,\n\u001b[0;32m-> 1358\u001b[0;31m                                       graph_def.SerializeToString(), status)\n\u001b[0m\u001b[1;32m   1359\u001b[0m           \u001b[0mself\u001b[0m\u001b[0;34m.\u001b[0m\u001b[0m_opened\u001b[0m \u001b[0;34m=\u001b[0m \u001b[0;32mTrue\u001b[0m\u001b[0;34m\u001b[0m\u001b[0m\n\u001b[1;32m   1360\u001b[0m \u001b[0;34m\u001b[0m\u001b[0m\n",
      "\u001b[0;31mKeyboardInterrupt\u001b[0m: "
     ]
    }
   ],
   "source": [
    "from scipy.spatial.distance import cdist\n",
    "import nltk\n",
    "from tqdm import tqdm\n",
    "import csv\n",
    "\n",
    "test_vectors = pickle.load(open('test_image_vector.pkl', 'rb'))\n",
    "vectors = list(map(lambda x: x['vector'], test_vectors))\n",
    "\n",
    "with open('submission.csv', 'w') as csvfile:\n",
    "    # write csv header\n",
    "    fieldnames = ['Description_ID', \"Top_20_Image_IDs\"]\n",
    "    writer = csv.DictWriter(csvfile, fieldnames=fieldnames)\n",
    "    \n",
    "    descriptin_test_base = \"./all/data/descriptions_test/\"\n",
    "    for file in tqdm(os.listdir(descriptin_test_base)):\n",
    "        if file.endswith(\".txt\"):\n",
    "            file_name = descriptin_test_base + file\n",
    "            with open(file_name) as f:\n",
    "                content = f.readlines()\n",
    "                content = [x.strip() for x in content] \n",
    "    #             all_nouns = set()\n",
    "    #             for l in content:\n",
    "    #                 nouns = [word for (word, pos) in nltk.pos_tag(nltk.word_tokenize(l)) if pos[0] == 'N']\n",
    "    #                 for n in nouns:\n",
    "    #                     all_nouns.add(n)\n",
    "\n",
    "    #         print(all_nouns)\n",
    "            print(content[-1])\n",
    "            with tf.Session() as session:\n",
    "                session.run([tf.global_variables_initializer(), tf.tables_initializer()])\n",
    "                message_embedding = session.run(embed([content[-1]])) # parallalize!!\n",
    "                dist = cdist(message_embedding, vectors, 'cosine')\n",
    "                print(dist.shape)\n",
    "\n",
    "            import numpy as np\n",
    "            sorted_id = np.argsort(dist)[:20][0]\n",
    "            top_choices =  list(map(lambda x: test_vectors[x]['name'], sorted_id[:20]))\n",
    "            print(top_choices)\n",
    "            \n",
    "            res = {}\n",
    "            res['Description_ID'] = file\n",
    "            res['Top_20_Image_IDs'] = \" \".join(top_choices)\n",
    "            writer.writerow(res)\n",
    "\n",
    "print(\"Writing Complete.\")\n",
    "\n",
    "\n",
    "\n",
    "\"\"\"\n",
    "# get the nouns of the sentence[five descriptions].\n",
    "# the images with the correct tag will form first group. others forms the other group. \n",
    "\"\"\"\n",
    "\n",
    "\"\"\"\n",
    "Visualize part. \n",
    "\"\"\"\n",
    "# import matplotlib.pyplot as plt\n",
    "# import matplotlib.image as mpimg\n",
    "# %matplotlib inline\n",
    "# test_images_base = \"./all/data/images_test/\"\n",
    "# for f in top_choices:\n",
    "#     f_path = test_images_base + f\n",
    "#     img = mpimg.imread(f_path)\n",
    "#     plt.figure()\n",
    "#     plt.imshow(img)\n",
    "#     plt.show()"
   ]
  },
  {
   "cell_type": "code",
   "execution_count": null,
   "metadata": {},
   "outputs": [],
   "source": []
  }
 ],
 "metadata": {
  "kernelspec": {
   "display_name": "Python [conda env:deep-learning]",
   "language": "python",
   "name": "conda-env-deep-learning-py"
  }
 },
 "nbformat": 4,
 "nbformat_minor": 2
}
